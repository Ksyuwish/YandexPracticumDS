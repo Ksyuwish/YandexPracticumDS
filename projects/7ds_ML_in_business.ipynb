{
 "cells": [
  {
   "cell_type": "markdown",
   "metadata": {},
   "source": [
    "# Выбор локации для скважины"
   ]
  },
  {
   "cell_type": "markdown",
   "metadata": {},
   "source": [
    "Допустим, вы работаете в добывающей компании «ГлавРосГосНефть». Нужно решить, где бурить новую скважину.\n",
    "\n",
    "Вам предоставлены пробы нефти в трёх регионах: в каждом 10 000 месторождений, где измерили качество нефти и объём её запасов. Постройте модель машинного обучения, которая поможет определить регион, где добыча принесёт наибольшую прибыль. Проанализируйте возможную прибыль и риски техникой *Bootstrap.*\n",
    "\n",
    "Шаги для выбора локации:\n",
    "\n",
    "- В избранном регионе ищут месторождения, для каждого определяют значения признаков;\n",
    "- Строят модель и оценивают объём запасов;\n",
    "- Выбирают месторождения с самым высокими оценками значений. Количество месторождений зависит от бюджета компании и стоимости разработки одной скважины;\n",
    "- Прибыль равна суммарной прибыли отобранных месторождений."
   ]
  },
  {
   "cell_type": "markdown",
   "metadata": {},
   "source": [
    "***Описание данных:***\n",
    "\n",
    "Данные геологоразведки трёх регионов находятся в файлах:\n",
    "\n",
    "`/datasets/geo_data_0.csv`\n",
    "\n",
    "`/datasets/geo_data_1.csv`\n",
    "\n",
    "`/datasets/geo_data_2.csv`\n",
    "\n",
    "* `id` — уникальный идентификатор скважины;\n",
    "* `f0, f1, f2` — три признака точек (неважно, что они означают, но сами признаки значимы);\n",
    "* `product` — объём запасов в скважине (тыс. баррелей)."
   ]
  },
  {
   "cell_type": "markdown",
   "metadata": {},
   "source": [
    "## Загрузка и подготовка данных"
   ]
  },
  {
   "cell_type": "code",
   "execution_count": 1,
   "metadata": {},
   "outputs": [
    {
     "data": {
      "text/html": [
       "<style>.container {width:90% !important; }</style>"
      ],
      "text/plain": [
       "<IPython.core.display.HTML object>"
      ]
     },
     "metadata": {},
     "output_type": "display_data"
    }
   ],
   "source": [
    "from IPython.core.display import display, HTML\n",
    "display(HTML(\"<style>.container {width:90% !important; }</style>\"))"
   ]
  },
  {
   "cell_type": "code",
   "execution_count": 2,
   "metadata": {},
   "outputs": [],
   "source": [
    "import pandas as pd\n",
    "import numpy as np\n",
    "from numpy.random import RandomState\n",
    "\n",
    "import matplotlib.pyplot as plt\n",
    "import seaborn as sns\n",
    "sns.set();\n",
    "\n",
    "from sklearn.model_selection import train_test_split\n",
    "from sklearn.linear_model import LinearRegression\n",
    "from sklearn.metrics import mean_squared_error, r2_score, mean_absolute_error\n",
    "from sklearn.preprocessing import StandardScaler"
   ]
  },
  {
   "cell_type": "code",
   "execution_count": 3,
   "metadata": {},
   "outputs": [],
   "source": [
    "RANDOM_SEED = 0"
   ]
  },
  {
   "cell_type": "code",
   "execution_count": 4,
   "metadata": {},
   "outputs": [],
   "source": [
    "df_0 = pd.read_csv('../datasets/geo_data_0_7ds.csv')\n",
    "df_1 = pd.read_csv('../datasets/geo_data_1_7ds.csv')\n",
    "df_2 = pd.read_csv('../datasets/geo_data_2_7ds.csv')"
   ]
  },
  {
   "cell_type": "code",
   "execution_count": 5,
   "metadata": {},
   "outputs": [],
   "source": [
    "show_sample = lambda x: display(x.sample(5, random_state=RANDOM_SEED).reset_index(drop=True))"
   ]
  },
  {
   "cell_type": "code",
   "execution_count": 6,
   "metadata": {},
   "outputs": [
    {
     "data": {
      "text/html": [
       "<div>\n",
       "<style scoped>\n",
       "    .dataframe tbody tr th:only-of-type {\n",
       "        vertical-align: middle;\n",
       "    }\n",
       "\n",
       "    .dataframe tbody tr th {\n",
       "        vertical-align: top;\n",
       "    }\n",
       "\n",
       "    .dataframe thead th {\n",
       "        text-align: right;\n",
       "    }\n",
       "</style>\n",
       "<table border=\"1\" class=\"dataframe\">\n",
       "  <thead>\n",
       "    <tr style=\"text-align: right;\">\n",
       "      <th></th>\n",
       "      <th>id</th>\n",
       "      <th>f0</th>\n",
       "      <th>f1</th>\n",
       "      <th>f2</th>\n",
       "      <th>product</th>\n",
       "    </tr>\n",
       "  </thead>\n",
       "  <tbody>\n",
       "    <tr>\n",
       "      <th>0</th>\n",
       "      <td>zMatX</td>\n",
       "      <td>0.881376</td>\n",
       "      <td>0.273600</td>\n",
       "      <td>2.770651</td>\n",
       "      <td>49.723143</td>\n",
       "    </tr>\n",
       "    <tr>\n",
       "      <th>1</th>\n",
       "      <td>muBEx</td>\n",
       "      <td>-0.991020</td>\n",
       "      <td>0.010620</td>\n",
       "      <td>3.233630</td>\n",
       "      <td>10.583795</td>\n",
       "    </tr>\n",
       "    <tr>\n",
       "      <th>2</th>\n",
       "      <td>DMAPr</td>\n",
       "      <td>-0.987623</td>\n",
       "      <td>0.017871</td>\n",
       "      <td>5.005426</td>\n",
       "      <td>139.110613</td>\n",
       "    </tr>\n",
       "    <tr>\n",
       "      <th>3</th>\n",
       "      <td>fasrx</td>\n",
       "      <td>2.081966</td>\n",
       "      <td>0.426730</td>\n",
       "      <td>2.638579</td>\n",
       "      <td>85.109875</td>\n",
       "    </tr>\n",
       "    <tr>\n",
       "      <th>4</th>\n",
       "      <td>0XaIy</td>\n",
       "      <td>0.850498</td>\n",
       "      <td>0.473509</td>\n",
       "      <td>3.575604</td>\n",
       "      <td>39.726827</td>\n",
       "    </tr>\n",
       "  </tbody>\n",
       "</table>\n",
       "</div>"
      ],
      "text/plain": [
       "      id        f0        f1        f2     product\n",
       "0  zMatX  0.881376  0.273600  2.770651   49.723143\n",
       "1  muBEx -0.991020  0.010620  3.233630   10.583795\n",
       "2  DMAPr -0.987623  0.017871  5.005426  139.110613\n",
       "3  fasrx  2.081966  0.426730  2.638579   85.109875\n",
       "4  0XaIy  0.850498  0.473509  3.575604   39.726827"
      ]
     },
     "metadata": {},
     "output_type": "display_data"
    },
    {
     "data": {
      "text/html": [
       "<div>\n",
       "<style scoped>\n",
       "    .dataframe tbody tr th:only-of-type {\n",
       "        vertical-align: middle;\n",
       "    }\n",
       "\n",
       "    .dataframe tbody tr th {\n",
       "        vertical-align: top;\n",
       "    }\n",
       "\n",
       "    .dataframe thead th {\n",
       "        text-align: right;\n",
       "    }\n",
       "</style>\n",
       "<table border=\"1\" class=\"dataframe\">\n",
       "  <thead>\n",
       "    <tr style=\"text-align: right;\">\n",
       "      <th></th>\n",
       "      <th>id</th>\n",
       "      <th>f0</th>\n",
       "      <th>f1</th>\n",
       "      <th>f2</th>\n",
       "      <th>product</th>\n",
       "    </tr>\n",
       "  </thead>\n",
       "  <tbody>\n",
       "    <tr>\n",
       "      <th>0</th>\n",
       "      <td>gnvG6</td>\n",
       "      <td>13.682535</td>\n",
       "      <td>-1.577749</td>\n",
       "      <td>4.999462</td>\n",
       "      <td>134.766305</td>\n",
       "    </tr>\n",
       "    <tr>\n",
       "      <th>1</th>\n",
       "      <td>KGfJ0</td>\n",
       "      <td>-4.834251</td>\n",
       "      <td>-0.349029</td>\n",
       "      <td>4.996602</td>\n",
       "      <td>137.945408</td>\n",
       "    </tr>\n",
       "    <tr>\n",
       "      <th>2</th>\n",
       "      <td>Km7yX</td>\n",
       "      <td>-7.287642</td>\n",
       "      <td>-4.184750</td>\n",
       "      <td>0.001329</td>\n",
       "      <td>3.179103</td>\n",
       "    </tr>\n",
       "    <tr>\n",
       "      <th>3</th>\n",
       "      <td>bGQtv</td>\n",
       "      <td>-10.041103</td>\n",
       "      <td>-16.919151</td>\n",
       "      <td>3.999895</td>\n",
       "      <td>110.992147</td>\n",
       "    </tr>\n",
       "    <tr>\n",
       "      <th>4</th>\n",
       "      <td>CuYNo</td>\n",
       "      <td>-8.650003</td>\n",
       "      <td>-4.526214</td>\n",
       "      <td>5.012777</td>\n",
       "      <td>137.945408</td>\n",
       "    </tr>\n",
       "  </tbody>\n",
       "</table>\n",
       "</div>"
      ],
      "text/plain": [
       "      id         f0         f1        f2     product\n",
       "0  gnvG6  13.682535  -1.577749  4.999462  134.766305\n",
       "1  KGfJ0  -4.834251  -0.349029  4.996602  137.945408\n",
       "2  Km7yX  -7.287642  -4.184750  0.001329    3.179103\n",
       "3  bGQtv -10.041103 -16.919151  3.999895  110.992147\n",
       "4  CuYNo  -8.650003  -4.526214  5.012777  137.945408"
      ]
     },
     "metadata": {},
     "output_type": "display_data"
    },
    {
     "data": {
      "text/html": [
       "<div>\n",
       "<style scoped>\n",
       "    .dataframe tbody tr th:only-of-type {\n",
       "        vertical-align: middle;\n",
       "    }\n",
       "\n",
       "    .dataframe tbody tr th {\n",
       "        vertical-align: top;\n",
       "    }\n",
       "\n",
       "    .dataframe thead th {\n",
       "        text-align: right;\n",
       "    }\n",
       "</style>\n",
       "<table border=\"1\" class=\"dataframe\">\n",
       "  <thead>\n",
       "    <tr style=\"text-align: right;\">\n",
       "      <th></th>\n",
       "      <th>id</th>\n",
       "      <th>f0</th>\n",
       "      <th>f1</th>\n",
       "      <th>f2</th>\n",
       "      <th>product</th>\n",
       "    </tr>\n",
       "  </thead>\n",
       "  <tbody>\n",
       "    <tr>\n",
       "      <th>0</th>\n",
       "      <td>GdnWX</td>\n",
       "      <td>-0.838132</td>\n",
       "      <td>-0.968042</td>\n",
       "      <td>4.074363</td>\n",
       "      <td>129.102262</td>\n",
       "    </tr>\n",
       "    <tr>\n",
       "      <th>1</th>\n",
       "      <td>z2rQ2</td>\n",
       "      <td>0.370981</td>\n",
       "      <td>-0.573846</td>\n",
       "      <td>-3.568113</td>\n",
       "      <td>61.285744</td>\n",
       "    </tr>\n",
       "    <tr>\n",
       "      <th>2</th>\n",
       "      <td>vZROH</td>\n",
       "      <td>0.856767</td>\n",
       "      <td>1.441619</td>\n",
       "      <td>4.895820</td>\n",
       "      <td>65.026246</td>\n",
       "    </tr>\n",
       "    <tr>\n",
       "      <th>3</th>\n",
       "      <td>6AgeD</td>\n",
       "      <td>1.989628</td>\n",
       "      <td>-1.343347</td>\n",
       "      <td>3.242798</td>\n",
       "      <td>62.334048</td>\n",
       "    </tr>\n",
       "    <tr>\n",
       "      <th>4</th>\n",
       "      <td>nXQ8W</td>\n",
       "      <td>2.194257</td>\n",
       "      <td>-2.180922</td>\n",
       "      <td>1.699123</td>\n",
       "      <td>150.002134</td>\n",
       "    </tr>\n",
       "  </tbody>\n",
       "</table>\n",
       "</div>"
      ],
      "text/plain": [
       "      id        f0        f1        f2     product\n",
       "0  GdnWX -0.838132 -0.968042  4.074363  129.102262\n",
       "1  z2rQ2  0.370981 -0.573846 -3.568113   61.285744\n",
       "2  vZROH  0.856767  1.441619  4.895820   65.026246\n",
       "3  6AgeD  1.989628 -1.343347  3.242798   62.334048\n",
       "4  nXQ8W  2.194257 -2.180922  1.699123  150.002134"
      ]
     },
     "metadata": {},
     "output_type": "display_data"
    }
   ],
   "source": [
    "show_sample(df_0)\n",
    "show_sample(df_1)\n",
    "show_sample(df_2)"
   ]
  },
  {
   "cell_type": "code",
   "execution_count": 7,
   "metadata": {},
   "outputs": [
    {
     "name": "stdout",
     "output_type": "stream",
     "text": [
      "Размер датасета df_0: (100000, 5)\n",
      "Размер датасета df_1: (100000, 5)\n",
      "Размер датасета df_2: (100000, 5)\n"
     ]
    }
   ],
   "source": [
    "print('Размер датасета df_0:', df_0.shape)\n",
    "print('Размер датасета df_1:', df_1.shape)\n",
    "print('Размер датасета df_2:', df_2.shape)"
   ]
  },
  {
   "cell_type": "markdown",
   "metadata": {},
   "source": [
    "Размеры трех таблиц одинаковые. "
   ]
  },
  {
   "cell_type": "code",
   "execution_count": 8,
   "metadata": {},
   "outputs": [
    {
     "name": "stdout",
     "output_type": "stream",
     "text": [
      "<class 'pandas.core.frame.DataFrame'>\n",
      "RangeIndex: 100000 entries, 0 to 99999\n",
      "Data columns (total 5 columns):\n",
      " #   Column   Non-Null Count   Dtype  \n",
      "---  ------   --------------   -----  \n",
      " 0   id       100000 non-null  object \n",
      " 1   f0       100000 non-null  float64\n",
      " 2   f1       100000 non-null  float64\n",
      " 3   f2       100000 non-null  float64\n",
      " 4   product  100000 non-null  float64\n",
      "dtypes: float64(4), object(1)\n",
      "memory usage: 3.8+ MB\n",
      "None\n",
      "----------------------------\n",
      "<class 'pandas.core.frame.DataFrame'>\n",
      "RangeIndex: 100000 entries, 0 to 99999\n",
      "Data columns (total 5 columns):\n",
      " #   Column   Non-Null Count   Dtype  \n",
      "---  ------   --------------   -----  \n",
      " 0   id       100000 non-null  object \n",
      " 1   f0       100000 non-null  float64\n",
      " 2   f1       100000 non-null  float64\n",
      " 3   f2       100000 non-null  float64\n",
      " 4   product  100000 non-null  float64\n",
      "dtypes: float64(4), object(1)\n",
      "memory usage: 3.8+ MB\n",
      "None\n",
      "----------------------------\n",
      "<class 'pandas.core.frame.DataFrame'>\n",
      "RangeIndex: 100000 entries, 0 to 99999\n",
      "Data columns (total 5 columns):\n",
      " #   Column   Non-Null Count   Dtype  \n",
      "---  ------   --------------   -----  \n",
      " 0   id       100000 non-null  object \n",
      " 1   f0       100000 non-null  float64\n",
      " 2   f1       100000 non-null  float64\n",
      " 3   f2       100000 non-null  float64\n",
      " 4   product  100000 non-null  float64\n",
      "dtypes: float64(4), object(1)\n",
      "memory usage: 3.8+ MB\n",
      "None\n"
     ]
    }
   ],
   "source": [
    "print(df_0.info(memory_usage=True))\n",
    "print('----------------------------')\n",
    "print(df_1.info(memory_usage=True))\n",
    "print('----------------------------')\n",
    "print(df_2.info(memory_usage=True))"
   ]
  },
  {
   "cell_type": "markdown",
   "metadata": {},
   "source": [
    "Видим, что разрядность слишком высокая для хранения наших данных. Поэтому мы можем оптимизировать типы данных и ускорить работу кода.  Почти все поля типа `float`  за исключением `id`."
   ]
  },
  {
   "cell_type": "code",
   "execution_count": 9,
   "metadata": {},
   "outputs": [],
   "source": [
    "float_features = df_0.select_dtypes(include='float').columns\n",
    "\n",
    "df_0[float_features] = df_0[float_features].apply(pd.to_numeric, downcast='float')\n",
    "df_1[float_features] = df_1[float_features].apply(pd.to_numeric, downcast='float')\n",
    "df_2[float_features] = df_2[float_features].apply(pd.to_numeric, downcast='float')"
   ]
  },
  {
   "cell_type": "code",
   "execution_count": 10,
   "metadata": {},
   "outputs": [
    {
     "name": "stdout",
     "output_type": "stream",
     "text": [
      "<class 'pandas.core.frame.DataFrame'>\n",
      "RangeIndex: 100000 entries, 0 to 99999\n",
      "Data columns (total 5 columns):\n",
      " #   Column   Non-Null Count   Dtype  \n",
      "---  ------   --------------   -----  \n",
      " 0   id       100000 non-null  object \n",
      " 1   f0       100000 non-null  float32\n",
      " 2   f1       100000 non-null  float32\n",
      " 3   f2       100000 non-null  float32\n",
      " 4   product  100000 non-null  float32\n",
      "dtypes: float32(4), object(1)\n",
      "memory usage: 2.3+ MB\n",
      "None\n",
      "----------------------------\n",
      "<class 'pandas.core.frame.DataFrame'>\n",
      "RangeIndex: 100000 entries, 0 to 99999\n",
      "Data columns (total 5 columns):\n",
      " #   Column   Non-Null Count   Dtype  \n",
      "---  ------   --------------   -----  \n",
      " 0   id       100000 non-null  object \n",
      " 1   f0       100000 non-null  float32\n",
      " 2   f1       100000 non-null  float32\n",
      " 3   f2       100000 non-null  float32\n",
      " 4   product  100000 non-null  float32\n",
      "dtypes: float32(4), object(1)\n",
      "memory usage: 2.3+ MB\n",
      "None\n",
      "----------------------------\n",
      "<class 'pandas.core.frame.DataFrame'>\n",
      "RangeIndex: 100000 entries, 0 to 99999\n",
      "Data columns (total 5 columns):\n",
      " #   Column   Non-Null Count   Dtype  \n",
      "---  ------   --------------   -----  \n",
      " 0   id       100000 non-null  object \n",
      " 1   f0       100000 non-null  float32\n",
      " 2   f1       100000 non-null  float32\n",
      " 3   f2       100000 non-null  float32\n",
      " 4   product  100000 non-null  float32\n",
      "dtypes: float32(4), object(1)\n",
      "memory usage: 2.3+ MB\n",
      "None\n"
     ]
    }
   ],
   "source": [
    "print(df_0.info(memory_usage=True))\n",
    "print('----------------------------')\n",
    "print(df_1.info(memory_usage=True))\n",
    "print('----------------------------')\n",
    "print(df_2.info(memory_usage=True))"
   ]
  },
  {
   "cell_type": "markdown",
   "metadata": {},
   "source": [
    "Место немного сэкономили :) Пропусков в данных нет, это и так видно. Проверим наличие дубликатов."
   ]
  },
  {
   "cell_type": "code",
   "execution_count": 11,
   "metadata": {},
   "outputs": [
    {
     "name": "stdout",
     "output_type": "stream",
     "text": [
      "Наличие дубликатов в df_0: 0\n",
      "Наличие дубликатов в df_1: 0\n",
      "Наличие дубликатов в df_2: 0\n"
     ]
    }
   ],
   "source": [
    "print('Наличие дубликатов в df_0:', df_0.duplicated().sum())\n",
    "print('Наличие дубликатов в df_1:', df_1.duplicated().sum())\n",
    "print('Наличие дубликатов в df_2:', df_2.duplicated().sum())"
   ]
  },
  {
   "cell_type": "markdown",
   "metadata": {},
   "source": [
    "Дубликатов нет."
   ]
  },
  {
   "cell_type": "markdown",
   "metadata": {},
   "source": [
    "Посмотрим распределения фичей и таргета для всех регионов."
   ]
  },
  {
   "cell_type": "code",
   "execution_count": 12,
   "metadata": {
    "scrolled": false
   },
   "outputs": [
    {
     "data": {
      "image/png": "[encoded data removed]",
      "text/plain": [
       "<Figure size 432x288 with 4 Axes>"
      ]
     },
     "metadata": {},
     "output_type": "display_data"
    },
    {
     "data": {
      "image/png": "[encoded data removed]",
      "text/plain": [
       "<Figure size 432x288 with 4 Axes>"
      ]
     },
     "metadata": {},
     "output_type": "display_data"
    },
    {
     "data": {
      "image/png": "[encoded data removed]",
      "text/plain": [
       "<Figure size 432x288 with 4 Axes>"
      ]
     },
     "metadata": {},
     "output_type": "display_data"
    }
   ],
   "source": [
    "df_range = [df_0, df_1, df_2]\n",
    "for df in df_range:\n",
    "    df[float_features].hist();\n",
    "    plt.show()\n"
   ]
  },
  {
   "cell_type": "markdown",
   "metadata": {},
   "source": [
    "Почти по всем распределениям из датасета `df_1` видим, что они отличаются от нормального, у `f0`, `f2` и `product` видим несколько пиков. В то время как распределение фичей и таргета в датасетах `df_0` и `df_2`  симметричны."
   ]
  },
  {
   "cell_type": "markdown",
   "metadata": {},
   "source": [
    "Построим корреляционные матрицы для всех регионов."
   ]
  },
  {
   "cell_type": "code",
   "execution_count": 13,
   "metadata": {},
   "outputs": [],
   "source": [
    "corr_matrix_df_0 = df_0.corr()\n",
    "corr_matrix_df_1 = df_1.corr()\n",
    "corr_matrix_df_2 = df_2.corr()"
   ]
  },
  {
   "cell_type": "code",
   "execution_count": 14,
   "metadata": {},
   "outputs": [
    {
     "data": {
      "image/png": "[encoded data removed]",
      "text/plain": [
       "<Figure size 1440x360 with 6 Axes>"
      ]
     },
     "metadata": {},
     "output_type": "display_data"
    }
   ],
   "source": [
    "plt.subplots(figsize = (20, 5))\n",
    "\n",
    "plt.subplot(1, 3, 1)\n",
    "plt.title('Тепловая карта корреляционной матрицы df_0', size=15, fontweight=\"bold\")\n",
    "sns.heatmap(corr_matrix_df_0, annot=True, fmt='.2f', \n",
    "                      linewidth=1, linecolor='black', vmax=1, center=0, cmap='ocean')\n",
    "plt.xlabel('Наименование признаков')\n",
    "plt.ylabel('Наименование признаков')\n",
    "\n",
    "plt.subplot(1, 3, 2)\n",
    "plt.title('Тепловая карта корреляционной матрицы df_1', size=15, fontweight=\"bold\")\n",
    "sns.heatmap(corr_matrix_df_1, annot=True, fmt='.2f', \n",
    "                      linewidth=1, linecolor='black', vmax=1, center=0, cmap='ocean')\n",
    "plt.xlabel('Наименование признаков')\n",
    "plt.ylabel('Наименование признаков')\n",
    "\n",
    "plt.subplot(1, 3, 3)\n",
    "plt.title('Тепловая карта корреляционной матрицы df_2', size=15, fontweight=\"bold\")\n",
    "sns.heatmap(corr_matrix_df_2, annot=True, fmt='.2f', \n",
    "                      linewidth=1, linecolor='black', vmax=1, center=0, cmap='ocean')\n",
    "plt.xlabel('Наименование признаков')\n",
    "plt.ylabel('Наименование признаков')\n",
    "\n",
    "plt.show()"
   ]
  },
  {
   "cell_type": "code",
   "execution_count": 15,
   "metadata": {},
   "outputs": [],
   "source": [
    "#https://www.askpython.com/python/examples/heatmaps-in-python\n",
    "#https://nickmccullum.com/python-visualization/subplots/\n",
    "#https://stackoverflow.com/questions/19614400/add-title-to-collection-of-pandas-hist-plots"
   ]
  },
  {
   "cell_type": "markdown",
   "metadata": {},
   "source": [
    "По первому региону видим сильную корреляцию признака `f2` с целевой переменной `product`, в остальных случаях корреляция находится в пределах разумного."
   ]
  },
  {
   "cell_type": "markdown",
   "metadata": {},
   "source": [
    "### Выводы"
   ]
  },
  {
   "cell_type": "markdown",
   "metadata": {},
   "source": [
    "* Размеры всех трех датасетов одинаковые - 100000 строк и 5 столбцов.\n",
    "* У них одинаковые поля\n",
    "* Пропусков нет\n",
    "* Дубликатов нет\n",
    "* Оптимизировали типы данных для экономии памяти\n",
    "* Почти по всем распределениям из датасета `df_1` видим, что они отличаются от нормального, у `f0`, `f2` и `product` видим несколько пиков. В то время как распределение фичей и таргета в датасетах `df_0` и `df_2`  симметричны.\n",
    "* По первому региону выидим сильную корреляцию признака `f2` с целевой переменной `product`, в остальных случаях корреляция находится в пределах разумного."
   ]
  },
  {
   "cell_type": "markdown",
   "metadata": {},
   "source": [
    "## Обучение и проверка модели для каждого региона"
   ]
  },
  {
   "cell_type": "markdown",
   "metadata": {},
   "source": [
    "### Обучение и проверка модели (c разбивкой данных на обучающую и валидационную выборки в соотношении 75:25)"
   ]
  },
  {
   "cell_type": "code",
   "execution_count": 16,
   "metadata": {},
   "outputs": [],
   "source": [
    "def split_train_pred(data):\n",
    "    '''\n",
    "    split_train_pred - функция  разбивает выборки на обучающую и валидационную, масштабирует признаки, \n",
    "    строит модель линейной регрессии\n",
    "    Input: data - таблица с данными\n",
    "    Output: predictions, rmse, r2\n",
    "    '''\n",
    "    features = data.drop(['product', 'id'], axis=1)\n",
    "    target = data['product']\n",
    "    features_train, features_valid, target_train, target_valid = train_test_split(features, target, \n",
    "                                                                                  test_size=0.25, \n",
    "                                                                                  random_state=RANDOM_SEED)\n",
    "    \n",
    "    scaler = StandardScaler()\n",
    "    features_train = scaler.fit_transform(features_train)\n",
    "    features_valid = scaler.fit_transform(features_valid)\n",
    "\n",
    "    model = LinearRegression(normalize=False)\n",
    "    model.fit(features_train, target_train)\n",
    "    predictions = model.predict(features_valid)\n",
    "    predictions = pd.Series(predictions)\n",
    "    \n",
    "    rmse = (mean_squared_error(predictions, target_valid))**(0.5)\n",
    "    average_prod = sum(predictions) / len(predictions)\n",
    "    r2 = r2_score(target_valid, predictions)\n",
    "    \n",
    "    print(\"RMSE: {:.2f}\".format(rmse))\n",
    "    print(\"Средний запас предсказанного сырья: {:.2f}\".format(average_prod))\n",
    "    print(\"Коэффициент детерминации: {:.2f}\".format(r2))\n",
    "    \n",
    "    return (predictions, target_valid.reset_index(drop=True), rmse, r2)"
   ]
  },
  {
   "cell_type": "code",
   "execution_count": 17,
   "metadata": {},
   "outputs": [],
   "source": [
    "# Based on: https://stackoverflow.com/a/17303428 (для красивого оформления результата z-теста)\n",
    "class color:\n",
    "   PURPLE = '\\033[95m'\n",
    "   CYAN = '\\033[96m'\n",
    "   DARKCYAN = '\\033[36m'\n",
    "   BLUE = '\\033[94m'\n",
    "   GREEN = '\\033[92m'\n",
    "   YELLOW = '\\033[93m'\n",
    "   RED = '\\033[91m'\n",
    "   BOLD = '\\033[1m'\n",
    "   UNDERLINE = '\\033[4m'\n",
    "   END = '\\033[0m'"
   ]
  },
  {
   "cell_type": "code",
   "execution_count": 18,
   "metadata": {},
   "outputs": [
    {
     "name": "stdout",
     "output_type": "stream",
     "text": [
      "\u001b[4mРегион df_0\u001b[0m\n",
      "RMSE: 37.48\n",
      "Средний запас предсказанного сырья: 92.51\n",
      "Коэффициент детерминации: 0.28\n",
      "__________________________________________\n",
      "\n",
      "\n",
      "\u001b[4mРегион df_1\u001b[0m\n",
      "RMSE: 0.99\n",
      "Средний запас предсказанного сырья: 68.72\n",
      "Коэффициент детерминации: 1.00\n",
      "__________________________________________\n",
      "\n",
      "\n",
      "\u001b[4mРегион df_2\u001b[0m\n",
      "RMSE: 40.31\n",
      "Средний запас предсказанного сырья: 94.84\n",
      "Коэффициент детерминации: 0.19\n",
      "__________________________________________\n",
      "\n",
      "\n"
     ]
    }
   ],
   "source": [
    "d = {}\n",
    "for region in df_range:\n",
    "    name = [x for x in globals() if globals()[x] is region][0]\n",
    "    print(color.UNDERLINE + \"Регион \" + name + color.END)\n",
    "    #сохраняем предсказания, реальные значения RMSE и R2\n",
    "    d[\"predictions\" + str(name)], d[\"target_valid\" + str(name)], d[\"rmse\" + str(name)], d[\"r2\" + str(name)] = split_train_pred(region)\n",
    "    print(\"__________________________________________\\n\\n\")"
   ]
  },
  {
   "cell_type": "markdown",
   "metadata": {},
   "source": [
    "### Выводы"
   ]
  },
  {
   "cell_type": "markdown",
   "metadata": {},
   "source": [
    "Судя по среднему запасу предсказанного сырья можно сказать, что наиболее прибыльный регион - df_1. **RMSE** - это среднеквадратичная ошибка (измеряет среднеквадратичную ошибку наших прогнозов). Чем выше это значение, тем хуже модель. Среди всех регионов RMSE хуже всех у региона  df_2. Коэффициент детерминации у региона 0 и региона 2 слишком низкий, что свидетельствует о слабой предсказательной силе нашей модели. Высокий коэффициент детерминации у df_1 региона может объясняться тем, что признак `f2` сильно коррелирует с целевой переменной `product`."
   ]
  },
  {
   "cell_type": "markdown",
   "metadata": {},
   "source": [
    "## Подготовка к расчёту прибыли"
   ]
  },
  {
   "cell_type": "markdown",
   "metadata": {},
   "source": [
    "**Вводные для расчета прибыли**\n",
    "\n",
    "- При разведке региона исследуют 500 точек, из которых с помощью машинного обучения выбирают 200 лучших для разработки.\n",
    "\n",
    "- Бюджет на разработку скважин в регионе — 10 млрд рублей.\n",
    "\n",
    "- При нынешних ценах один баррель сырья приносит 450 рублей дохода. Доход с каждой единицы продукта составляет 450 тыс. рублей, поскольку объём указан в тысячах баррелей.\n",
    "\n",
    "- После оценки рисков нужно оставить лишь те регионы, в которых вероятность убытков меньше 2.5%. Среди них выбирают регион с наибольшей средней прибылью."
   ]
  },
  {
   "cell_type": "code",
   "execution_count": 19,
   "metadata": {},
   "outputs": [],
   "source": [
    "BUDGET = 10_000_000_000\n",
    "RESEARCH_POINTS = 500\n",
    "BEST_POINTS = 200\n",
    "INCOME_PER_BARREL = 450\n",
    "INCOME_PER_PRODUCT = 450_000\n",
    "BARREL_IN_UNIT = 1000"
   ]
  },
  {
   "cell_type": "markdown",
   "metadata": {},
   "source": [
    "#### Расчет достаточного объёма сырья для безубыточной разработки новой скважины."
   ]
  },
  {
   "cell_type": "code",
   "execution_count": 20,
   "metadata": {},
   "outputs": [
    {
     "name": "stdout",
     "output_type": "stream",
     "text": [
      "Достаточный объём сырья для безубыточной разработки новой скважины: 111.11\n"
     ]
    }
   ],
   "source": [
    "MIN_VOLUME = BUDGET/BEST_POINTS/INCOME_PER_PRODUCT\n",
    "print(f'Достаточный объём сырья для безубыточной разработки новой скважины: {MIN_VOLUME:.2f}')\n",
    "\n"
   ]
  },
  {
   "cell_type": "markdown",
   "metadata": {},
   "source": [
    " ####  Сравнение полученного объём сырья со средним запасом в каждом регионе. "
   ]
  },
  {
   "cell_type": "code",
   "execution_count": 21,
   "metadata": {},
   "outputs": [
    {
     "name": "stdout",
     "output_type": "stream",
     "text": [
      "Средний запас в регионе df_0 составляет: 92.50\n",
      "Средний запас в регионе df_1 составляет: 68.82\n",
      "Средний запас в регионе df_2 составляет: 95.00\n"
     ]
    }
   ],
   "source": [
    "for i in df_range:\n",
    "    name = [x for x in globals() if globals()[x] is i][0]\n",
    "    print(f\"Средний запас в регионе {name} составляет: {i['product'].mean():.2f}\")"
   ]
  },
  {
   "cell_type": "markdown",
   "metadata": {},
   "source": [
    "Средний запас в каждом регионе ниже, чем достаточный объем сырья для безубыточной разработки новой скважины. Максимальный средний объем составляет 95 в регионе `df_2`."
   ]
  },
  {
   "cell_type": "markdown",
   "metadata": {},
   "source": [
    "### Выводы"
   ]
  },
  {
   "cell_type": "markdown",
   "metadata": {},
   "source": [
    "- Достаточный объём сырья для безубыточной разработки новой скважины: 111.11\n",
    "\n",
    "- Средний запас в каждом регионе ниже, чем достаточный объем сырья для безубыточной разработки новой скважины. Максимальный средний объем составляет 95 в регионе `df_2`."
   ]
  },
  {
   "cell_type": "markdown",
   "metadata": {},
   "source": [
    "## Функция для расчёта прибыли по выбранным скважинам и предсказаниям модели"
   ]
  },
  {
   "cell_type": "markdown",
   "metadata": {},
   "source": [
    "Напишем функцию для расчета прибыли по выбранным скважинам. Логика данной функции следующая:\n",
    "\n",
    "- Выберем скважины с максимальными значениями предсказаний\n",
    "\n",
    "- Просуммируем целевое значение объёма сырья, соответствующее этим предсказаниям\n",
    "\n",
    "- Рассчитаем прибыль для полученного объёма сырья."
   ]
  },
  {
   "cell_type": "code",
   "execution_count": 22,
   "metadata": {},
   "outputs": [],
   "source": [
    "def profit(predictions, target):\n",
    "    product_top_predicted = predictions.sort_values(ascending=False)\n",
    "    product_top_target = target[product_top_predicted.index][:BEST_POINTS]\n",
    "    return (round((product_top_target.sum()*INCOME_PER_PRODUCT)-BUDGET, 2))"
   ]
  },
  {
   "cell_type": "markdown",
   "metadata": {},
   "source": [
    "## Расчет рисков и прибыли для каждого региона"
   ]
  },
  {
   "cell_type": "markdown",
   "metadata": {},
   "source": [
    "- Применим технику Bootstrap с 1000 выборок, чтобы найти распределение прибыли.\n",
    "- Найдем среднюю прибыль, 95%-й доверительный интервал и риск убытков (Убыток — это отрицательная прибыль)\n"
   ]
  },
  {
   "cell_type": "code",
   "execution_count": 35,
   "metadata": {},
   "outputs": [
    {
     "name": "stdout",
     "output_type": "stream",
     "text": [
      "\u001b[4mРегион df_0\u001b[0m\n",
      "Средняя прибыль = 473114930.73\n",
      "95%-ый доверительный интервал: (-69756440.42724998, 1003474663.0834999)\n",
      "Риск убытков = 4.45%\n"
     ]
    },
    {
     "data": {
      "image/png": "[encoded data removed]",
      "text/plain": [
       "<Figure size 432x288 with 1 Axes>"
      ]
     },
     "metadata": {},
     "output_type": "display_data"
    },
    {
     "name": "stdout",
     "output_type": "stream",
     "text": [
      "----------------------------------------------------------------------------\n",
      "\u001b[4mРегион df_1\u001b[0m\n",
      "Средняя прибыль = 530353139.17\n",
      "95%-ый доверительный интервал: (116706025.39550003, 957826271.9749998)\n",
      "Риск убытков = 0.52%\n"
     ]
    },
    {
     "data": {
      "image/png": "[encoded data removed]",
      "text/plain": [
       "<Figure size 432x288 with 1 Axes>"
      ]
     },
     "metadata": {},
     "output_type": "display_data"
    },
    {
     "name": "stdout",
     "output_type": "stream",
     "text": [
      "----------------------------------------------------------------------------\n",
      "\u001b[4mРегион df_2\u001b[0m\n",
      "Средняя прибыль = 425031298.17\n",
      "95%-ый доверительный интервал: (-121795754.39324999, 978227641.6002499)\n",
      "Риск убытков = 6.18%\n"
     ]
    },
    {
     "data": {
      "image/png": "[encoded data removed]",
      "text/plain": [
       "<Figure size 432x288 with 1 Axes>"
      ]
     },
     "metadata": {},
     "output_type": "display_data"
    },
    {
     "name": "stdout",
     "output_type": "stream",
     "text": [
      "----------------------------------------------------------------------------\n"
     ]
    }
   ],
   "source": [
    "state = RandomState(1234)\n",
    "\n",
    "for i in df_range:\n",
    "    name = [x for x in globals() if globals()[x] is i][0]\n",
    "    \n",
    "    target = d[\"target_valid\" + str(name)]\n",
    "    predictions = d[\"predictions\" + str(name)]\n",
    "    \n",
    "    profit_values = []\n",
    "    for j in range(10000):\n",
    "        target_sample = target.sample(n=RESEARCH_POINTS, replace=True, random_state=state) #Allow or disallow sampling of the same row more than once.\n",
    "        predictions_sample = predictions[target_sample.index]\n",
    "        profit_values.append(profit(predictions_sample, target_sample))\n",
    "    profit_values = pd.Series(profit_values)\n",
    "        \n",
    "    mean_profit = profit_values.mean()\n",
    "    confidence_interval = (profit_values.quantile(0.025), profit_values.quantile(0.975))\n",
    "    negative_profit_chance = (profit_values < 0).mean()\n",
    "    \n",
    "    print(color.UNDERLINE + \"Регион \" + name + color.END)\n",
    "    print(f\"Средняя прибыль = {mean_profit:.2f}\")\n",
    "    print(f\"95%-ый доверительный интервал: {confidence_interval}\")\n",
    "    print(f\"Риск убытков = {negative_profit_chance:.2%}\")\n",
    "\n",
    "    plt.title('Распределение прибыли в регионе '+ str(name), fontsize=16)\n",
    "    plt.hist(profit_values, alpha=0.5, bins=15)\n",
    "    plt.xlabel('Прибыль')\n",
    "    plt.ylabel('Частота')\n",
    "    plt.show()\n",
    "    \n",
    "    print('----------------------------------------------------------------------------')"
   ]
  },
  {
   "cell_type": "markdown",
   "metadata": {},
   "source": [
    "### Выводы\n",
    "\n",
    "В части рисков нам подходит только регион `df_1`, т.к. это единственный регион, который удовлетворяет условию вероятности убытков меньше 2.5%, здесь риск убытков составляет 0.52%. Также этот регион характеризуется наибольшей средней прибылью (она составляет 530 353 139 руб.)\n",
    "\n",
    "Однако данные по региону `df_1` выглядят не вполне исследованными, а именно:\n",
    "\n",
    "- Вызывает подозрение корреляция признака `f2` с целевой переменной `product`, а также коэффициент детерминации, близкий к 1 - мы получили идеальную модель для предсказаний\n",
    "\n",
    "Для проведения исследования с разных сторон может оказаться полезным:\n",
    "\n",
    "- Использование менее консервативных моделей - например, градиентного бустинга\n",
    "\n",
    "- Пересмотр критериев риска, тогда можно присмотреться к региону `df_0 `"
   ]
  },
  {
   "cell_type": "markdown",
   "metadata": {},
   "source": [
    "## Финальные выводы"
   ]
  },
  {
   "cell_type": "markdown",
   "metadata": {},
   "source": [
    "## Чек-лист готовности проекта"
   ]
  },
  {
   "cell_type": "markdown",
   "metadata": {},
   "source": [
    "Поставьте 'x' в выполненных пунктах. Далее нажмите Shift+Enter."
   ]
  },
  {
   "cell_type": "markdown",
   "metadata": {},
   "source": [
    "- [x]  Jupyter Notebook открыт\n",
    "- [x]  Весь код выполняется без ошибок\n",
    "- [x]  Ячейки с кодом расположены в порядке исполнения\n",
    "- [x]  Выполнен шаг 1: данные подготовлены\n",
    "- [ ]  Выполнен шаг 2: модели обучены и проверены\n",
    "    - [ ]  Данные корректно разбиты на обучающую и валидационную выборки\n",
    "    - [ ]  Модели обучены, предсказания сделаны\n",
    "    - [ ]  Предсказания и правильные ответы на валидационной выборке сохранены\n",
    "    - [ ]  На экране напечатаны результаты\n",
    "    - [ ]  Сделаны выводы\n",
    "- [ ]  Выполнен шаг 3: проведена подготовка к расчёту прибыли\n",
    "    - [ ]  Для всех ключевых значений созданы константы Python\n",
    "    - [ ]  Посчитано минимальное среднее количество продукта в месторождениях региона, достаточное для разработки\n",
    "    - [ ]  По предыдущему пункту сделаны выводы\n",
    "    - [ ]  Написана функция расчёта прибыли\n",
    "- [ ]  Выполнен шаг 4: посчитаны риски и прибыль\n",
    "    - [ ]  Проведена процедура *Bootstrap*\n",
    "    - [ ]  Все параметры бутстрепа соответствуют условию\n",
    "    - [ ]  Найдены все нужные величины\n",
    "    - [ ]  Предложен регион для разработки месторождения\n",
    "    - [ ]  Выбор региона обоснован"
   ]
  },
  {
   "cell_type": "code",
   "execution_count": null,
   "metadata": {},
   "outputs": [],
   "source": []
  }
 ],
 "metadata": {
  "kernelspec": {
   "display_name": "Python 3",
   "language": "python",
   "name": "python3"
  },
  "language_info": {
   "codemirror_mode": {
    "name": "ipython",
    "version": 3
   },
   "file_extension": ".py",
   "mimetype": "text/x-python",
   "name": "python",
   "nbconvert_exporter": "python",
   "pygments_lexer": "ipython3",
   "version": "3.7.10"
  },
  "toc": {
   "base_numbering": 1,
   "nav_menu": {},
   "number_sections": true,
   "sideBar": true,
   "skip_h1_title": true,
   "title_cell": "Table of Contents",
   "title_sidebar": "Contents",
   "toc_cell": false,
   "toc_position": {},
   "toc_section_display": true,
   "toc_window_display": false
  }
 },
 "nbformat": 4,
 "nbformat_minor": 2
}
