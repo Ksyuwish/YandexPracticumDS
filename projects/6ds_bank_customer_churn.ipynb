{
 "cells": [
  {
   "cell_type": "markdown",
   "metadata": {
    "toc": true
   },
   "source": [
    "<h1>Содержание<span class=\"tocSkip\"></span></h1>\n",
    "<div class=\"toc\"><ul class=\"toc-item\"><li><span><a href=\"#Подготовка-данных\" data-toc-modified-id=\"Подготовка-данных-1\"><span class=\"toc-item-num\">1&nbsp;&nbsp;</span>Подготовка данных</a></span></li><li><span><a href=\"#Исследование-задачи\" data-toc-modified-id=\"Исследование-задачи-2\"><span class=\"toc-item-num\">2&nbsp;&nbsp;</span>Исследование задачи</a></span></li><li><span><a href=\"#Борьба-с-дисбалансом\" data-toc-modified-id=\"Борьба-с-дисбалансом-3\"><span class=\"toc-item-num\">3&nbsp;&nbsp;</span>Борьба с дисбалансом</a></span></li><li><span><a href=\"#Тестирование-модели\" data-toc-modified-id=\"Тестирование-модели-4\"><span class=\"toc-item-num\">4&nbsp;&nbsp;</span>Тестирование модели</a></span></li><li><span><a href=\"#Чек-лист-готовности-проекта\" data-toc-modified-id=\"Чек-лист-готовности-проекта-5\"><span class=\"toc-item-num\">5&nbsp;&nbsp;</span>Чек-лист готовности проекта</a></span></li></ul></div>"
   ]
  },
  {
   "cell_type": "markdown",
   "metadata": {},
   "source": [
    "# Отток клиентов"
   ]
  },
  {
   "cell_type": "markdown",
   "metadata": {},
   "source": [
    "Из «Бета-Банка» стали уходить клиенты. Каждый месяц. Немного, но заметно. Банковские маркетологи посчитали: сохранять текущих клиентов дешевле, чем привлекать новых.\n",
    "\n",
    "Нужно спрогнозировать, уйдёт клиент из банка в ближайшее время или нет. Вам предоставлены исторические данные о поведении клиентов и расторжении договоров с банком. \n",
    "\n",
    "Постройте модель с предельно большим значением *F1*-меры. Чтобы сдать проект успешно, нужно довести метрику до 0.59. Проверьте *F1*-меру на тестовой выборке самостоятельно.\n",
    "\n",
    "Дополнительно измеряйте *AUC-ROC*, сравнивайте её значение с *F1*-мерой.\n",
    "\n",
    "Источник данных: [https://www.kaggle.com/barelydedicated/bank-customer-churn-modeling](https://www.kaggle.com/barelydedicated/bank-customer-churn-modeling)"
   ]
  },
  {
   "cell_type": "markdown",
   "metadata": {},
   "source": [
    "### Описание данных\n",
    "\n",
    "`/datasets/Churn.csv`\n",
    "\n",
    "\n",
    "***Признаки***\n",
    "\n",
    "- `RowNumber` — индекс строки в данных\n",
    "\n",
    "- `CustomerId` — уникальный идентификатор клиента\n",
    "\n",
    "- `Surname` — фамилия\n",
    "\n",
    "- `CreditScore` — кредитный рейтинг\n",
    "\n",
    "- `Geography` — страна проживания\n",
    "\n",
    "- `Gender` — пол\n",
    "\n",
    "- `Age` — возраст\n",
    "\n",
    "- `Tenure` — сколько лет человек является клиентом банка\n",
    "\n",
    "- `Balance` — баланс на счёте\n",
    "\n",
    "- `NumOfProducts` — количество продуктов банка, используемых клиентом\n",
    "\n",
    "- `HasCrCard` — наличие кредитной карты\n",
    "\n",
    "- `IsActiveMember` — активность клиента\n",
    "\n",
    "- `EstimatedSalary` — предполагаемая зарплата\n",
    "\n",
    "***Целевой признак***\n",
    "\n",
    "- `Exited` — факт ухода клиента"
   ]
  },
  {
   "cell_type": "markdown",
   "metadata": {},
   "source": [
    "## Подготовка данных"
   ]
  },
  {
   "cell_type": "markdown",
   "metadata": {},
   "source": [
    "### Изучение общей информации"
   ]
  },
  {
   "cell_type": "code",
   "execution_count": 72,
   "metadata": {},
   "outputs": [],
   "source": [
    "# !pip install --user -q pandas-profiling\n",
    "# !conda install -c conda-forge pandas-profiling"
   ]
  },
  {
   "cell_type": "code",
   "execution_count": 73,
   "metadata": {},
   "outputs": [
    {
     "data": {
      "text/html": [
       "<style>.container {width:90% !important; }</style>"
      ],
      "text/plain": [
       "<IPython.core.display.HTML object>"
      ]
     },
     "metadata": {},
     "output_type": "display_data"
    }
   ],
   "source": [
    "from IPython.core.display import display, HTML\n",
    "display(HTML(\"<style>.container {width:90% !important; }</style>\"))"
   ]
  },
  {
   "cell_type": "code",
   "execution_count": 74,
   "metadata": {},
   "outputs": [],
   "source": [
    "import pandas as pd\n",
    "\n",
    "import matplotlib.pyplot as plt\n",
    "import seaborn as sns\n",
    "sns.set()\n",
    "\n",
    "from sklearn.model_selection import train_test_split\n",
    "from sklearn.preprocessing import StandardScaler\n",
    "from sklearn.tree import DecisionTreeClassifier\n",
    "from sklearn.ensemble import RandomForestClassifier\n",
    "from sklearn.linear_model import LogisticRegression\n",
    "from sklearn.metrics import confusion_matrix\n",
    "\n",
    "from sklearn.metrics import recall_score\n",
    "from sklearn.metrics  import accuracy_score\n",
    "from sklearn.metrics import precision_score\n",
    "from sklearn.metrics import f1_score, roc_auc_score\n",
    "from sklearn.metrics import accuracy_score, confusion_matrix, classification_report\n",
    "from sklearn.utils import shuffle\n",
    "%matplotlib inline\n",
    "\n",
    "import warnings\n",
    "warnings.filterwarnings(\"ignore\")"
   ]
  },
  {
   "cell_type": "code",
   "execution_count": 75,
   "metadata": {},
   "outputs": [],
   "source": [
    "# from sklearn.model_selection import train_test_split\n",
    "# from sklearn.tree import DecisionTreeClassifier\n",
    "# from sklearn.metrics import accuracy_score\n",
    "# from sklearn.ensemble import RandomForestClassifier\n",
    "# from sklearn.linear_model import LogisticRegression\n",
    "# from sklearn.metrics import recall_score"
   ]
  },
  {
   "cell_type": "code",
   "execution_count": 76,
   "metadata": {},
   "outputs": [],
   "source": [
    "RANDOM_SEED = 0"
   ]
  },
  {
   "cell_type": "code",
   "execution_count": 77,
   "metadata": {},
   "outputs": [],
   "source": [
    "show_sample = lambda x: display(x.sample(5, random_state=RANDOM_SEED).reset_index(drop=True))"
   ]
  },
  {
   "cell_type": "code",
   "execution_count": 78,
   "metadata": {},
   "outputs": [],
   "source": [
    "df = pd.read_csv('../datasets/bank_customer_churn_6ds.csv')"
   ]
  },
  {
   "cell_type": "code",
   "execution_count": 79,
   "metadata": {},
   "outputs": [
    {
     "data": {
      "text/html": [
       "<div>\n",
       "<style scoped>\n",
       "    .dataframe tbody tr th:only-of-type {\n",
       "        vertical-align: middle;\n",
       "    }\n",
       "\n",
       "    .dataframe tbody tr th {\n",
       "        vertical-align: top;\n",
       "    }\n",
       "\n",
       "    .dataframe thead th {\n",
       "        text-align: right;\n",
       "    }\n",
       "</style>\n",
       "<table border=\"1\" class=\"dataframe\">\n",
       "  <thead>\n",
       "    <tr style=\"text-align: right;\">\n",
       "      <th></th>\n",
       "      <th>RowNumber</th>\n",
       "      <th>CustomerId</th>\n",
       "      <th>Surname</th>\n",
       "      <th>CreditScore</th>\n",
       "      <th>Geography</th>\n",
       "      <th>Gender</th>\n",
       "      <th>Age</th>\n",
       "      <th>Tenure</th>\n",
       "      <th>Balance</th>\n",
       "      <th>NumOfProducts</th>\n",
       "      <th>HasCrCard</th>\n",
       "      <th>IsActiveMember</th>\n",
       "      <th>EstimatedSalary</th>\n",
       "      <th>Exited</th>\n",
       "    </tr>\n",
       "  </thead>\n",
       "  <tbody>\n",
       "    <tr>\n",
       "      <th>0</th>\n",
       "      <td>9395</td>\n",
       "      <td>15615753</td>\n",
       "      <td>Upchurch</td>\n",
       "      <td>597</td>\n",
       "      <td>Germany</td>\n",
       "      <td>Female</td>\n",
       "      <td>35</td>\n",
       "      <td>8.0</td>\n",
       "      <td>131101.04</td>\n",
       "      <td>1</td>\n",
       "      <td>1</td>\n",
       "      <td>1</td>\n",
       "      <td>192852.67</td>\n",
       "      <td>0</td>\n",
       "    </tr>\n",
       "    <tr>\n",
       "      <th>1</th>\n",
       "      <td>899</td>\n",
       "      <td>15654700</td>\n",
       "      <td>Fallaci</td>\n",
       "      <td>523</td>\n",
       "      <td>France</td>\n",
       "      <td>Female</td>\n",
       "      <td>40</td>\n",
       "      <td>2.0</td>\n",
       "      <td>102967.41</td>\n",
       "      <td>1</td>\n",
       "      <td>1</td>\n",
       "      <td>0</td>\n",
       "      <td>128702.10</td>\n",
       "      <td>1</td>\n",
       "    </tr>\n",
       "    <tr>\n",
       "      <th>2</th>\n",
       "      <td>2399</td>\n",
       "      <td>15633877</td>\n",
       "      <td>Morrison</td>\n",
       "      <td>706</td>\n",
       "      <td>Spain</td>\n",
       "      <td>Female</td>\n",
       "      <td>42</td>\n",
       "      <td>8.0</td>\n",
       "      <td>95386.82</td>\n",
       "      <td>1</td>\n",
       "      <td>1</td>\n",
       "      <td>1</td>\n",
       "      <td>75732.25</td>\n",
       "      <td>0</td>\n",
       "    </tr>\n",
       "    <tr>\n",
       "      <th>3</th>\n",
       "      <td>5907</td>\n",
       "      <td>15745623</td>\n",
       "      <td>Worsnop</td>\n",
       "      <td>788</td>\n",
       "      <td>France</td>\n",
       "      <td>Male</td>\n",
       "      <td>32</td>\n",
       "      <td>4.0</td>\n",
       "      <td>112079.58</td>\n",
       "      <td>1</td>\n",
       "      <td>0</td>\n",
       "      <td>0</td>\n",
       "      <td>89368.59</td>\n",
       "      <td>0</td>\n",
       "    </tr>\n",
       "    <tr>\n",
       "      <th>4</th>\n",
       "      <td>2344</td>\n",
       "      <td>15765902</td>\n",
       "      <td>Gibson</td>\n",
       "      <td>706</td>\n",
       "      <td>Germany</td>\n",
       "      <td>Male</td>\n",
       "      <td>38</td>\n",
       "      <td>5.0</td>\n",
       "      <td>163034.82</td>\n",
       "      <td>2</td>\n",
       "      <td>1</td>\n",
       "      <td>1</td>\n",
       "      <td>135662.17</td>\n",
       "      <td>0</td>\n",
       "    </tr>\n",
       "  </tbody>\n",
       "</table>\n",
       "</div>"
      ],
      "text/plain": [
       "   RowNumber  CustomerId   Surname  CreditScore Geography  Gender  Age  \\\n",
       "0       9395    15615753  Upchurch          597   Germany  Female   35   \n",
       "1        899    15654700   Fallaci          523    France  Female   40   \n",
       "2       2399    15633877  Morrison          706     Spain  Female   42   \n",
       "3       5907    15745623   Worsnop          788    France    Male   32   \n",
       "4       2344    15765902    Gibson          706   Germany    Male   38   \n",
       "\n",
       "   Tenure    Balance  NumOfProducts  HasCrCard  IsActiveMember  \\\n",
       "0     8.0  131101.04              1          1               1   \n",
       "1     2.0  102967.41              1          1               0   \n",
       "2     8.0   95386.82              1          1               1   \n",
       "3     4.0  112079.58              1          0               0   \n",
       "4     5.0  163034.82              2          1               1   \n",
       "\n",
       "   EstimatedSalary  Exited  \n",
       "0        192852.67       0  \n",
       "1        128702.10       1  \n",
       "2         75732.25       0  \n",
       "3         89368.59       0  \n",
       "4        135662.17       0  "
      ]
     },
     "metadata": {},
     "output_type": "display_data"
    }
   ],
   "source": [
    "show_sample(df)"
   ]
  },
  {
   "cell_type": "code",
   "execution_count": 80,
   "metadata": {},
   "outputs": [
    {
     "name": "stdout",
     "output_type": "stream",
     "text": [
      "Размер датасета:  (10000, 14)\n"
     ]
    }
   ],
   "source": [
    "print('Размер датасета: ', df.shape)"
   ]
  },
  {
   "cell_type": "code",
   "execution_count": 81,
   "metadata": {},
   "outputs": [
    {
     "name": "stdout",
     "output_type": "stream",
     "text": [
      "<class 'pandas.core.frame.DataFrame'>\n",
      "RangeIndex: 10000 entries, 0 to 9999\n",
      "Data columns (total 14 columns):\n",
      " #   Column           Non-Null Count  Dtype  \n",
      "---  ------           --------------  -----  \n",
      " 0   RowNumber        10000 non-null  int64  \n",
      " 1   CustomerId       10000 non-null  int64  \n",
      " 2   Surname          10000 non-null  object \n",
      " 3   CreditScore      10000 non-null  int64  \n",
      " 4   Geography        10000 non-null  object \n",
      " 5   Gender           10000 non-null  object \n",
      " 6   Age              10000 non-null  int64  \n",
      " 7   Tenure           9091 non-null   float64\n",
      " 8   Balance          10000 non-null  float64\n",
      " 9   NumOfProducts    10000 non-null  int64  \n",
      " 10  HasCrCard        10000 non-null  int64  \n",
      " 11  IsActiveMember   10000 non-null  int64  \n",
      " 12  EstimatedSalary  10000 non-null  float64\n",
      " 13  Exited           10000 non-null  int64  \n",
      "dtypes: float64(3), int64(8), object(3)\n",
      "memory usage: 1.1+ MB\n"
     ]
    }
   ],
   "source": [
    "df.info(memory_usage=True)"
   ]
  },
  {
   "cell_type": "markdown",
   "metadata": {},
   "source": [
    "Видим, что разрядность не очень оптимальная для наших данных. Оптимизируем типы данных."
   ]
  },
  {
   "cell_type": "code",
   "execution_count": 82,
   "metadata": {},
   "outputs": [],
   "source": [
    "float_features = df.select_dtypes(include='float').columns\n",
    "int_features = df.select_dtypes(include='integer').columns\n",
    "\n",
    "df[float_features] = df[float_features].apply(pd.to_numeric, downcast='float')\n",
    "df[int_features] = df[int_features].apply(pd.to_numeric, downcast='signed')"
   ]
  },
  {
   "cell_type": "code",
   "execution_count": 83,
   "metadata": {},
   "outputs": [
    {
     "name": "stdout",
     "output_type": "stream",
     "text": [
      "<class 'pandas.core.frame.DataFrame'>\n",
      "RangeIndex: 10000 entries, 0 to 9999\n",
      "Data columns (total 14 columns):\n",
      " #   Column           Non-Null Count  Dtype  \n",
      "---  ------           --------------  -----  \n",
      " 0   RowNumber        10000 non-null  int16  \n",
      " 1   CustomerId       10000 non-null  int32  \n",
      " 2   Surname          10000 non-null  object \n",
      " 3   CreditScore      10000 non-null  int16  \n",
      " 4   Geography        10000 non-null  object \n",
      " 5   Gender           10000 non-null  object \n",
      " 6   Age              10000 non-null  int8   \n",
      " 7   Tenure           9091 non-null   float32\n",
      " 8   Balance          10000 non-null  float32\n",
      " 9   NumOfProducts    10000 non-null  int8   \n",
      " 10  HasCrCard        10000 non-null  int8   \n",
      " 11  IsActiveMember   10000 non-null  int8   \n",
      " 12  EstimatedSalary  10000 non-null  float32\n",
      " 13  Exited           10000 non-null  int8   \n",
      "dtypes: float32(3), int16(2), int32(1), int8(5), object(3)\n",
      "memory usage: 478.6+ KB\n"
     ]
    }
   ],
   "source": [
    "df.info(memory_usage=True)"
   ]
  },
  {
   "cell_type": "markdown",
   "metadata": {},
   "source": [
    "Видим, что сократили объем памяти почти в 2 раза."
   ]
  },
  {
   "cell_type": "code",
   "execution_count": 84,
   "metadata": {},
   "outputs": [
    {
     "data": {
      "text/html": [
       "<style  type=\"text/css\" >\n",
       "#T_24d1a_row0_col0,#T_24d1a_row1_col0,#T_24d1a_row2_col0,#T_24d1a_row3_col0,#T_24d1a_row4_col0,#T_24d1a_row5_col0,#T_24d1a_row6_col0,#T_24d1a_row8_col0,#T_24d1a_row9_col0,#T_24d1a_row10_col0,#T_24d1a_row11_col0,#T_24d1a_row12_col0,#T_24d1a_row13_col0{\n",
       "            background-color:  #3b4cc0;\n",
       "            color:  #f1f1f1;\n",
       "        }#T_24d1a_row7_col0{\n",
       "            background-color:  #b40426;\n",
       "            color:  #f1f1f1;\n",
       "        }</style><table id=\"T_24d1a_\" ><caption>% пропусков</caption><thead>    <tr>        <th class=\"blank level0\" ></th>        <th class=\"col_heading level0 col0\" >0</th>    </tr></thead><tbody>\n",
       "                <tr>\n",
       "                        <th id=\"T_24d1a_level0_row0\" class=\"row_heading level0 row0\" >RowNumber</th>\n",
       "                        <td id=\"T_24d1a_row0_col0\" class=\"data row0 col0\" >0.00%</td>\n",
       "            </tr>\n",
       "            <tr>\n",
       "                        <th id=\"T_24d1a_level0_row1\" class=\"row_heading level0 row1\" >CustomerId</th>\n",
       "                        <td id=\"T_24d1a_row1_col0\" class=\"data row1 col0\" >0.00%</td>\n",
       "            </tr>\n",
       "            <tr>\n",
       "                        <th id=\"T_24d1a_level0_row2\" class=\"row_heading level0 row2\" >Surname</th>\n",
       "                        <td id=\"T_24d1a_row2_col0\" class=\"data row2 col0\" >0.00%</td>\n",
       "            </tr>\n",
       "            <tr>\n",
       "                        <th id=\"T_24d1a_level0_row3\" class=\"row_heading level0 row3\" >CreditScore</th>\n",
       "                        <td id=\"T_24d1a_row3_col0\" class=\"data row3 col0\" >0.00%</td>\n",
       "            </tr>\n",
       "            <tr>\n",
       "                        <th id=\"T_24d1a_level0_row4\" class=\"row_heading level0 row4\" >Geography</th>\n",
       "                        <td id=\"T_24d1a_row4_col0\" class=\"data row4 col0\" >0.00%</td>\n",
       "            </tr>\n",
       "            <tr>\n",
       "                        <th id=\"T_24d1a_level0_row5\" class=\"row_heading level0 row5\" >Gender</th>\n",
       "                        <td id=\"T_24d1a_row5_col0\" class=\"data row5 col0\" >0.00%</td>\n",
       "            </tr>\n",
       "            <tr>\n",
       "                        <th id=\"T_24d1a_level0_row6\" class=\"row_heading level0 row6\" >Age</th>\n",
       "                        <td id=\"T_24d1a_row6_col0\" class=\"data row6 col0\" >0.00%</td>\n",
       "            </tr>\n",
       "            <tr>\n",
       "                        <th id=\"T_24d1a_level0_row7\" class=\"row_heading level0 row7\" >Tenure</th>\n",
       "                        <td id=\"T_24d1a_row7_col0\" class=\"data row7 col0\" >9.00%</td>\n",
       "            </tr>\n",
       "            <tr>\n",
       "                        <th id=\"T_24d1a_level0_row8\" class=\"row_heading level0 row8\" >Balance</th>\n",
       "                        <td id=\"T_24d1a_row8_col0\" class=\"data row8 col0\" >0.00%</td>\n",
       "            </tr>\n",
       "            <tr>\n",
       "                        <th id=\"T_24d1a_level0_row9\" class=\"row_heading level0 row9\" >NumOfProducts</th>\n",
       "                        <td id=\"T_24d1a_row9_col0\" class=\"data row9 col0\" >0.00%</td>\n",
       "            </tr>\n",
       "            <tr>\n",
       "                        <th id=\"T_24d1a_level0_row10\" class=\"row_heading level0 row10\" >HasCrCard</th>\n",
       "                        <td id=\"T_24d1a_row10_col0\" class=\"data row10 col0\" >0.00%</td>\n",
       "            </tr>\n",
       "            <tr>\n",
       "                        <th id=\"T_24d1a_level0_row11\" class=\"row_heading level0 row11\" >IsActiveMember</th>\n",
       "                        <td id=\"T_24d1a_row11_col0\" class=\"data row11 col0\" >0.00%</td>\n",
       "            </tr>\n",
       "            <tr>\n",
       "                        <th id=\"T_24d1a_level0_row12\" class=\"row_heading level0 row12\" >EstimatedSalary</th>\n",
       "                        <td id=\"T_24d1a_row12_col0\" class=\"data row12 col0\" >0.00%</td>\n",
       "            </tr>\n",
       "            <tr>\n",
       "                        <th id=\"T_24d1a_level0_row13\" class=\"row_heading level0 row13\" >Exited</th>\n",
       "                        <td id=\"T_24d1a_row13_col0\" class=\"data row13 col0\" >0.00%</td>\n",
       "            </tr>\n",
       "    </tbody></table>"
      ],
      "text/plain": [
       "<pandas.io.formats.style.Styler at 0x142f4a8bc48>"
      ]
     },
     "execution_count": 84,
     "metadata": {},
     "output_type": "execute_result"
    }
   ],
   "source": [
    "pd.DataFrame(round((df.isna().mean()), 2)).style.background_gradient('coolwarm')\\\n",
    "                                                                .set_caption('% пропусков').format({0:'{:.2%}'.format})"
   ]
  },
  {
   "cell_type": "markdown",
   "metadata": {},
   "source": [
    "Пропуски имеются только в столбце \"Tenure\"."
   ]
  },
  {
   "cell_type": "markdown",
   "metadata": {},
   "source": [
    "### Подготовка данных"
   ]
  },
  {
   "cell_type": "code",
   "execution_count": 85,
   "metadata": {},
   "outputs": [
    {
     "data": {
      "text/plain": [
       "array([ 2.,  1.,  8.,  7.,  4.,  6.,  3., 10.,  5.,  9.,  0., nan],\n",
       "      dtype=float32)"
      ]
     },
     "execution_count": 85,
     "metadata": {},
     "output_type": "execute_result"
    }
   ],
   "source": [
    "df.Tenure.unique()"
   ]
  },
  {
   "cell_type": "markdown",
   "metadata": {},
   "source": [
    "Столбец `Tenure` лучше перевести в формат `int`. Но прежде чем это сделать, обработаем пропуски, заполнив медианой. Предположим, что этот показатель зависит от возрастной категории и от страны проживания (возрастная категория - потому что зачастую банки ориентированы на определенную возрастную категорию, страна проживания - потому что зачастую банки выходят на рынок определенной страны в определенный период)."
   ]
  },
  {
   "cell_type": "code",
   "execution_count": 86,
   "metadata": {},
   "outputs": [
    {
     "data": {
      "text/html": [
       "<div>\n",
       "<style scoped>\n",
       "    .dataframe tbody tr th:only-of-type {\n",
       "        vertical-align: middle;\n",
       "    }\n",
       "\n",
       "    .dataframe tbody tr th {\n",
       "        vertical-align: top;\n",
       "    }\n",
       "\n",
       "    .dataframe thead th {\n",
       "        text-align: right;\n",
       "    }\n",
       "</style>\n",
       "<table border=\"1\" class=\"dataframe\">\n",
       "  <thead>\n",
       "    <tr style=\"text-align: right;\">\n",
       "      <th></th>\n",
       "      <th></th>\n",
       "      <th>Tenure</th>\n",
       "    </tr>\n",
       "    <tr>\n",
       "      <th>age_cat</th>\n",
       "      <th>Geography</th>\n",
       "      <th></th>\n",
       "    </tr>\n",
       "  </thead>\n",
       "  <tbody>\n",
       "    <tr>\n",
       "      <th rowspan=\"3\" valign=\"top\">(17.999, 32.0]</th>\n",
       "      <th>France</th>\n",
       "      <td>1340</td>\n",
       "    </tr>\n",
       "    <tr>\n",
       "      <th>Germany</th>\n",
       "      <td>583</td>\n",
       "    </tr>\n",
       "    <tr>\n",
       "      <th>Spain</th>\n",
       "      <td>613</td>\n",
       "    </tr>\n",
       "    <tr>\n",
       "      <th rowspan=\"3\" valign=\"top\">(32.0, 37.0]</th>\n",
       "      <th>France</th>\n",
       "      <td>1077</td>\n",
       "    </tr>\n",
       "    <tr>\n",
       "      <th>Germany</th>\n",
       "      <td>480</td>\n",
       "    </tr>\n",
       "    <tr>\n",
       "      <th>Spain</th>\n",
       "      <td>525</td>\n",
       "    </tr>\n",
       "    <tr>\n",
       "      <th rowspan=\"3\" valign=\"top\">(37.0, 44.0]</th>\n",
       "      <th>France</th>\n",
       "      <td>1136</td>\n",
       "    </tr>\n",
       "    <tr>\n",
       "      <th>Germany</th>\n",
       "      <td>592</td>\n",
       "    </tr>\n",
       "    <tr>\n",
       "      <th>Spain</th>\n",
       "      <td>599</td>\n",
       "    </tr>\n",
       "    <tr>\n",
       "      <th rowspan=\"3\" valign=\"top\">(44.0, 60.0]</th>\n",
       "      <th>France</th>\n",
       "      <td>779</td>\n",
       "    </tr>\n",
       "    <tr>\n",
       "      <th>Germany</th>\n",
       "      <td>531</td>\n",
       "    </tr>\n",
       "    <tr>\n",
       "      <th>Spain</th>\n",
       "      <td>403</td>\n",
       "    </tr>\n",
       "    <tr>\n",
       "      <th rowspan=\"3\" valign=\"top\">(60.0, 92.0]</th>\n",
       "      <th>France</th>\n",
       "      <td>218</td>\n",
       "    </tr>\n",
       "    <tr>\n",
       "      <th>Germany</th>\n",
       "      <td>107</td>\n",
       "    </tr>\n",
       "    <tr>\n",
       "      <th>Spain</th>\n",
       "      <td>108</td>\n",
       "    </tr>\n",
       "  </tbody>\n",
       "</table>\n",
       "</div>"
      ],
      "text/plain": [
       "                          Tenure\n",
       "age_cat        Geography        \n",
       "(17.999, 32.0] France       1340\n",
       "               Germany       583\n",
       "               Spain         613\n",
       "(32.0, 37.0]   France       1077\n",
       "               Germany       480\n",
       "               Spain         525\n",
       "(37.0, 44.0]   France       1136\n",
       "               Germany       592\n",
       "               Spain         599\n",
       "(44.0, 60.0]   France        779\n",
       "               Germany       531\n",
       "               Spain         403\n",
       "(60.0, 92.0]   France        218\n",
       "               Germany       107\n",
       "               Spain         108"
      ]
     },
     "execution_count": 86,
     "metadata": {},
     "output_type": "execute_result"
    }
   ],
   "source": [
    "df['age_cat'] = pd.qcut(df['Age'], q=[0, 0.25, 0.5, 0.75, 0.95, 1])\n",
    "df.groupby(['age_cat', 'Geography']).agg({'Tenure':'count'})"
   ]
  },
  {
   "cell_type": "markdown",
   "metadata": {},
   "source": [
    "В принципе выборка репрезентативна, так что можем смело заполнять пропуски медианой."
   ]
  },
  {
   "cell_type": "code",
   "execution_count": 87,
   "metadata": {},
   "outputs": [],
   "source": [
    "df['Tenure'] = df['Tenure'].fillna(df.groupby(['age_cat', 'Geography'])['Tenure'].transform('median'))\n",
    "df['Tenure'] = df['Tenure'].astype('int')\n",
    "df['Tenure'] = pd.to_numeric(df['Tenure'], downcast='signed')"
   ]
  },
  {
   "cell_type": "code",
   "execution_count": 88,
   "metadata": {},
   "outputs": [
    {
     "data": {
      "text/html": [
       "<div>\n",
       "<style scoped>\n",
       "    .dataframe tbody tr th:only-of-type {\n",
       "        vertical-align: middle;\n",
       "    }\n",
       "\n",
       "    .dataframe tbody tr th {\n",
       "        vertical-align: top;\n",
       "    }\n",
       "\n",
       "    .dataframe thead th {\n",
       "        text-align: right;\n",
       "    }\n",
       "</style>\n",
       "<table border=\"1\" class=\"dataframe\">\n",
       "  <thead>\n",
       "    <tr style=\"text-align: right;\">\n",
       "      <th></th>\n",
       "      <th>RowNumber</th>\n",
       "      <th>CustomerId</th>\n",
       "      <th>Surname</th>\n",
       "      <th>CreditScore</th>\n",
       "      <th>Geography</th>\n",
       "      <th>Gender</th>\n",
       "      <th>Age</th>\n",
       "      <th>Tenure</th>\n",
       "      <th>Balance</th>\n",
       "      <th>NumOfProducts</th>\n",
       "      <th>HasCrCard</th>\n",
       "      <th>IsActiveMember</th>\n",
       "      <th>EstimatedSalary</th>\n",
       "      <th>Exited</th>\n",
       "      <th>age_cat</th>\n",
       "    </tr>\n",
       "  </thead>\n",
       "  <tbody>\n",
       "    <tr>\n",
       "      <th>0</th>\n",
       "      <td>9395</td>\n",
       "      <td>15615753</td>\n",
       "      <td>Upchurch</td>\n",
       "      <td>597</td>\n",
       "      <td>Germany</td>\n",
       "      <td>Female</td>\n",
       "      <td>35</td>\n",
       "      <td>8</td>\n",
       "      <td>131101.046875</td>\n",
       "      <td>1</td>\n",
       "      <td>1</td>\n",
       "      <td>1</td>\n",
       "      <td>192852.671875</td>\n",
       "      <td>0</td>\n",
       "      <td>(32.0, 37.0]</td>\n",
       "    </tr>\n",
       "    <tr>\n",
       "      <th>1</th>\n",
       "      <td>899</td>\n",
       "      <td>15654700</td>\n",
       "      <td>Fallaci</td>\n",
       "      <td>523</td>\n",
       "      <td>France</td>\n",
       "      <td>Female</td>\n",
       "      <td>40</td>\n",
       "      <td>2</td>\n",
       "      <td>102967.406250</td>\n",
       "      <td>1</td>\n",
       "      <td>1</td>\n",
       "      <td>0</td>\n",
       "      <td>128702.101562</td>\n",
       "      <td>1</td>\n",
       "      <td>(37.0, 44.0]</td>\n",
       "    </tr>\n",
       "    <tr>\n",
       "      <th>2</th>\n",
       "      <td>2399</td>\n",
       "      <td>15633877</td>\n",
       "      <td>Morrison</td>\n",
       "      <td>706</td>\n",
       "      <td>Spain</td>\n",
       "      <td>Female</td>\n",
       "      <td>42</td>\n",
       "      <td>8</td>\n",
       "      <td>95386.820312</td>\n",
       "      <td>1</td>\n",
       "      <td>1</td>\n",
       "      <td>1</td>\n",
       "      <td>75732.250000</td>\n",
       "      <td>0</td>\n",
       "      <td>(37.0, 44.0]</td>\n",
       "    </tr>\n",
       "    <tr>\n",
       "      <th>3</th>\n",
       "      <td>5907</td>\n",
       "      <td>15745623</td>\n",
       "      <td>Worsnop</td>\n",
       "      <td>788</td>\n",
       "      <td>France</td>\n",
       "      <td>Male</td>\n",
       "      <td>32</td>\n",
       "      <td>4</td>\n",
       "      <td>112079.578125</td>\n",
       "      <td>1</td>\n",
       "      <td>0</td>\n",
       "      <td>0</td>\n",
       "      <td>89368.593750</td>\n",
       "      <td>0</td>\n",
       "      <td>(17.999, 32.0]</td>\n",
       "    </tr>\n",
       "    <tr>\n",
       "      <th>4</th>\n",
       "      <td>2344</td>\n",
       "      <td>15765902</td>\n",
       "      <td>Gibson</td>\n",
       "      <td>706</td>\n",
       "      <td>Germany</td>\n",
       "      <td>Male</td>\n",
       "      <td>38</td>\n",
       "      <td>5</td>\n",
       "      <td>163034.812500</td>\n",
       "      <td>2</td>\n",
       "      <td>1</td>\n",
       "      <td>1</td>\n",
       "      <td>135662.171875</td>\n",
       "      <td>0</td>\n",
       "      <td>(37.0, 44.0]</td>\n",
       "    </tr>\n",
       "  </tbody>\n",
       "</table>\n",
       "</div>"
      ],
      "text/plain": [
       "   RowNumber  CustomerId   Surname  CreditScore Geography  Gender  Age  \\\n",
       "0       9395    15615753  Upchurch          597   Germany  Female   35   \n",
       "1        899    15654700   Fallaci          523    France  Female   40   \n",
       "2       2399    15633877  Morrison          706     Spain  Female   42   \n",
       "3       5907    15745623   Worsnop          788    France    Male   32   \n",
       "4       2344    15765902    Gibson          706   Germany    Male   38   \n",
       "\n",
       "   Tenure        Balance  NumOfProducts  HasCrCard  IsActiveMember  \\\n",
       "0       8  131101.046875              1          1               1   \n",
       "1       2  102967.406250              1          1               0   \n",
       "2       8   95386.820312              1          1               1   \n",
       "3       4  112079.578125              1          0               0   \n",
       "4       5  163034.812500              2          1               1   \n",
       "\n",
       "   EstimatedSalary  Exited         age_cat  \n",
       "0    192852.671875       0    (32.0, 37.0]  \n",
       "1    128702.101562       1    (37.0, 44.0]  \n",
       "2     75732.250000       0    (37.0, 44.0]  \n",
       "3     89368.593750       0  (17.999, 32.0]  \n",
       "4    135662.171875       0    (37.0, 44.0]  "
      ]
     },
     "metadata": {},
     "output_type": "display_data"
    }
   ],
   "source": [
    "show_sample(df)"
   ]
  },
  {
   "cell_type": "code",
   "execution_count": 89,
   "metadata": {},
   "outputs": [
    {
     "data": {
      "text/html": [
       "<div>\n",
       "<style scoped>\n",
       "    .dataframe tbody tr th:only-of-type {\n",
       "        vertical-align: middle;\n",
       "    }\n",
       "\n",
       "    .dataframe tbody tr th {\n",
       "        vertical-align: top;\n",
       "    }\n",
       "\n",
       "    .dataframe thead th {\n",
       "        text-align: right;\n",
       "    }\n",
       "</style>\n",
       "<table border=\"1\" class=\"dataframe\">\n",
       "  <thead>\n",
       "    <tr style=\"text-align: right;\">\n",
       "      <th></th>\n",
       "      <th>count</th>\n",
       "      <th>mean</th>\n",
       "      <th>std</th>\n",
       "      <th>min</th>\n",
       "      <th>25%</th>\n",
       "      <th>50%</th>\n",
       "      <th>75%</th>\n",
       "      <th>max</th>\n",
       "    </tr>\n",
       "  </thead>\n",
       "  <tbody>\n",
       "    <tr>\n",
       "      <th>RowNumber</th>\n",
       "      <td>10000.0</td>\n",
       "      <td>5.000500e+03</td>\n",
       "      <td>2886.895680</td>\n",
       "      <td>1.00</td>\n",
       "      <td>2.500750e+03</td>\n",
       "      <td>5.000500e+03</td>\n",
       "      <td>7.500250e+03</td>\n",
       "      <td>1.000000e+04</td>\n",
       "    </tr>\n",
       "    <tr>\n",
       "      <th>CustomerId</th>\n",
       "      <td>10000.0</td>\n",
       "      <td>1.569094e+07</td>\n",
       "      <td>71936.186123</td>\n",
       "      <td>15565701.00</td>\n",
       "      <td>1.562853e+07</td>\n",
       "      <td>1.569074e+07</td>\n",
       "      <td>1.575323e+07</td>\n",
       "      <td>1.581569e+07</td>\n",
       "    </tr>\n",
       "    <tr>\n",
       "      <th>CreditScore</th>\n",
       "      <td>10000.0</td>\n",
       "      <td>6.505288e+02</td>\n",
       "      <td>96.653299</td>\n",
       "      <td>350.00</td>\n",
       "      <td>5.840000e+02</td>\n",
       "      <td>6.520000e+02</td>\n",
       "      <td>7.180000e+02</td>\n",
       "      <td>8.500000e+02</td>\n",
       "    </tr>\n",
       "    <tr>\n",
       "      <th>Age</th>\n",
       "      <td>10000.0</td>\n",
       "      <td>3.892180e+01</td>\n",
       "      <td>10.487806</td>\n",
       "      <td>18.00</td>\n",
       "      <td>3.200000e+01</td>\n",
       "      <td>3.700000e+01</td>\n",
       "      <td>4.400000e+01</td>\n",
       "      <td>9.200000e+01</td>\n",
       "    </tr>\n",
       "    <tr>\n",
       "      <th>Tenure</th>\n",
       "      <td>10000.0</td>\n",
       "      <td>4.997900e+00</td>\n",
       "      <td>2.760010</td>\n",
       "      <td>0.00</td>\n",
       "      <td>3.000000e+00</td>\n",
       "      <td>5.000000e+00</td>\n",
       "      <td>7.000000e+00</td>\n",
       "      <td>1.000000e+01</td>\n",
       "    </tr>\n",
       "    <tr>\n",
       "      <th>Balance</th>\n",
       "      <td>10000.0</td>\n",
       "      <td>7.648589e+04</td>\n",
       "      <td>62397.406250</td>\n",
       "      <td>0.00</td>\n",
       "      <td>0.000000e+00</td>\n",
       "      <td>9.719854e+04</td>\n",
       "      <td>1.276442e+05</td>\n",
       "      <td>2.508981e+05</td>\n",
       "    </tr>\n",
       "    <tr>\n",
       "      <th>NumOfProducts</th>\n",
       "      <td>10000.0</td>\n",
       "      <td>1.530200e+00</td>\n",
       "      <td>0.581654</td>\n",
       "      <td>1.00</td>\n",
       "      <td>1.000000e+00</td>\n",
       "      <td>1.000000e+00</td>\n",
       "      <td>2.000000e+00</td>\n",
       "      <td>4.000000e+00</td>\n",
       "    </tr>\n",
       "    <tr>\n",
       "      <th>HasCrCard</th>\n",
       "      <td>10000.0</td>\n",
       "      <td>7.055000e-01</td>\n",
       "      <td>0.455840</td>\n",
       "      <td>0.00</td>\n",
       "      <td>0.000000e+00</td>\n",
       "      <td>1.000000e+00</td>\n",
       "      <td>1.000000e+00</td>\n",
       "      <td>1.000000e+00</td>\n",
       "    </tr>\n",
       "    <tr>\n",
       "      <th>IsActiveMember</th>\n",
       "      <td>10000.0</td>\n",
       "      <td>5.151000e-01</td>\n",
       "      <td>0.499797</td>\n",
       "      <td>0.00</td>\n",
       "      <td>0.000000e+00</td>\n",
       "      <td>1.000000e+00</td>\n",
       "      <td>1.000000e+00</td>\n",
       "      <td>1.000000e+00</td>\n",
       "    </tr>\n",
       "    <tr>\n",
       "      <th>EstimatedSalary</th>\n",
       "      <td>10000.0</td>\n",
       "      <td>1.000902e+05</td>\n",
       "      <td>57510.492188</td>\n",
       "      <td>11.58</td>\n",
       "      <td>5.100211e+04</td>\n",
       "      <td>1.001939e+05</td>\n",
       "      <td>1.493883e+05</td>\n",
       "      <td>1.999925e+05</td>\n",
       "    </tr>\n",
       "    <tr>\n",
       "      <th>Exited</th>\n",
       "      <td>10000.0</td>\n",
       "      <td>2.037000e-01</td>\n",
       "      <td>0.402769</td>\n",
       "      <td>0.00</td>\n",
       "      <td>0.000000e+00</td>\n",
       "      <td>0.000000e+00</td>\n",
       "      <td>0.000000e+00</td>\n",
       "      <td>1.000000e+00</td>\n",
       "    </tr>\n",
       "  </tbody>\n",
       "</table>\n",
       "</div>"
      ],
      "text/plain": [
       "                   count          mean           std          min  \\\n",
       "RowNumber        10000.0  5.000500e+03   2886.895680         1.00   \n",
       "CustomerId       10000.0  1.569094e+07  71936.186123  15565701.00   \n",
       "CreditScore      10000.0  6.505288e+02     96.653299       350.00   \n",
       "Age              10000.0  3.892180e+01     10.487806        18.00   \n",
       "Tenure           10000.0  4.997900e+00      2.760010         0.00   \n",
       "Balance          10000.0  7.648589e+04  62397.406250         0.00   \n",
       "NumOfProducts    10000.0  1.530200e+00      0.581654         1.00   \n",
       "HasCrCard        10000.0  7.055000e-01      0.455840         0.00   \n",
       "IsActiveMember   10000.0  5.151000e-01      0.499797         0.00   \n",
       "EstimatedSalary  10000.0  1.000902e+05  57510.492188        11.58   \n",
       "Exited           10000.0  2.037000e-01      0.402769         0.00   \n",
       "\n",
       "                          25%           50%           75%           max  \n",
       "RowNumber        2.500750e+03  5.000500e+03  7.500250e+03  1.000000e+04  \n",
       "CustomerId       1.562853e+07  1.569074e+07  1.575323e+07  1.581569e+07  \n",
       "CreditScore      5.840000e+02  6.520000e+02  7.180000e+02  8.500000e+02  \n",
       "Age              3.200000e+01  3.700000e+01  4.400000e+01  9.200000e+01  \n",
       "Tenure           3.000000e+00  5.000000e+00  7.000000e+00  1.000000e+01  \n",
       "Balance          0.000000e+00  9.719854e+04  1.276442e+05  2.508981e+05  \n",
       "NumOfProducts    1.000000e+00  1.000000e+00  2.000000e+00  4.000000e+00  \n",
       "HasCrCard        0.000000e+00  1.000000e+00  1.000000e+00  1.000000e+00  \n",
       "IsActiveMember   0.000000e+00  1.000000e+00  1.000000e+00  1.000000e+00  \n",
       "EstimatedSalary  5.100211e+04  1.001939e+05  1.493883e+05  1.999925e+05  \n",
       "Exited           0.000000e+00  0.000000e+00  0.000000e+00  1.000000e+00  "
      ]
     },
     "execution_count": 89,
     "metadata": {},
     "output_type": "execute_result"
    }
   ],
   "source": [
    "df.describe().T"
   ]
  },
  {
   "cell_type": "code",
   "execution_count": 90,
   "metadata": {},
   "outputs": [
    {
     "data": {
      "text/html": [
       "<div>\n",
       "<style scoped>\n",
       "    .dataframe tbody tr th:only-of-type {\n",
       "        vertical-align: middle;\n",
       "    }\n",
       "\n",
       "    .dataframe tbody tr th {\n",
       "        vertical-align: top;\n",
       "    }\n",
       "\n",
       "    .dataframe thead th {\n",
       "        text-align: right;\n",
       "    }\n",
       "</style>\n",
       "<table border=\"1\" class=\"dataframe\">\n",
       "  <thead>\n",
       "    <tr style=\"text-align: right;\">\n",
       "      <th></th>\n",
       "      <th>count</th>\n",
       "      <th>unique</th>\n",
       "      <th>top</th>\n",
       "      <th>freq</th>\n",
       "    </tr>\n",
       "  </thead>\n",
       "  <tbody>\n",
       "    <tr>\n",
       "      <th>Surname</th>\n",
       "      <td>10000</td>\n",
       "      <td>2932</td>\n",
       "      <td>Smith</td>\n",
       "      <td>32</td>\n",
       "    </tr>\n",
       "    <tr>\n",
       "      <th>Geography</th>\n",
       "      <td>10000</td>\n",
       "      <td>3</td>\n",
       "      <td>France</td>\n",
       "      <td>5014</td>\n",
       "    </tr>\n",
       "    <tr>\n",
       "      <th>Gender</th>\n",
       "      <td>10000</td>\n",
       "      <td>2</td>\n",
       "      <td>Male</td>\n",
       "      <td>5457</td>\n",
       "    </tr>\n",
       "  </tbody>\n",
       "</table>\n",
       "</div>"
      ],
      "text/plain": [
       "           count unique     top  freq\n",
       "Surname    10000   2932   Smith    32\n",
       "Geography  10000      3  France  5014\n",
       "Gender     10000      2    Male  5457"
      ]
     },
     "execution_count": 90,
     "metadata": {},
     "output_type": "execute_result"
    }
   ],
   "source": [
    "df.describe(include='object').T"
   ]
  },
  {
   "cell_type": "code",
   "execution_count": 91,
   "metadata": {},
   "outputs": [
    {
     "name": "stdout",
     "output_type": "stream",
     "text": [
      "Кол-во дубликатов:  0\n"
     ]
    }
   ],
   "source": [
    "print('Кол-во дубликатов: ', df.duplicated().sum())"
   ]
  },
  {
   "cell_type": "markdown",
   "metadata": {},
   "source": [
    "Больше всего людей в датасете с фамилией Smith и из Франции - 5014 значений. В данных превалирующее число мужчин. Дубликатов не обнаружено."
   ]
  },
  {
   "cell_type": "markdown",
   "metadata": {},
   "source": [
    "Сгруппируем листы из названий столбцов, чтобы выбрать наиболее релевантные для нас столбцы."
   ]
  },
  {
   "cell_type": "code",
   "execution_count": 92,
   "metadata": {},
   "outputs": [],
   "source": [
    "var_numeric = ['CreditScore', 'Age', 'Tenure', 'Balance', 'NumOfProducts', 'HasCrCard', 'IsActiveMember', \n",
    "               'EstimatedSalary']\n",
    "var_obj = ['Geography', 'Gender']\n",
    "var_useless = ['RowNumber', 'CustomerId', 'Surname', 'age_cat']"
   ]
  },
  {
   "cell_type": "markdown",
   "metadata": {},
   "source": [
    "### Удаление нерелевантных столбцов"
   ]
  },
  {
   "cell_type": "code",
   "execution_count": 93,
   "metadata": {},
   "outputs": [],
   "source": [
    "df = df.drop(df[var_useless], axis = 1)"
   ]
  },
  {
   "cell_type": "markdown",
   "metadata": {},
   "source": [
    "### Преобразование категориальных данных"
   ]
  },
  {
   "cell_type": "markdown",
   "metadata": {},
   "source": [
    "Для того чтобы преобразовать категориальные данные будем использовать метод One Hot Encoding."
   ]
  },
  {
   "cell_type": "code",
   "execution_count": 94,
   "metadata": {},
   "outputs": [],
   "source": [
    "df_ohe = pd.get_dummies(df, drop_first=True,  columns=var_obj)"
   ]
  },
  {
   "cell_type": "code",
   "execution_count": 95,
   "metadata": {},
   "outputs": [
    {
     "data": {
      "text/html": [
       "<div>\n",
       "<style scoped>\n",
       "    .dataframe tbody tr th:only-of-type {\n",
       "        vertical-align: middle;\n",
       "    }\n",
       "\n",
       "    .dataframe tbody tr th {\n",
       "        vertical-align: top;\n",
       "    }\n",
       "\n",
       "    .dataframe thead th {\n",
       "        text-align: right;\n",
       "    }\n",
       "</style>\n",
       "<table border=\"1\" class=\"dataframe\">\n",
       "  <thead>\n",
       "    <tr style=\"text-align: right;\">\n",
       "      <th></th>\n",
       "      <th>CreditScore</th>\n",
       "      <th>Age</th>\n",
       "      <th>Tenure</th>\n",
       "      <th>Balance</th>\n",
       "      <th>NumOfProducts</th>\n",
       "      <th>HasCrCard</th>\n",
       "      <th>IsActiveMember</th>\n",
       "      <th>EstimatedSalary</th>\n",
       "      <th>Exited</th>\n",
       "      <th>Geography_Germany</th>\n",
       "      <th>Geography_Spain</th>\n",
       "      <th>Gender_Male</th>\n",
       "    </tr>\n",
       "  </thead>\n",
       "  <tbody>\n",
       "    <tr>\n",
       "      <th>0</th>\n",
       "      <td>619</td>\n",
       "      <td>42</td>\n",
       "      <td>2</td>\n",
       "      <td>0.000000</td>\n",
       "      <td>1</td>\n",
       "      <td>1</td>\n",
       "      <td>1</td>\n",
       "      <td>101348.882812</td>\n",
       "      <td>1</td>\n",
       "      <td>0</td>\n",
       "      <td>0</td>\n",
       "      <td>0</td>\n",
       "    </tr>\n",
       "    <tr>\n",
       "      <th>1</th>\n",
       "      <td>608</td>\n",
       "      <td>41</td>\n",
       "      <td>1</td>\n",
       "      <td>83807.859375</td>\n",
       "      <td>1</td>\n",
       "      <td>0</td>\n",
       "      <td>1</td>\n",
       "      <td>112542.578125</td>\n",
       "      <td>0</td>\n",
       "      <td>0</td>\n",
       "      <td>1</td>\n",
       "      <td>0</td>\n",
       "    </tr>\n",
       "    <tr>\n",
       "      <th>2</th>\n",
       "      <td>502</td>\n",
       "      <td>42</td>\n",
       "      <td>8</td>\n",
       "      <td>159660.796875</td>\n",
       "      <td>3</td>\n",
       "      <td>1</td>\n",
       "      <td>0</td>\n",
       "      <td>113931.570312</td>\n",
       "      <td>1</td>\n",
       "      <td>0</td>\n",
       "      <td>0</td>\n",
       "      <td>0</td>\n",
       "    </tr>\n",
       "    <tr>\n",
       "      <th>3</th>\n",
       "      <td>699</td>\n",
       "      <td>39</td>\n",
       "      <td>1</td>\n",
       "      <td>0.000000</td>\n",
       "      <td>2</td>\n",
       "      <td>0</td>\n",
       "      <td>0</td>\n",
       "      <td>93826.632812</td>\n",
       "      <td>0</td>\n",
       "      <td>0</td>\n",
       "      <td>0</td>\n",
       "      <td>0</td>\n",
       "    </tr>\n",
       "    <tr>\n",
       "      <th>4</th>\n",
       "      <td>850</td>\n",
       "      <td>43</td>\n",
       "      <td>2</td>\n",
       "      <td>125510.820312</td>\n",
       "      <td>1</td>\n",
       "      <td>1</td>\n",
       "      <td>1</td>\n",
       "      <td>79084.101562</td>\n",
       "      <td>0</td>\n",
       "      <td>0</td>\n",
       "      <td>1</td>\n",
       "      <td>0</td>\n",
       "    </tr>\n",
       "    <tr>\n",
       "      <th>...</th>\n",
       "      <td>...</td>\n",
       "      <td>...</td>\n",
       "      <td>...</td>\n",
       "      <td>...</td>\n",
       "      <td>...</td>\n",
       "      <td>...</td>\n",
       "      <td>...</td>\n",
       "      <td>...</td>\n",
       "      <td>...</td>\n",
       "      <td>...</td>\n",
       "      <td>...</td>\n",
       "      <td>...</td>\n",
       "    </tr>\n",
       "    <tr>\n",
       "      <th>9995</th>\n",
       "      <td>771</td>\n",
       "      <td>39</td>\n",
       "      <td>5</td>\n",
       "      <td>0.000000</td>\n",
       "      <td>2</td>\n",
       "      <td>1</td>\n",
       "      <td>0</td>\n",
       "      <td>96270.640625</td>\n",
       "      <td>0</td>\n",
       "      <td>0</td>\n",
       "      <td>0</td>\n",
       "      <td>1</td>\n",
       "    </tr>\n",
       "    <tr>\n",
       "      <th>9996</th>\n",
       "      <td>516</td>\n",
       "      <td>35</td>\n",
       "      <td>10</td>\n",
       "      <td>57369.609375</td>\n",
       "      <td>1</td>\n",
       "      <td>1</td>\n",
       "      <td>1</td>\n",
       "      <td>101699.773438</td>\n",
       "      <td>0</td>\n",
       "      <td>0</td>\n",
       "      <td>0</td>\n",
       "      <td>1</td>\n",
       "    </tr>\n",
       "    <tr>\n",
       "      <th>9997</th>\n",
       "      <td>709</td>\n",
       "      <td>36</td>\n",
       "      <td>7</td>\n",
       "      <td>0.000000</td>\n",
       "      <td>1</td>\n",
       "      <td>0</td>\n",
       "      <td>1</td>\n",
       "      <td>42085.578125</td>\n",
       "      <td>1</td>\n",
       "      <td>0</td>\n",
       "      <td>0</td>\n",
       "      <td>0</td>\n",
       "    </tr>\n",
       "    <tr>\n",
       "      <th>9998</th>\n",
       "      <td>772</td>\n",
       "      <td>42</td>\n",
       "      <td>3</td>\n",
       "      <td>75075.312500</td>\n",
       "      <td>2</td>\n",
       "      <td>1</td>\n",
       "      <td>0</td>\n",
       "      <td>92888.523438</td>\n",
       "      <td>1</td>\n",
       "      <td>1</td>\n",
       "      <td>0</td>\n",
       "      <td>1</td>\n",
       "    </tr>\n",
       "    <tr>\n",
       "      <th>9999</th>\n",
       "      <td>792</td>\n",
       "      <td>28</td>\n",
       "      <td>5</td>\n",
       "      <td>130142.789062</td>\n",
       "      <td>1</td>\n",
       "      <td>1</td>\n",
       "      <td>0</td>\n",
       "      <td>38190.781250</td>\n",
       "      <td>0</td>\n",
       "      <td>0</td>\n",
       "      <td>0</td>\n",
       "      <td>0</td>\n",
       "    </tr>\n",
       "  </tbody>\n",
       "</table>\n",
       "<p>10000 rows × 12 columns</p>\n",
       "</div>"
      ],
      "text/plain": [
       "      CreditScore  Age  Tenure        Balance  NumOfProducts  HasCrCard  \\\n",
       "0             619   42       2       0.000000              1          1   \n",
       "1             608   41       1   83807.859375              1          0   \n",
       "2             502   42       8  159660.796875              3          1   \n",
       "3             699   39       1       0.000000              2          0   \n",
       "4             850   43       2  125510.820312              1          1   \n",
       "...           ...  ...     ...            ...            ...        ...   \n",
       "9995          771   39       5       0.000000              2          1   \n",
       "9996          516   35      10   57369.609375              1          1   \n",
       "9997          709   36       7       0.000000              1          0   \n",
       "9998          772   42       3   75075.312500              2          1   \n",
       "9999          792   28       5  130142.789062              1          1   \n",
       "\n",
       "      IsActiveMember  EstimatedSalary  Exited  Geography_Germany  \\\n",
       "0                  1    101348.882812       1                  0   \n",
       "1                  1    112542.578125       0                  0   \n",
       "2                  0    113931.570312       1                  0   \n",
       "3                  0     93826.632812       0                  0   \n",
       "4                  1     79084.101562       0                  0   \n",
       "...              ...              ...     ...                ...   \n",
       "9995               0     96270.640625       0                  0   \n",
       "9996               1    101699.773438       0                  0   \n",
       "9997               1     42085.578125       1                  0   \n",
       "9998               0     92888.523438       1                  1   \n",
       "9999               0     38190.781250       0                  0   \n",
       "\n",
       "      Geography_Spain  Gender_Male  \n",
       "0                   0            0  \n",
       "1                   1            0  \n",
       "2                   0            0  \n",
       "3                   0            0  \n",
       "4                   1            0  \n",
       "...               ...          ...  \n",
       "9995                0            1  \n",
       "9996                0            1  \n",
       "9997                0            0  \n",
       "9998                0            1  \n",
       "9999                0            0  \n",
       "\n",
       "[10000 rows x 12 columns]"
      ]
     },
     "execution_count": 95,
     "metadata": {},
     "output_type": "execute_result"
    }
   ],
   "source": [
    "df_ohe"
   ]
  },
  {
   "cell_type": "markdown",
   "metadata": {},
   "source": [
    "### Разделение на обучающую, валидационную и тестовую выборки"
   ]
  },
  {
   "cell_type": "code",
   "execution_count": 96,
   "metadata": {},
   "outputs": [],
   "source": [
    "features = df_ohe.drop(['Exited'], axis=1)\n",
    "target = df_ohe['Exited']"
   ]
  },
  {
   "cell_type": "code",
   "execution_count": 97,
   "metadata": {},
   "outputs": [],
   "source": [
    "features_train, features_valid, target_train, target_valid = train_test_split(features, \n",
    "                                                                target, test_size=0.4, random_state=RANDOM_SEED)\n",
    "features_valid, features_test, target_valid, target_test = train_test_split(features_valid, target_valid, test_size=0.5,\n",
    "                                                                            random_state=RANDOM_SEED)"
   ]
  },
  {
   "cell_type": "markdown",
   "metadata": {},
   "source": [
    "Проверим в правильном ли соотношении разделились выборки."
   ]
  },
  {
   "cell_type": "code",
   "execution_count": 98,
   "metadata": {},
   "outputs": [
    {
     "name": "stdout",
     "output_type": "stream",
     "text": [
      "(6000, 11)\n",
      "(6000,)\n",
      "-----\n",
      "(2000, 11)\n",
      "(2000,)\n",
      "-----\n",
      "(2000, 11)\n",
      "(2000,)\n"
     ]
    }
   ],
   "source": [
    "print(features_train.shape)\n",
    "print(target_train.shape)\n",
    "\n",
    "print('-----')\n",
    "\n",
    "print(features_valid.shape)\n",
    "print(target_valid.shape)\n",
    "\n",
    "print('-----')\n",
    "\n",
    "print(features_test.shape)\n",
    "print(target_test.shape)"
   ]
  },
  {
   "cell_type": "markdown",
   "metadata": {},
   "source": [
    "Да, соотношение 3/1/1"
   ]
  },
  {
   "cell_type": "markdown",
   "metadata": {},
   "source": [
    "### Масштабирование"
   ]
  },
  {
   "cell_type": "markdown",
   "metadata": {},
   "source": [
    "Осуществим масштабирование признаков для улучшения сходимости модели, используя  стандартизацию данных."
   ]
  },
  {
   "cell_type": "code",
   "execution_count": 99,
   "metadata": {},
   "outputs": [],
   "source": [
    "scaler = StandardScaler()\n",
    "features_train[var_numeric] = scaler.fit_transform(features_train[var_numeric])\n",
    "features_valid[var_numeric] = scaler.fit_transform(features_valid[var_numeric])\n",
    "features_test[var_numeric] = scaler.fit_transform(features_test[var_numeric])"
   ]
  },
  {
   "cell_type": "code",
   "execution_count": 100,
   "metadata": {},
   "outputs": [
    {
     "data": {
      "text/html": [
       "<div>\n",
       "<style scoped>\n",
       "    .dataframe tbody tr th:only-of-type {\n",
       "        vertical-align: middle;\n",
       "    }\n",
       "\n",
       "    .dataframe tbody tr th {\n",
       "        vertical-align: top;\n",
       "    }\n",
       "\n",
       "    .dataframe thead th {\n",
       "        text-align: right;\n",
       "    }\n",
       "</style>\n",
       "<table border=\"1\" class=\"dataframe\">\n",
       "  <thead>\n",
       "    <tr style=\"text-align: right;\">\n",
       "      <th></th>\n",
       "      <th>CreditScore</th>\n",
       "      <th>Age</th>\n",
       "      <th>Tenure</th>\n",
       "      <th>Balance</th>\n",
       "      <th>NumOfProducts</th>\n",
       "      <th>HasCrCard</th>\n",
       "      <th>IsActiveMember</th>\n",
       "      <th>EstimatedSalary</th>\n",
       "      <th>Geography_Germany</th>\n",
       "      <th>Geography_Spain</th>\n",
       "      <th>Gender_Male</th>\n",
       "    </tr>\n",
       "  </thead>\n",
       "  <tbody>\n",
       "    <tr>\n",
       "      <th>0</th>\n",
       "      <td>-2.541333</td>\n",
       "      <td>0.015752</td>\n",
       "      <td>1.811957</td>\n",
       "      <td>-1.199501</td>\n",
       "      <td>-0.936474</td>\n",
       "      <td>0.642724</td>\n",
       "      <td>-1.034253</td>\n",
       "      <td>1.050995</td>\n",
       "      <td>0</td>\n",
       "      <td>0</td>\n",
       "      <td>1</td>\n",
       "    </tr>\n",
       "    <tr>\n",
       "      <th>1</th>\n",
       "      <td>-0.785740</td>\n",
       "      <td>-0.272981</td>\n",
       "      <td>0.726519</td>\n",
       "      <td>-1.199501</td>\n",
       "      <td>-0.936474</td>\n",
       "      <td>0.642724</td>\n",
       "      <td>0.966881</td>\n",
       "      <td>-0.768401</td>\n",
       "      <td>0</td>\n",
       "      <td>0</td>\n",
       "      <td>1</td>\n",
       "    </tr>\n",
       "    <tr>\n",
       "      <th>2</th>\n",
       "      <td>0.432848</td>\n",
       "      <td>0.593218</td>\n",
       "      <td>-0.358918</td>\n",
       "      <td>-1.199501</td>\n",
       "      <td>0.798808</td>\n",
       "      <td>0.642724</td>\n",
       "      <td>0.966881</td>\n",
       "      <td>-1.276024</td>\n",
       "      <td>0</td>\n",
       "      <td>1</td>\n",
       "      <td>0</td>\n",
       "    </tr>\n",
       "    <tr>\n",
       "      <th>3</th>\n",
       "      <td>0.515465</td>\n",
       "      <td>-0.176737</td>\n",
       "      <td>-1.444355</td>\n",
       "      <td>-1.199501</td>\n",
       "      <td>0.798808</td>\n",
       "      <td>0.642724</td>\n",
       "      <td>-1.034253</td>\n",
       "      <td>1.096881</td>\n",
       "      <td>0</td>\n",
       "      <td>0</td>\n",
       "      <td>1</td>\n",
       "    </tr>\n",
       "    <tr>\n",
       "      <th>4</th>\n",
       "      <td>-1.105878</td>\n",
       "      <td>1.363172</td>\n",
       "      <td>1.450144</td>\n",
       "      <td>-1.199501</td>\n",
       "      <td>-0.936474</td>\n",
       "      <td>0.642724</td>\n",
       "      <td>-1.034253</td>\n",
       "      <td>0.442134</td>\n",
       "      <td>0</td>\n",
       "      <td>1</td>\n",
       "      <td>0</td>\n",
       "    </tr>\n",
       "  </tbody>\n",
       "</table>\n",
       "</div>"
      ],
      "text/plain": [
       "   CreditScore       Age    Tenure   Balance  NumOfProducts  HasCrCard  \\\n",
       "0    -2.541333  0.015752  1.811957 -1.199501      -0.936474   0.642724   \n",
       "1    -0.785740 -0.272981  0.726519 -1.199501      -0.936474   0.642724   \n",
       "2     0.432848  0.593218 -0.358918 -1.199501       0.798808   0.642724   \n",
       "3     0.515465 -0.176737 -1.444355 -1.199501       0.798808   0.642724   \n",
       "4    -1.105878  1.363172  1.450144 -1.199501      -0.936474   0.642724   \n",
       "\n",
       "   IsActiveMember  EstimatedSalary  Geography_Germany  Geography_Spain  \\\n",
       "0       -1.034253         1.050995                  0                0   \n",
       "1        0.966881        -0.768401                  0                0   \n",
       "2        0.966881        -1.276024                  0                1   \n",
       "3       -1.034253         1.096881                  0                0   \n",
       "4       -1.034253         0.442134                  0                1   \n",
       "\n",
       "   Gender_Male  \n",
       "0            1  \n",
       "1            1  \n",
       "2            0  \n",
       "3            1  \n",
       "4            0  "
      ]
     },
     "metadata": {},
     "output_type": "display_data"
    },
    {
     "name": "stdout",
     "output_type": "stream",
     "text": [
      "-----------------------\n"
     ]
    },
    {
     "data": {
      "text/html": [
       "<div>\n",
       "<style scoped>\n",
       "    .dataframe tbody tr th:only-of-type {\n",
       "        vertical-align: middle;\n",
       "    }\n",
       "\n",
       "    .dataframe tbody tr th {\n",
       "        vertical-align: top;\n",
       "    }\n",
       "\n",
       "    .dataframe thead th {\n",
       "        text-align: right;\n",
       "    }\n",
       "</style>\n",
       "<table border=\"1\" class=\"dataframe\">\n",
       "  <thead>\n",
       "    <tr style=\"text-align: right;\">\n",
       "      <th></th>\n",
       "      <th>CreditScore</th>\n",
       "      <th>Age</th>\n",
       "      <th>Tenure</th>\n",
       "      <th>Balance</th>\n",
       "      <th>NumOfProducts</th>\n",
       "      <th>HasCrCard</th>\n",
       "      <th>IsActiveMember</th>\n",
       "      <th>EstimatedSalary</th>\n",
       "      <th>Geography_Germany</th>\n",
       "      <th>Geography_Spain</th>\n",
       "      <th>Gender_Male</th>\n",
       "    </tr>\n",
       "  </thead>\n",
       "  <tbody>\n",
       "    <tr>\n",
       "      <th>0</th>\n",
       "      <td>-0.998771</td>\n",
       "      <td>0.405241</td>\n",
       "      <td>-0.349323</td>\n",
       "      <td>0.736681</td>\n",
       "      <td>-0.871171</td>\n",
       "      <td>0.652316</td>\n",
       "      <td>0.967527</td>\n",
       "      <td>-0.435118</td>\n",
       "      <td>1</td>\n",
       "      <td>0</td>\n",
       "      <td>0</td>\n",
       "    </tr>\n",
       "    <tr>\n",
       "      <th>1</th>\n",
       "      <td>0.114834</td>\n",
       "      <td>-0.751489</td>\n",
       "      <td>-0.715107</td>\n",
       "      <td>0.901646</td>\n",
       "      <td>0.822067</td>\n",
       "      <td>0.652316</td>\n",
       "      <td>-1.033563</td>\n",
       "      <td>-0.596761</td>\n",
       "      <td>0</td>\n",
       "      <td>0</td>\n",
       "      <td>0</td>\n",
       "    </tr>\n",
       "    <tr>\n",
       "      <th>2</th>\n",
       "      <td>-0.595752</td>\n",
       "      <td>-0.365912</td>\n",
       "      <td>-1.080890</td>\n",
       "      <td>0.865750</td>\n",
       "      <td>-0.871171</td>\n",
       "      <td>0.652316</td>\n",
       "      <td>0.967527</td>\n",
       "      <td>-0.600350</td>\n",
       "      <td>0</td>\n",
       "      <td>0</td>\n",
       "      <td>1</td>\n",
       "    </tr>\n",
       "    <tr>\n",
       "      <th>3</th>\n",
       "      <td>1.026929</td>\n",
       "      <td>0.212453</td>\n",
       "      <td>1.479594</td>\n",
       "      <td>-1.303936</td>\n",
       "      <td>-0.871171</td>\n",
       "      <td>0.652316</td>\n",
       "      <td>-1.033563</td>\n",
       "      <td>-1.173515</td>\n",
       "      <td>0</td>\n",
       "      <td>1</td>\n",
       "      <td>1</td>\n",
       "    </tr>\n",
       "    <tr>\n",
       "      <th>4</th>\n",
       "      <td>-0.309397</td>\n",
       "      <td>-0.751489</td>\n",
       "      <td>0.748027</td>\n",
       "      <td>0.911223</td>\n",
       "      <td>-0.871171</td>\n",
       "      <td>0.652316</td>\n",
       "      <td>0.967527</td>\n",
       "      <td>0.849979</td>\n",
       "      <td>0</td>\n",
       "      <td>0</td>\n",
       "      <td>1</td>\n",
       "    </tr>\n",
       "  </tbody>\n",
       "</table>\n",
       "</div>"
      ],
      "text/plain": [
       "   CreditScore       Age    Tenure   Balance  NumOfProducts  HasCrCard  \\\n",
       "0    -0.998771  0.405241 -0.349323  0.736681      -0.871171   0.652316   \n",
       "1     0.114834 -0.751489 -0.715107  0.901646       0.822067   0.652316   \n",
       "2    -0.595752 -0.365912 -1.080890  0.865750      -0.871171   0.652316   \n",
       "3     1.026929  0.212453  1.479594 -1.303936      -0.871171   0.652316   \n",
       "4    -0.309397 -0.751489  0.748027  0.911223      -0.871171   0.652316   \n",
       "\n",
       "   IsActiveMember  EstimatedSalary  Geography_Germany  Geography_Spain  \\\n",
       "0        0.967527        -0.435118                  1                0   \n",
       "1       -1.033563        -0.596761                  0                0   \n",
       "2        0.967527        -0.600350                  0                0   \n",
       "3       -1.033563        -1.173515                  0                1   \n",
       "4        0.967527         0.849979                  0                0   \n",
       "\n",
       "   Gender_Male  \n",
       "0            0  \n",
       "1            0  \n",
       "2            1  \n",
       "3            1  \n",
       "4            1  "
      ]
     },
     "metadata": {},
     "output_type": "display_data"
    },
    {
     "name": "stdout",
     "output_type": "stream",
     "text": [
      "-----------------------\n"
     ]
    },
    {
     "data": {
      "text/html": [
       "<div>\n",
       "<style scoped>\n",
       "    .dataframe tbody tr th:only-of-type {\n",
       "        vertical-align: middle;\n",
       "    }\n",
       "\n",
       "    .dataframe tbody tr th {\n",
       "        vertical-align: top;\n",
       "    }\n",
       "\n",
       "    .dataframe thead th {\n",
       "        text-align: right;\n",
       "    }\n",
       "</style>\n",
       "<table border=\"1\" class=\"dataframe\">\n",
       "  <thead>\n",
       "    <tr style=\"text-align: right;\">\n",
       "      <th></th>\n",
       "      <th>CreditScore</th>\n",
       "      <th>Age</th>\n",
       "      <th>Tenure</th>\n",
       "      <th>Balance</th>\n",
       "      <th>NumOfProducts</th>\n",
       "      <th>HasCrCard</th>\n",
       "      <th>IsActiveMember</th>\n",
       "      <th>EstimatedSalary</th>\n",
       "      <th>Geography_Germany</th>\n",
       "      <th>Geography_Spain</th>\n",
       "      <th>Gender_Male</th>\n",
       "    </tr>\n",
       "  </thead>\n",
       "  <tbody>\n",
       "    <tr>\n",
       "      <th>0</th>\n",
       "      <td>-2.217750</td>\n",
       "      <td>0.247935</td>\n",
       "      <td>1.060865</td>\n",
       "      <td>0.723981</td>\n",
       "      <td>0.820638</td>\n",
       "      <td>0.649981</td>\n",
       "      <td>-1.017147</td>\n",
       "      <td>0.458019</td>\n",
       "      <td>1</td>\n",
       "      <td>0</td>\n",
       "      <td>1</td>\n",
       "    </tr>\n",
       "    <tr>\n",
       "      <th>1</th>\n",
       "      <td>-2.044975</td>\n",
       "      <td>-0.303850</td>\n",
       "      <td>0.339556</td>\n",
       "      <td>0.127135</td>\n",
       "      <td>0.820638</td>\n",
       "      <td>0.649981</td>\n",
       "      <td>-1.017147</td>\n",
       "      <td>-0.316038</td>\n",
       "      <td>0</td>\n",
       "      <td>0</td>\n",
       "      <td>0</td>\n",
       "    </tr>\n",
       "    <tr>\n",
       "      <th>2</th>\n",
       "      <td>-1.557142</td>\n",
       "      <td>0.339900</td>\n",
       "      <td>-0.742407</td>\n",
       "      <td>-1.231577</td>\n",
       "      <td>0.820638</td>\n",
       "      <td>-1.538507</td>\n",
       "      <td>0.983142</td>\n",
       "      <td>1.743956</td>\n",
       "      <td>0</td>\n",
       "      <td>1</td>\n",
       "      <td>0</td>\n",
       "    </tr>\n",
       "    <tr>\n",
       "      <th>3</th>\n",
       "      <td>0.373863</td>\n",
       "      <td>-0.119921</td>\n",
       "      <td>-1.103061</td>\n",
       "      <td>0.282882</td>\n",
       "      <td>2.521442</td>\n",
       "      <td>-1.538507</td>\n",
       "      <td>-1.017147</td>\n",
       "      <td>-1.575852</td>\n",
       "      <td>1</td>\n",
       "      <td>0</td>\n",
       "      <td>0</td>\n",
       "    </tr>\n",
       "    <tr>\n",
       "      <th>4</th>\n",
       "      <td>0.312884</td>\n",
       "      <td>-0.487778</td>\n",
       "      <td>1.421519</td>\n",
       "      <td>-1.231577</td>\n",
       "      <td>0.820638</td>\n",
       "      <td>0.649981</td>\n",
       "      <td>0.983142</td>\n",
       "      <td>-0.076090</td>\n",
       "      <td>0</td>\n",
       "      <td>0</td>\n",
       "      <td>1</td>\n",
       "    </tr>\n",
       "  </tbody>\n",
       "</table>\n",
       "</div>"
      ],
      "text/plain": [
       "   CreditScore       Age    Tenure   Balance  NumOfProducts  HasCrCard  \\\n",
       "0    -2.217750  0.247935  1.060865  0.723981       0.820638   0.649981   \n",
       "1    -2.044975 -0.303850  0.339556  0.127135       0.820638   0.649981   \n",
       "2    -1.557142  0.339900 -0.742407 -1.231577       0.820638  -1.538507   \n",
       "3     0.373863 -0.119921 -1.103061  0.282882       2.521442  -1.538507   \n",
       "4     0.312884 -0.487778  1.421519 -1.231577       0.820638   0.649981   \n",
       "\n",
       "   IsActiveMember  EstimatedSalary  Geography_Germany  Geography_Spain  \\\n",
       "0       -1.017147         0.458019                  1                0   \n",
       "1       -1.017147        -0.316038                  0                0   \n",
       "2        0.983142         1.743956                  0                1   \n",
       "3       -1.017147        -1.575852                  1                0   \n",
       "4        0.983142        -0.076090                  0                0   \n",
       "\n",
       "   Gender_Male  \n",
       "0            1  \n",
       "1            0  \n",
       "2            0  \n",
       "3            0  \n",
       "4            1  "
      ]
     },
     "metadata": {},
     "output_type": "display_data"
    }
   ],
   "source": [
    "show_sample(features_train)\n",
    "print('-----------------------')\n",
    "show_sample(features_valid)\n",
    "print('-----------------------')\n",
    "show_sample(features_test)"
   ]
  },
  {
   "cell_type": "markdown",
   "metadata": {},
   "source": [
    "Как видим, масштабирование прошло успешно :)"
   ]
  },
  {
   "cell_type": "markdown",
   "metadata": {},
   "source": [
    "## Выводы"
   ]
  },
  {
   "cell_type": "markdown",
   "metadata": {},
   "source": [
    "* Датасет состоит из 1000 строк и 11 столбцов\n",
    "* Увидели, что разрядность  не очень оптимальная для наших данных, оптимизировали типы данных. Таким образом сократили объем памяти почти в 2 раза.\n",
    "* Пропуски были только в столбце \"Tenure\".\n",
    "* Разделили всех клиентов на категории по возрасту для того, чтобы заполнить пропуски в столбце `Tenure` медианой. Предположили, что этот показатель зависит от возрастной категории и от страны проживания (возрастная категория - потому что зачастую банки ориентированы на определенную возрастную категорию, страна проживания - потому что зачастую банки выходят на рынок определенной страны в определенный период). \n",
    "* Для преобразования категориальных данных использован метод One Hot Encoding.\n",
    "* Больше всего людей в датасете с фамилией Smith и из Франции - 5014 значений. В данных превалирующее число мужчин. Дубликатов не обнаружено.\n",
    "* Произвели преобразование категориальных данных, используя метод One Hot Encoding\n",
    "* Разделили данные на обучающую, валидационную и тестовую выборки\n",
    "* Осуществили масштабирование признаков для улучшения сходимости модели, используя стандартизацию данных"
   ]
  },
  {
   "cell_type": "markdown",
   "metadata": {},
   "source": [
    "## Исследование задачи"
   ]
  },
  {
   "cell_type": "code",
   "execution_count": 101,
   "metadata": {},
   "outputs": [
    {
     "data": {
      "image/png": "[encoded data removed]",
      "text/plain": [
       "<Figure size 720x360 with 1 Axes>"
      ]
     },
     "metadata": {
      "needs_background": "light"
     },
     "output_type": "display_data"
    }
   ],
   "source": [
    "class_frequency = df_ohe['Exited'].value_counts(normalize=True)\n",
    "plt.figure(figsize=(10, 5))\n",
    "plt.title('Диаграмма частот классов в целевом признаке', size=14)\n",
    "class_frequency.plot(kind='bar', rot=0)\n",
    "plt.xlabel('Класс', size=12)\n",
    "plt.ylabel('Доля', size=12)\n",
    "plt.show()"
   ]
  },
  {
   "cell_type": "markdown",
   "metadata": {},
   "source": [
    "Видим, что в данных превалирующее большинство тех, кто от нас не ушел. Наблюдаем дисбаланс классов (объектов отрицательного класса в 3 раза больше)."
   ]
  },
  {
   "cell_type": "markdown",
   "metadata": {},
   "source": [
    "Построим модели машинного обучения без учета дисбаланса классов. Поскольку в данном случае мы предсказываем класс, будем использовать модели решающего дерева и случайного леса. Подберем гиперпараметры для них."
   ]
  },
  {
   "cell_type": "markdown",
   "metadata": {},
   "source": [
    "### Дерево решений без учета дисбаланса"
   ]
  },
  {
   "cell_type": "code",
   "execution_count": 102,
   "metadata": {},
   "outputs": [],
   "source": [
    "# Based on: https://stackoverflow.com/a/17303428 (для красивого оформления результата z-теста)\n",
    "class color:\n",
    "   PURPLE = '\\033[95m'\n",
    "   CYAN = '\\033[96m'\n",
    "   DARKCYAN = '\\033[36m'\n",
    "   BLUE = '\\033[94m'\n",
    "   GREEN = '\\033[92m'\n",
    "   YELLOW = '\\033[93m'\n",
    "   RED = '\\033[91m'\n",
    "   BOLD = '\\033[1m'\n",
    "   UNDERLINE = '\\033[4m'\n",
    "   END = '\\033[0m'"
   ]
  },
  {
   "cell_type": "code",
   "execution_count": 103,
   "metadata": {},
   "outputs": [
    {
     "name": "stdout",
     "output_type": "stream",
     "text": [
      "\u001b[4mmax_depth = \u001b[0m 1\n",
      "Accuracy:  0.795\n",
      "Recall:  0.0\n",
      "Precision:  0.0\n",
      "F1:  0.0\n",
      "ROC-AUC:  0.6985043718361711\n",
      "\u001b[4mmax_depth = \u001b[0m 5\n",
      "Accuracy:  0.8555\n",
      "Recall:  0.5146341463414634\n",
      "Precision:  0.7009966777408638\n",
      "F1:  0.5935302390998594\n",
      "ROC-AUC:  0.8433578769749962\n",
      "\u001b[4mmax_depth = \u001b[0m 9\n",
      "Accuracy:  0.849\n",
      "Recall:  0.5073170731707317\n",
      "Precision:  0.6753246753246753\n",
      "F1:  0.5793871866295265\n",
      "ROC-AUC:  0.8115040650406504\n",
      "\u001b[4mmax_depth = \u001b[0m 13\n",
      "Accuracy:  0.8245\n",
      "Recall:  0.5463414634146342\n",
      "Precision:  0.5758354755784062\n",
      "F1:  0.560700876095119\n",
      "ROC-AUC:  0.744727718975303\n",
      "\u001b[4mmax_depth = \u001b[0m 17\n",
      "Accuracy:  0.788\n",
      "Recall:  0.526829268292683\n",
      "Precision:  0.484304932735426\n",
      "F1:  0.5046728971962617\n",
      "ROC-AUC:  0.7066513268906275\n"
     ]
    }
   ],
   "source": [
    "for depth in range(1, 20, 4):\n",
    "    model_dt = DecisionTreeClassifier(random_state=RANDOM_SEED, max_depth = depth) #обучение с заданной глубиной дерева\n",
    "    model_dt.fit(features_train, target_train) #обучение модели\n",
    "    predictions_valid_dt = model_dt.predict(features_valid) #Предсказания\n",
    "    probabilities_valid_dt = model_dt.predict_proba(features_valid)[:,1]\n",
    "    \n",
    "    print(color.UNDERLINE + \"max_depth = \" +  color.END, depth)\n",
    "    print('Accuracy: ', accuracy_score(target_valid, predictions_valid_dt))\n",
    "    print('Recall: ', recall_score(target_valid, predictions_valid_dt))\n",
    "    print('Precision: ', precision_score(target_valid, predictions_valid_dt))\n",
    "    print('F1: ', f1_score(target_valid, predictions_valid_dt))\n",
    "    print('ROC-AUC: ', roc_auc_score(target_valid, probabilities_valid_dt))"
   ]
  },
  {
   "cell_type": "markdown",
   "metadata": {},
   "source": [
    "Остановимся на гиперпараметре `max_depth = 5`.Обучим модель дерева решений и проверим ее на тестовой выборке."
   ]
  },
  {
   "cell_type": "code",
   "execution_count": 104,
   "metadata": {},
   "outputs": [],
   "source": [
    "model_dt = DecisionTreeClassifier(random_state=RANDOM_SEED, max_depth=5)\n",
    "model_dt.fit(features_train, target_train)\n",
    "predictions_test_dt = model_dt.predict(features_test)\n",
    "predictions_valid_dt = model_dt.predict(features_valid)\n",
    "probabilities_test_dt = model_dt.predict_proba(features_test)[:,1]"
   ]
  },
  {
   "cell_type": "code",
   "execution_count": 105,
   "metadata": {},
   "outputs": [
    {
     "name": "stdout",
     "output_type": "stream",
     "text": [
      "Confusion matrix:\n",
      "[[1512   70]\n",
      " [ 219  199]]\n"
     ]
    }
   ],
   "source": [
    "print('Confusion matrix:')\n",
    "print(confusion_matrix(target_test, predictions_test_dt))"
   ]
  },
  {
   "cell_type": "markdown",
   "metadata": {},
   "source": [
    "По матрице ошибок можно сказать, что модель угадала 1512 значений положительного класса. При этом отрицательного класса - 199 значений. При этом ложноотрицательных предсказаний - 219, а ложноположительных 70."
   ]
  },
  {
   "cell_type": "code",
   "execution_count": 106,
   "metadata": {},
   "outputs": [
    {
     "name": "stdout",
     "output_type": "stream",
     "text": [
      "Accuracy: 0.8555\n",
      "Recall: 0.47607655502392343\n",
      "Precision: 0.7397769516728625\n",
      "F1: 0.5793304221251819\n",
      "ROC-AUC: 0.8227321118564714\n"
     ]
    }
   ],
   "source": [
    "print(f'Accuracy: {accuracy_score(target_test, predictions_test_dt)}')\n",
    "print(f'Recall: {recall_score(target_test, predictions_test_dt)}')\n",
    "print(f'Precision: {precision_score(target_test, predictions_test_dt)}')\n",
    "print(f'F1: {f1_score(target_test, predictions_test_dt)}')\n",
    "print(f'ROC-AUC: {roc_auc_score(target_test, probabilities_test_dt)}')"
   ]
  },
  {
   "cell_type": "markdown",
   "metadata": {},
   "source": [
    "Анализируя метрики можно сказать, что из-за дисбаланса классов модель лучше предсказывает отрицательный класс. Доля правильных ответов (accuracy) равна 0.86. А вот полнота (recall) страдает, она выявляет, какую долю положительных среди всех ответов выделила модель - всего 0.47. Точность (precision) 0.74 - показывает какую долю объектов, распознанных как объекты положительного класса мы предсказали верно, т.е. около 70%. F1-мера (среднее гармоническое полноты и точности) всего лишь 0.58, ROC-AUC (площадь под ROC кривой) 0.82."
   ]
  },
  {
   "cell_type": "code",
   "execution_count": 107,
   "metadata": {},
   "outputs": [
    {
     "name": "stdout",
     "output_type": "stream",
     "text": [
      "              precision    recall  f1-score   support\n",
      "\n",
      "           0       0.79      0.86      0.82      1590\n",
      "           1       0.17      0.11      0.14       410\n",
      "\n",
      "    accuracy                           0.71      2000\n",
      "   macro avg       0.48      0.49      0.48      2000\n",
      "weighted avg       0.66      0.71      0.68      2000\n",
      "\n"
     ]
    }
   ],
   "source": [
    "print(classification_report(target_valid, predictions_test_dt))"
   ]
  },
  {
   "cell_type": "code",
   "execution_count": 108,
   "metadata": {},
   "outputs": [
    {
     "name": "stdout",
     "output_type": "stream",
     "text": [
      "              precision    recall  f1-score   support\n",
      "\n",
      "           0       0.87      0.96      0.91      1582\n",
      "           1       0.74      0.48      0.58       418\n",
      "\n",
      "    accuracy                           0.86      2000\n",
      "   macro avg       0.81      0.72      0.75      2000\n",
      "weighted avg       0.85      0.86      0.84      2000\n",
      "\n"
     ]
    }
   ],
   "source": [
    "print(classification_report(target_test, predictions_test_dt))"
   ]
  },
  {
   "cell_type": "markdown",
   "metadata": {},
   "source": [
    "По результатам видим, что модель дерева решений нам не сильно подходит без учета дисбаланса классов."
   ]
  },
  {
   "cell_type": "markdown",
   "metadata": {},
   "source": [
    "### Случайный лес без учета дисбаланса"
   ]
  },
  {
   "cell_type": "markdown",
   "metadata": {},
   "source": [
    "Начнем с подбора глубины при небольшом числе деревьев. Подберем гиперпараметры."
   ]
  },
  {
   "cell_type": "code",
   "execution_count": 109,
   "metadata": {
    "scrolled": true
   },
   "outputs": [
    {
     "name": "stdout",
     "output_type": "stream",
     "text": [
      "\u001b[4mmax_depth = \u001b[0m 10\n",
      "Accuracy: 0.87\n",
      "Recall:  0.47560975609756095\n",
      "Precision:  0.7831325301204819\n",
      "F1:  0.5918057663125948\n",
      "ROC-AUC:  0.8720118116275501\n",
      "\u001b[4mmax_depth = \u001b[0m 20\n",
      "Accuracy: 0.87\n",
      "Recall:  0.5\n",
      "Precision:  0.7945736434108527\n",
      "F1:  0.6137724550898203\n",
      "ROC-AUC:  0.860715600552232\n",
      "\u001b[4mmax_depth = \u001b[0m 30\n",
      "Accuracy: 0.86\n",
      "Recall:  0.47317073170731705\n",
      "Precision:  0.7432950191570882\n",
      "F1:  0.5782414307004471\n",
      "ROC-AUC:  0.8483586439637981\n",
      "\u001b[4mmax_depth = \u001b[0m 40\n",
      "Accuracy: 0.86\n",
      "Recall:  0.47317073170731705\n",
      "Precision:  0.7432950191570882\n",
      "F1:  0.5782414307004471\n",
      "ROC-AUC:  0.8483586439637981\n",
      "\u001b[4mmax_depth = \u001b[0m 50\n",
      "Accuracy: 0.86\n",
      "Recall:  0.47317073170731705\n",
      "Precision:  0.7432950191570882\n",
      "F1:  0.5782414307004471\n",
      "ROC-AUC:  0.8483586439637981\n",
      "\u001b[4mmax_depth = \u001b[0m 60\n",
      "Accuracy: 0.86\n",
      "Recall:  0.47317073170731705\n",
      "Precision:  0.7432950191570882\n",
      "F1:  0.5782414307004471\n",
      "ROC-AUC:  0.8483586439637981\n",
      "\u001b[4mmax_depth = \u001b[0m 70\n",
      "Accuracy: 0.86\n",
      "Recall:  0.47317073170731705\n",
      "Precision:  0.7432950191570882\n",
      "F1:  0.5782414307004471\n",
      "ROC-AUC:  0.8483586439637981\n",
      "\u001b[4mmax_depth = \u001b[0m 80\n",
      "Accuracy: 0.86\n",
      "Recall:  0.47317073170731705\n",
      "Precision:  0.7432950191570882\n",
      "F1:  0.5782414307004471\n",
      "ROC-AUC:  0.8483586439637981\n",
      "\u001b[4mmax_depth = \u001b[0m 90\n",
      "Accuracy: 0.86\n",
      "Recall:  0.47317073170731705\n",
      "Precision:  0.7432950191570882\n",
      "F1:  0.5782414307004471\n",
      "ROC-AUC:  0.8483586439637981\n",
      "\u001b[4mmax_depth = \u001b[0m 100\n",
      "Accuracy: 0.86\n",
      "Recall:  0.47317073170731705\n",
      "Precision:  0.7432950191570882\n",
      "F1:  0.5782414307004471\n",
      "ROC-AUC:  0.8483586439637981\n"
     ]
    }
   ],
   "source": [
    "for depth in range(10, 101, 10):\n",
    "    model_rf = RandomForestClassifier(random_state=RANDOM_SEED, n_estimators=20, max_depth=depth)\n",
    "    model_rf.fit(features_train, target_train)\n",
    "    predictions_valid_rf = model_rf.predict(features_valid)\n",
    "    probabilities_valid_rf = model_rf.predict_proba(features_valid)[:, 1]\n",
    "\n",
    "    print(color.UNDERLINE + \"max_depth = \" +  color.END, depth)\n",
    "    print('Accuracy: {:.2f}'.format(accuracy_score(target_valid, predictions_valid_rf)))\n",
    "    print('Recall: ', recall_score(target_valid, predictions_valid_rf))\n",
    "    print('Precision: ', precision_score(target_valid, predictions_valid_rf))\n",
    "    print('F1: ', f1_score(target_valid, predictions_valid_rf))\n",
    "    print('ROC-AUC: ', roc_auc_score(target_valid, probabilities_valid_rf))\n",
    "    "
   ]
  },
  {
   "cell_type": "markdown",
   "metadata": {},
   "source": [
    "Лучше всего подходит модель случайного леса с гиперпараметром max_depth = 20"
   ]
  },
  {
   "cell_type": "code",
   "execution_count": 110,
   "metadata": {
    "scrolled": true
   },
   "outputs": [
    {
     "name": "stdout",
     "output_type": "stream",
     "text": [
      "\u001b[4mn_estimators = \u001b[0m 10\n",
      "Accuracy: 0.86\n",
      "Recall:  0.4560975609756098\n",
      "Precision:  0.751004016064257\n",
      "F1:  0.56752655538695\n",
      "ROC-AUC:  0.8500966405890474\n",
      "\u001b[4mn_estimators = \u001b[0m 20\n",
      "Accuracy: 0.87\n",
      "Recall:  0.5\n",
      "Precision:  0.7945736434108527\n",
      "F1:  0.6137724550898203\n",
      "ROC-AUC:  0.860715600552232\n",
      "\u001b[4mn_estimators = \u001b[0m 30\n",
      "Accuracy: 0.87\n",
      "Recall:  0.5073170731707317\n",
      "Precision:  0.8\n",
      "F1:  0.6208955223880597\n",
      "ROC-AUC:  0.8671391317686762\n",
      "\u001b[4mn_estimators = \u001b[0m 40\n",
      "Accuracy: 0.87\n",
      "Recall:  0.5219512195121951\n",
      "Precision:  0.7955390334572491\n",
      "F1:  0.6303387334315169\n",
      "ROC-AUC:  0.8689177788004294\n",
      "\u001b[4mn_estimators = \u001b[0m 50\n",
      "Accuracy: 0.87\n",
      "Recall:  0.5048780487804878\n",
      "Precision:  0.7781954887218046\n",
      "F1:  0.6124260355029586\n",
      "ROC-AUC:  0.8684322748887866\n",
      "\u001b[4mn_estimators = \u001b[0m 60\n",
      "Accuracy: 0.87\n",
      "Recall:  0.5097560975609756\n",
      "Precision:  0.7798507462686567\n",
      "F1:  0.6165191740412979\n",
      "ROC-AUC:  0.8703083294983892\n",
      "\u001b[4mn_estimators = \u001b[0m 70\n",
      "Accuracy: 0.87\n",
      "Recall:  0.5073170731707317\n",
      "Precision:  0.7819548872180451\n",
      "F1:  0.6153846153846153\n",
      "ROC-AUC:  0.8694991563123177\n",
      "\u001b[4mn_estimators = \u001b[0m 80\n",
      "Accuracy: 0.87\n",
      "Recall:  0.5121951219512195\n",
      "Precision:  0.7894736842105263\n",
      "F1:  0.6213017751479291\n",
      "ROC-AUC:  0.8702462034054302\n",
      "\u001b[4mn_estimators = \u001b[0m 90\n",
      "Accuracy: 0.88\n",
      "Recall:  0.524390243902439\n",
      "Precision:  0.7962962962962963\n",
      "F1:  0.6323529411764706\n",
      "ROC-AUC:  0.8705790765454824\n",
      "\u001b[4mn_estimators = \u001b[0m 100\n",
      "Accuracy: 0.87\n",
      "Recall:  0.5219512195121951\n",
      "Precision:  0.7867647058823529\n",
      "F1:  0.6275659824046921\n",
      "ROC-AUC:  0.8689522932965179\n"
     ]
    }
   ],
   "source": [
    "for est in range(10, 101, 10):\n",
    "    model_rf = RandomForestClassifier(random_state=RANDOM_SEED, n_estimators=est, max_depth=20)\n",
    "    model_rf.fit(features_train, target_train)\n",
    "    predictions_valid_rf = model_rf.predict(features_valid)\n",
    "    probabilities_valid_rf = model_rf.predict_proba(features_valid)[:, 1]\n",
    "    print(color.UNDERLINE + 'n_estimators = ' + color.END, est)\n",
    "    print('Accuracy: {:.2f}'.format(accuracy_score(target_valid, predictions_valid_rf)))\n",
    "    print('Recall: ', recall_score(target_valid, predictions_valid_rf))\n",
    "    print('Precision: ', precision_score(target_valid, predictions_valid_rf))\n",
    "    print('F1: ', f1_score(target_valid, predictions_valid_rf))\n",
    "    print('ROC-AUC: ', roc_auc_score(target_valid, probabilities_valid_rf))"
   ]
  },
  {
   "cell_type": "markdown",
   "metadata": {},
   "source": [
    "Лучше всего подходит модель случайного леса с гиперпараметрами  max_depth = 20 и n_estimators = 90."
   ]
  },
  {
   "cell_type": "code",
   "execution_count": 111,
   "metadata": {},
   "outputs": [],
   "source": [
    "model_rf = RandomForestClassifier(random_state=RANDOM_SEED, n_estimators=90, max_depth=20)\n",
    "model_rf.fit(features_train, target_train)\n",
    "predictions_valid_rf = model_rf.predict(features_valid)\n",
    "predictions_test_rf = model_rf.predict(features_test)"
   ]
  },
  {
   "cell_type": "markdown",
   "metadata": {},
   "source": [
    "Построим Confusion matrix."
   ]
  },
  {
   "cell_type": "code",
   "execution_count": 112,
   "metadata": {},
   "outputs": [
    {
     "name": "stdout",
     "output_type": "stream",
     "text": [
      "Confusion matrix:\n",
      "[[1535   55]\n",
      " [ 195  215]]\n"
     ]
    }
   ],
   "source": [
    "print('Confusion matrix:')\n",
    "print(confusion_matrix(target_valid, predictions_valid_rf))"
   ]
  },
  {
   "cell_type": "code",
   "execution_count": 113,
   "metadata": {},
   "outputs": [
    {
     "name": "stdout",
     "output_type": "stream",
     "text": [
      "Accuracy: 0.875\n",
      "Recall: 0.524390243902439\n",
      "Precision: 0.7962962962962963\n",
      "F1: 0.6323529411764706\n",
      "ROC-AUC: 0.8689522932965179\n"
     ]
    }
   ],
   "source": [
    "print(f'Accuracy: {accuracy_score(target_valid, predictions_valid_rf)}')\n",
    "print(f'Recall: {recall_score(target_valid, predictions_valid_rf)}')\n",
    "print(f'Precision: {precision_score(target_valid, predictions_valid_rf)}')\n",
    "print(f'F1: {f1_score(target_valid, predictions_valid_rf)}')\n",
    "print(f'ROC-AUC: {roc_auc_score(target_valid, probabilities_valid_rf)}')"
   ]
  },
  {
   "cell_type": "markdown",
   "metadata": {},
   "source": [
    "Анализируя метрики можно сказать, что из-за дисбаланса классов модель лучше предсказывает отрицательный класс. Доля правильных ответов (accuracy) равна 0.87. А вот полнота (recall) страдает, она выявляет, какую долю положительных среди всех ответов выделила модель - всего 0.52. Точность (precision) 0.79 - показывает какую долю объектов, распознанных как объекты положительного класса мы предсказали верно, т.е. около 79%. F1-мера (среднее гармоническое полноты и точности) всего лишь 0.63, ROC-AUC (площадь под ROC кривой) 0.87."
   ]
  },
  {
   "cell_type": "code",
   "execution_count": 114,
   "metadata": {},
   "outputs": [
    {
     "name": "stdout",
     "output_type": "stream",
     "text": [
      "              precision    recall  f1-score   support\n",
      "\n",
      "           0       0.89      0.97      0.92      1590\n",
      "           1       0.80      0.52      0.63       410\n",
      "\n",
      "    accuracy                           0.88      2000\n",
      "   macro avg       0.84      0.74      0.78      2000\n",
      "weighted avg       0.87      0.88      0.86      2000\n",
      "\n"
     ]
    }
   ],
   "source": [
    "print(classification_report(target_valid, predictions_valid_rf))"
   ]
  },
  {
   "cell_type": "code",
   "execution_count": 115,
   "metadata": {},
   "outputs": [
    {
     "name": "stdout",
     "output_type": "stream",
     "text": [
      "              precision    recall  f1-score   support\n",
      "\n",
      "           0       0.87      0.96      0.91      1582\n",
      "           1       0.75      0.47      0.58       418\n",
      "\n",
      "    accuracy                           0.86      2000\n",
      "   macro avg       0.81      0.72      0.75      2000\n",
      "weighted avg       0.85      0.86      0.84      2000\n",
      "\n"
     ]
    }
   ],
   "source": [
    "print(classification_report(target_test, predictions_test_rf))"
   ]
  },
  {
   "cell_type": "markdown",
   "metadata": {},
   "source": [
    "Случайныйй лес без учета дисбаланса классов также нам не подходит."
   ]
  },
  {
   "cell_type": "markdown",
   "metadata": {},
   "source": [
    "### Модель логистической регрессии без учета дисбаланса"
   ]
  },
  {
   "cell_type": "code",
   "execution_count": 116,
   "metadata": {},
   "outputs": [
    {
     "name": "stdout",
     "output_type": "stream",
     "text": [
      "Accuracy: 0.811\n",
      "Recall: 0.22439024390243903\n",
      "Precision: 0.6052631578947368\n",
      "F1 : 0.3274021352313168\n",
      "AUC-ROC : 0.775715600552232\n"
     ]
    }
   ],
   "source": [
    "model_lr = LogisticRegression(random_state=RANDOM_SEED)\n",
    "\n",
    "model_lr.fit(features_train, target_train)\n",
    "predictions_valid_lr = model_lr.predict(features_valid)\n",
    "predictions_test_lr  = model_lr.predict(features_test)\n",
    "probabilities_valid_lr = model_lr.predict_proba(features_valid)[:, 1]\n",
    "\n",
    "print(f'Accuracy: {accuracy_score(target_valid, predictions_valid_lr)}')\n",
    "print(f'Recall: {recall_score(target_valid, predictions_valid_lr)}')\n",
    "print(f'Precision: {precision_score(target_valid, predictions_valid_lr)}')\n",
    "print('F1 :', f1_score(target_valid, predictions_valid_lr))\n",
    "print('AUC-ROC :', roc_auc_score(target_valid, probabilities_valid_lr))\n",
    "\n"
   ]
  },
  {
   "cell_type": "markdown",
   "metadata": {},
   "source": [
    "Метрики Recall и F1 логистической регрессии показывают наихудшие результаты среди всех моделей."
   ]
  },
  {
   "cell_type": "markdown",
   "metadata": {},
   "source": [
    "Построим матрицу ошибок для модели."
   ]
  },
  {
   "cell_type": "code",
   "execution_count": 117,
   "metadata": {},
   "outputs": [
    {
     "name": "stdout",
     "output_type": "stream",
     "text": [
      "Confusion matrix:\n",
      "[[1530   60]\n",
      " [ 318   92]]\n"
     ]
    }
   ],
   "source": [
    "print('Confusion matrix:')\n",
    "print(confusion_matrix(target_valid, predictions_valid_lr))"
   ]
  },
  {
   "cell_type": "code",
   "execution_count": 118,
   "metadata": {},
   "outputs": [
    {
     "name": "stdout",
     "output_type": "stream",
     "text": [
      "              precision    recall  f1-score   support\n",
      "\n",
      "           0       0.79      0.92      0.85      1590\n",
      "           1       0.16      0.06      0.08       410\n",
      "\n",
      "    accuracy                           0.75      2000\n",
      "   macro avg       0.48      0.49      0.47      2000\n",
      "weighted avg       0.66      0.75      0.69      2000\n",
      "\n"
     ]
    }
   ],
   "source": [
    "print(classification_report(target_valid, predictions_test_lr))"
   ]
  },
  {
   "cell_type": "markdown",
   "metadata": {},
   "source": [
    "Опять же, положительный класс модель предсказывает плохо."
   ]
  },
  {
   "cell_type": "markdown",
   "metadata": {},
   "source": [
    "## Выводы"
   ]
  },
  {
   "cell_type": "markdown",
   "metadata": {},
   "source": [
    "- В данных превалирующее большинство тех, кто от нас не ушел. Наблюдаем дисбаланс классов. Построили модели без учета дисбаланса классов\n",
    "\n",
    "**Дерево решений**\n",
    "\n",
    "- По матрице ошибок можно сказать, что модель угадала 1512 значений положительного класса. При этом отрицательного класса - 199 значений. При этом ложноотрицательных предсказаний - 219, а ложноположительных 70.\n",
    "- Анализируя метрики можно сказать, что из-за дисбаланса классов модель лучше предсказывает отрицательный класс. Доля правильных ответов (accuracy) равна 0.86. А вот полнота (recall) страдает, она выявляет, какую долю положительных среди всех ответов выделила модель - всего 0.47. Точность (precision) 0.74 - показывает какую долю объектов, распознанных как объекты положительного класса мы предсказали верно, т.е. около 70%. F1-мера (среднее гармоническое полноты и точности) всего лишь 0.58, ROC-AUC (площадь под ROC кривой) 0.82.\n",
    "- По результатам видим, что модель дерева решений нам не сильно подходит без учета дисбаланса классов.\n",
    "\n",
    "**Случайный лес**\n",
    "\n",
    "- Лучше всего подходит модель случайного леса с гиперпараметрами max_depth = 20 и n_estimators = 90.\n",
    "- Анализируя метрики можно сказать, что из-за дисбаланса классов модель лучше предсказывает отрицательный класс. Доля правильных ответов (accuracy) равна 0.87. А вот полнота (recall) страдает, она выявляет, какую долю положительных среди всех ответов выделила модель - всего 0.52. Точность (precision) 0.79 - показывает какую долю объектов, распознанных как объекты положительного класса мы предсказали верно, т.е. около 79%. F1-мера (среднее гармоническое полноты и точности) всего лишь 0.63, ROC-AUC (площадь под ROC кривой) 0.87.\n",
    "- Случайныйй лес без учета дисбаланса классов также нам не подходит.\n",
    "\n",
    "**Модель логистической регрессии**\n",
    "\n",
    "- Метрики Recall и F1 логистической регрессии показывают наихудшие результаты среди всех моделей.\n",
    "-  Положительный класс модель предсказывает плохо."
   ]
  },
  {
   "cell_type": "markdown",
   "metadata": {},
   "source": [
    "## Борьба с дисбалансом"
   ]
  },
  {
   "cell_type": "markdown",
   "metadata": {},
   "source": [
    "### Взвешивание классов"
   ]
  },
  {
   "cell_type": "markdown",
   "metadata": {},
   "source": [
    "#### Дерево решений"
   ]
  },
  {
   "cell_type": "code",
   "execution_count": 119,
   "metadata": {},
   "outputs": [
    {
     "name": "stdout",
     "output_type": "stream",
     "text": [
      "\u001b[4mmax_depth = \u001b[0m 1\n",
      "Accuracy:  0.7405\n",
      "Recall:  0.6292682926829268\n",
      "Precision:  0.4128\n",
      "F1:  0.49855072463768113\n",
      "ROC-AUC:  0.6992253413100169\n",
      "\u001b[4mmax_depth = \u001b[0m 5\n",
      "Accuracy:  0.765\n",
      "Recall:  0.7024390243902439\n",
      "Precision:  0.4528301886792453\n",
      "F1:  0.5506692160611855\n",
      "ROC-AUC:  0.8276806258628623\n",
      "\u001b[4mmax_depth = \u001b[0m 9\n",
      "Accuracy:  0.7775\n",
      "Recall:  0.7170731707317073\n",
      "Precision:  0.47191011235955055\n",
      "F1:  0.569215876089061\n",
      "ROC-AUC:  0.7842238073324129\n",
      "\u001b[4mmax_depth = \u001b[0m 13\n",
      "Accuracy:  0.78\n",
      "Recall:  0.5658536585365853\n",
      "Precision:  0.46963562753036436\n",
      "F1:  0.5132743362831858\n",
      "ROC-AUC:  0.7167372296364474\n",
      "\u001b[4mmax_depth = \u001b[0m 17\n",
      "Accuracy:  0.7885\n",
      "Recall:  0.5414634146341464\n",
      "Precision:  0.48577680525164113\n",
      "F1:  0.5121107266435987\n",
      "ROC-AUC:  0.6978716060745513\n",
      "\u001b[4mmax_depth = \u001b[0m 21\n",
      "Accuracy:  0.7955\n",
      "Recall:  0.5195121951219512\n",
      "Precision:  0.5011764705882353\n",
      "F1:  0.5101796407185629\n",
      "ROC-AUC:  0.6929275962570947\n",
      "\u001b[4mmax_depth = \u001b[0m 25\n",
      "Accuracy:  0.793\n",
      "Recall:  0.5121951219512195\n",
      "Precision:  0.49528301886792453\n",
      "F1:  0.5035971223021583\n",
      "ROC-AUC:  0.688801963491333\n",
      "\u001b[4mmax_depth = \u001b[0m 29\n",
      "Accuracy:  0.795\n",
      "Recall:  0.5219512195121951\n",
      "Precision:  0.5\n",
      "F1:  0.5107398568019094\n",
      "ROC-AUC:  0.693680012271821\n"
     ]
    }
   ],
   "source": [
    "for depth in range(1, 30, 4):\n",
    "    model_dt = DecisionTreeClassifier(random_state=RANDOM_SEED, max_depth = depth, class_weight='balanced') #обучение с заданной глубиной дерева\n",
    "    model_dt.fit(features_train, target_train) #обучение модели\n",
    "    predictions_valid_dt = model_dt.predict(features_valid) #Предсказания\n",
    "    probabilities_valid_dt = model_dt.predict_proba(features_valid)[:,1]\n",
    "    \n",
    "    print(color.UNDERLINE + \"max_depth = \" +  color.END, depth)\n",
    "    print('Accuracy: ', accuracy_score(target_valid, predictions_valid_dt))\n",
    "    print('Recall: ', recall_score(target_valid, predictions_valid_dt))\n",
    "    print('Precision: ', precision_score(target_valid, predictions_valid_dt))\n",
    "    print('F1: ', f1_score(target_valid, predictions_valid_dt))\n",
    "    print('ROC-AUC: ', roc_auc_score(target_valid, probabilities_valid_dt))"
   ]
  },
  {
   "cell_type": "markdown",
   "metadata": {},
   "source": [
    "Оптимальный вариант из имеющихся для дерева решений модель с гиперпараметром `max_depth =  5` F1:  0.55 и ROC-AUC:  0.83. Видим, что с взвешиванием классов модель показывает результаты хуже чем без взвешивания, для сравнения модель без взвешивания классов - F1:  0.59, ROC-AUC:  0.84"
   ]
  },
  {
   "cell_type": "markdown",
   "metadata": {},
   "source": [
    "#### Случайный лес"
   ]
  },
  {
   "cell_type": "code",
   "execution_count": 120,
   "metadata": {},
   "outputs": [
    {
     "name": "stdout",
     "output_type": "stream",
     "text": [
      "\u001b[4mmax_depth = \u001b[0m 1\n",
      "Accuracy: 0.68\n",
      "Recall:  0.748780487804878\n",
      "Precision:  0.3641755634638197\n",
      "F1:  0.49002394253790904\n",
      "ROC-AUC:  0.7740949532136829\n",
      "\u001b[4mmax_depth = \u001b[0m 2\n",
      "Accuracy: 0.73\n",
      "Recall:  0.7292682926829268\n",
      "Precision:  0.41127922971114167\n",
      "F1:  0.5259454705364995\n",
      "ROC-AUC:  0.8059203865623562\n",
      "\u001b[4mmax_depth = \u001b[0m 3\n",
      "Accuracy: 0.77\n",
      "Recall:  0.748780487804878\n",
      "Precision:  0.4637462235649547\n",
      "F1:  0.5727611940298507\n",
      "ROC-AUC:  0.8276606841540114\n",
      "\u001b[4mmax_depth = \u001b[0m 4\n",
      "Accuracy: 0.78\n",
      "Recall:  0.751219512195122\n",
      "Precision:  0.48125\n",
      "F1:  0.5866666666666667\n",
      "ROC-AUC:  0.8475870532290228\n",
      "\u001b[4mmax_depth = \u001b[0m 5\n",
      "Accuracy: 0.80\n",
      "Recall:  0.7439024390243902\n",
      "Precision:  0.5033003300330033\n",
      "F1:  0.6003937007874016\n",
      "ROC-AUC:  0.8494416321521707\n",
      "\u001b[4mmax_depth = \u001b[0m 6\n",
      "Accuracy: 0.80\n",
      "Recall:  0.7341463414634146\n",
      "Precision:  0.5154109589041096\n",
      "F1:  0.6056338028169014\n",
      "ROC-AUC:  0.8572848596410492\n",
      "\u001b[4mmax_depth = \u001b[0m 7\n",
      "Accuracy: 0.81\n",
      "Recall:  0.7170731707317073\n",
      "Precision:  0.525\n",
      "F1:  0.6061855670103092\n",
      "ROC-AUC:  0.8608689983126245\n",
      "\u001b[4mmax_depth = \u001b[0m 8\n",
      "Accuracy: 0.83\n",
      "Recall:  0.7146341463414634\n",
      "Precision:  0.5656370656370656\n",
      "F1:  0.6314655172413793\n",
      "ROC-AUC:  0.864643350207087\n",
      "\u001b[4mmax_depth = \u001b[0m 9\n",
      "Accuracy: 0.83\n",
      "Recall:  0.6951219512195121\n",
      "Precision:  0.5734406438631791\n",
      "F1:  0.6284454244762955\n",
      "ROC-AUC:  0.8644063506672801\n"
     ]
    }
   ],
   "source": [
    "for depth in range(1, 10):\n",
    "    model_rf = RandomForestClassifier(random_state=RANDOM_SEED, n_estimators=20, max_depth=depth, class_weight='balanced')\n",
    "    model_rf.fit(features_train, target_train)\n",
    "    predictions_valid_rf = model_rf.predict(features_valid)\n",
    "    probabilities_valid_rf = model_rf.predict_proba(features_valid)[:, 1]\n",
    "\n",
    "    print(color.UNDERLINE + \"max_depth = \" +  color.END, depth)\n",
    "    print('Accuracy: {:.2f}'.format(accuracy_score(target_valid, predictions_valid_rf)))\n",
    "    print('Recall: ', recall_score(target_valid, predictions_valid_rf))\n",
    "    print('Precision: ', precision_score(target_valid, predictions_valid_rf))\n",
    "    print('F1: ', f1_score(target_valid, predictions_valid_rf))\n",
    "    print('ROC-AUC: ', roc_auc_score(target_valid, probabilities_valid_rf))"
   ]
  },
  {
   "cell_type": "markdown",
   "metadata": {},
   "source": [
    "Лучше всего подходит модель случайного леса с гиперпараметром max_depth = 8\n"
   ]
  },
  {
   "cell_type": "code",
   "execution_count": 121,
   "metadata": {},
   "outputs": [
    {
     "name": "stdout",
     "output_type": "stream",
     "text": [
      "\u001b[4mn_estimators = \u001b[0m 10\n",
      "Accuracy: 0.82\n",
      "Recall:  0.7073170731707317\n",
      "Precision:  0.5534351145038168\n",
      "F1:  0.6209850107066381\n",
      "ROC-AUC:  0.8570309863475993\n",
      "\u001b[4mn_estimators = \u001b[0m 20\n",
      "Accuracy: 0.83\n",
      "Recall:  0.7146341463414634\n",
      "Precision:  0.5656370656370656\n",
      "F1:  0.6314655172413793\n",
      "ROC-AUC:  0.864643350207087\n",
      "\u001b[4mn_estimators = \u001b[0m 30\n",
      "Accuracy: 0.83\n",
      "Recall:  0.7219512195121951\n",
      "Precision:  0.5725338491295938\n",
      "F1:  0.6386192017259978\n",
      "ROC-AUC:  0.8684215370455591\n",
      "\u001b[4mn_estimators = \u001b[0m 40\n",
      "Accuracy: 0.83\n",
      "Recall:  0.7195121951219512\n",
      "Precision:  0.5705996131528046\n",
      "F1:  0.6364617044228694\n",
      "ROC-AUC:  0.870355882804111\n",
      "\u001b[4mn_estimators = \u001b[0m 50\n",
      "Accuracy: 0.83\n",
      "Recall:  0.724390243902439\n",
      "Precision:  0.566793893129771\n",
      "F1:  0.6359743040685225\n",
      "ROC-AUC:  0.87080073630925\n",
      "\u001b[4mn_estimators = \u001b[0m 60\n",
      "Accuracy: 0.83\n",
      "Recall:  0.7170731707317073\n",
      "Precision:  0.5621414913957935\n",
      "F1:  0.6302250803858521\n",
      "ROC-AUC:  0.871954287467403\n",
      "\u001b[4mn_estimators = \u001b[0m 70\n",
      "Accuracy: 0.83\n",
      "Recall:  0.7195121951219512\n",
      "Precision:  0.5619047619047619\n",
      "F1:  0.6310160427807486\n",
      "ROC-AUC:  0.87205859794447\n",
      "\u001b[4mn_estimators = \u001b[0m 80\n",
      "Accuracy: 0.83\n",
      "Recall:  0.7195121951219512\n",
      "Precision:  0.5629770992366412\n",
      "F1:  0.6316916488222698\n",
      "ROC-AUC:  0.8714634146341463\n",
      "\u001b[4mn_estimators = \u001b[0m 90\n",
      "Accuracy: 0.83\n",
      "Recall:  0.7170731707317073\n",
      "Precision:  0.5697674418604651\n",
      "F1:  0.634989200863931\n",
      "ROC-AUC:  0.8714143273508205\n",
      "\u001b[4mn_estimators = \u001b[0m 100\n",
      "Accuracy: 0.83\n",
      "Recall:  0.724390243902439\n",
      "Precision:  0.566793893129771\n",
      "F1:  0.6359743040685225\n",
      "ROC-AUC:  0.8720125786163521\n",
      "\u001b[4mn_estimators = \u001b[0m 110\n",
      "Accuracy: 0.83\n",
      "Recall:  0.7195121951219512\n",
      "Precision:  0.5673076923076923\n",
      "F1:  0.6344086021505376\n",
      "ROC-AUC:  0.8718208314158614\n"
     ]
    }
   ],
   "source": [
    "for est in range(10, 111, 10):\n",
    "    model_rf = RandomForestClassifier(random_state=RANDOM_SEED, n_estimators=est, max_depth=8, class_weight='balanced')\n",
    "    model_rf.fit(features_train, target_train)\n",
    "    predictions_valid_rf = model_rf.predict(features_valid)\n",
    "    probabilities_valid_rf = model_rf.predict_proba(features_valid)[:, 1]\n",
    "    print(color.UNDERLINE + 'n_estimators = ' + color.END, est)\n",
    "    print('Accuracy: {:.2f}'.format(accuracy_score(target_valid, predictions_valid_rf)))\n",
    "    print('Recall: ', recall_score(target_valid, predictions_valid_rf))\n",
    "    print('Precision: ', precision_score(target_valid, predictions_valid_rf))\n",
    "    print('F1: ', f1_score(target_valid, predictions_valid_rf))\n",
    "    print('ROC-AUC: ', roc_auc_score(target_valid, probabilities_valid_rf))"
   ]
  },
  {
   "cell_type": "markdown",
   "metadata": {},
   "source": [
    "Лучшие результаты показывает случайный лес с гиперпараметрами max_depth = 8 и n_estimators=100. По сравнению с моделью без учета несбалансированности классов метрики качества улучшились не значительно: F1 увеличилась с 0.632 до 0.636, а ROC-AUC с 0.869 до 0.872.\n"
   ]
  },
  {
   "cell_type": "markdown",
   "metadata": {},
   "source": [
    "#### Логистическая регрессия"
   ]
  },
  {
   "cell_type": "code",
   "execution_count": 122,
   "metadata": {},
   "outputs": [
    {
     "name": "stdout",
     "output_type": "stream",
     "text": [
      "Accuracy: 0.715\n",
      "Recall: 0.7097560975609756\n",
      "Precision: 0.3921832884097035\n",
      "F1 : 0.5052083333333333\n",
      "AUC-ROC : 0.7780825279950913\n"
     ]
    }
   ],
   "source": [
    "model_lr = LogisticRegression(random_state=RANDOM_SEED, class_weight='balanced')\n",
    "\n",
    "model_lr.fit(features_train, target_train)\n",
    "predictions_valid_lr = model_lr.predict(features_valid)\n",
    "predictions_test_lr  = model_lr.predict(features_test)\n",
    "probabilities_valid_lr = model_lr.predict_proba(features_valid)[:, 1]\n",
    "\n",
    "print(f'Accuracy: {accuracy_score(target_valid, predictions_valid_lr)}')\n",
    "print(f'Recall: {recall_score(target_valid, predictions_valid_lr)}')\n",
    "print(f'Precision: {precision_score(target_valid, predictions_valid_lr)}')\n",
    "print('F1 :', f1_score(target_valid, predictions_valid_lr))\n",
    "print('AUC-ROC :', roc_auc_score(target_valid, probabilities_valid_lr))"
   ]
  },
  {
   "cell_type": "markdown",
   "metadata": {},
   "source": [
    "Метрики качества логистической регрессии незначительно улучшились  F1-мера (среднее гармоническое полноты и точности) увеличась с 0.32 до  0.5, ROC-AUC (площадь под ROC кривой) увеличилась с 0.775 до 0.778."
   ]
  },
  {
   "cell_type": "markdown",
   "metadata": {},
   "source": [
    "### Upsampling"
   ]
  },
  {
   "cell_type": "markdown",
   "metadata": {},
   "source": [
    "Сбалансируем классы путем увеличения числа положительного класса (применим upsampling)"
   ]
  },
  {
   "cell_type": "code",
   "execution_count": 123,
   "metadata": {},
   "outputs": [],
   "source": [
    "def upsample(features, target, repeat):\n",
    "    features_zeros = features[target == 0]\n",
    "    features_ones = features[target == 1]\n",
    "    target_zeros = target[target == 0]\n",
    "    target_ones = target[target == 1]\n",
    "    \n",
    "    features_upsampled = pd.concat([features_zeros] + [features_ones] * repeat)\n",
    "    target_upsampled = pd.concat([target_zeros] + [target_ones]*repeat)\n",
    "    \n",
    "    features_upsampled, target_upsampled = shuffle(features_upsampled, target_upsampled, random_state = RANDOM_SEED)\n",
    "    \n",
    "    return features_upsampled, target_upsampled"
   ]
  },
  {
   "cell_type": "code",
   "execution_count": 124,
   "metadata": {},
   "outputs": [],
   "source": [
    "features_upsampled, target_upsampled = upsample(features_train, target_train, 3)"
   ]
  },
  {
   "cell_type": "markdown",
   "metadata": {},
   "source": [
    "Проверим, что Upsampling проошел успешно.\n"
   ]
  },
  {
   "cell_type": "code",
   "execution_count": 125,
   "metadata": {},
   "outputs": [
    {
     "data": {
      "text/html": [
       "<div>\n",
       "<style scoped>\n",
       "    .dataframe tbody tr th:only-of-type {\n",
       "        vertical-align: middle;\n",
       "    }\n",
       "\n",
       "    .dataframe tbody tr th {\n",
       "        vertical-align: top;\n",
       "    }\n",
       "\n",
       "    .dataframe thead th {\n",
       "        text-align: right;\n",
       "    }\n",
       "</style>\n",
       "<table border=\"1\" class=\"dataframe\">\n",
       "  <thead>\n",
       "    <tr style=\"text-align: right;\">\n",
       "      <th></th>\n",
       "      <th>CreditScore</th>\n",
       "      <th>Age</th>\n",
       "      <th>Tenure</th>\n",
       "      <th>Balance</th>\n",
       "      <th>NumOfProducts</th>\n",
       "      <th>HasCrCard</th>\n",
       "      <th>IsActiveMember</th>\n",
       "      <th>EstimatedSalary</th>\n",
       "      <th>Geography_Germany</th>\n",
       "      <th>Geography_Spain</th>\n",
       "      <th>Gender_Male</th>\n",
       "    </tr>\n",
       "  </thead>\n",
       "  <tbody>\n",
       "    <tr>\n",
       "      <th>0</th>\n",
       "      <td>0.009441</td>\n",
       "      <td>0.304485</td>\n",
       "      <td>-0.720730</td>\n",
       "      <td>0.130530</td>\n",
       "      <td>0.798808</td>\n",
       "      <td>0.642724</td>\n",
       "      <td>-1.034253</td>\n",
       "      <td>-1.079688</td>\n",
       "      <td>0</td>\n",
       "      <td>1</td>\n",
       "      <td>0</td>\n",
       "    </tr>\n",
       "    <tr>\n",
       "      <th>1</th>\n",
       "      <td>0.463829</td>\n",
       "      <td>-0.754202</td>\n",
       "      <td>-0.720730</td>\n",
       "      <td>1.199634</td>\n",
       "      <td>-0.936474</td>\n",
       "      <td>-1.555877</td>\n",
       "      <td>-1.034253</td>\n",
       "      <td>-1.640502</td>\n",
       "      <td>1</td>\n",
       "      <td>0</td>\n",
       "      <td>1</td>\n",
       "    </tr>\n",
       "    <tr>\n",
       "      <th>2</th>\n",
       "      <td>-0.981953</td>\n",
       "      <td>-0.176737</td>\n",
       "      <td>1.450144</td>\n",
       "      <td>1.110650</td>\n",
       "      <td>0.798808</td>\n",
       "      <td>0.642724</td>\n",
       "      <td>-1.034253</td>\n",
       "      <td>-0.160576</td>\n",
       "      <td>1</td>\n",
       "      <td>0</td>\n",
       "      <td>1</td>\n",
       "    </tr>\n",
       "    <tr>\n",
       "      <th>3</th>\n",
       "      <td>-0.197100</td>\n",
       "      <td>-0.080492</td>\n",
       "      <td>0.364707</td>\n",
       "      <td>0.179558</td>\n",
       "      <td>0.798808</td>\n",
       "      <td>0.642724</td>\n",
       "      <td>-1.034253</td>\n",
       "      <td>-0.036392</td>\n",
       "      <td>1</td>\n",
       "      <td>0</td>\n",
       "      <td>0</td>\n",
       "    </tr>\n",
       "    <tr>\n",
       "      <th>4</th>\n",
       "      <td>0.804621</td>\n",
       "      <td>0.593218</td>\n",
       "      <td>0.726519</td>\n",
       "      <td>0.251583</td>\n",
       "      <td>0.798808</td>\n",
       "      <td>0.642724</td>\n",
       "      <td>-1.034253</td>\n",
       "      <td>-0.503764</td>\n",
       "      <td>0</td>\n",
       "      <td>1</td>\n",
       "      <td>0</td>\n",
       "    </tr>\n",
       "  </tbody>\n",
       "</table>\n",
       "</div>"
      ],
      "text/plain": [
       "   CreditScore       Age    Tenure   Balance  NumOfProducts  HasCrCard  \\\n",
       "0     0.009441  0.304485 -0.720730  0.130530       0.798808   0.642724   \n",
       "1     0.463829 -0.754202 -0.720730  1.199634      -0.936474  -1.555877   \n",
       "2    -0.981953 -0.176737  1.450144  1.110650       0.798808   0.642724   \n",
       "3    -0.197100 -0.080492  0.364707  0.179558       0.798808   0.642724   \n",
       "4     0.804621  0.593218  0.726519  0.251583       0.798808   0.642724   \n",
       "\n",
       "   IsActiveMember  EstimatedSalary  Geography_Germany  Geography_Spain  \\\n",
       "0       -1.034253        -1.079688                  0                1   \n",
       "1       -1.034253        -1.640502                  1                0   \n",
       "2       -1.034253        -0.160576                  1                0   \n",
       "3       -1.034253        -0.036392                  1                0   \n",
       "4       -1.034253        -0.503764                  0                1   \n",
       "\n",
       "   Gender_Male  \n",
       "0            0  \n",
       "1            1  \n",
       "2            1  \n",
       "3            0  \n",
       "4            0  "
      ]
     },
     "metadata": {},
     "output_type": "display_data"
    },
    {
     "data": {
      "text/plain": [
       "(8418, 11)"
      ]
     },
     "execution_count": 125,
     "metadata": {},
     "output_type": "execute_result"
    }
   ],
   "source": [
    "show_sample(features_upsampled)\n",
    "features_upsampled.shape"
   ]
  },
  {
   "cell_type": "code",
   "execution_count": 126,
   "metadata": {},
   "outputs": [
    {
     "data": {
      "text/plain": [
       "0    0\n",
       "1    0\n",
       "2    1\n",
       "3    0\n",
       "4    0\n",
       "Name: Exited, dtype: int8"
      ]
     },
     "metadata": {},
     "output_type": "display_data"
    },
    {
     "data": {
      "text/plain": [
       "(8418,)"
      ]
     },
     "execution_count": 126,
     "metadata": {},
     "output_type": "execute_result"
    }
   ],
   "source": [
    "show_sample(target_upsampled)\n",
    "target_upsampled.shape"
   ]
  },
  {
   "cell_type": "code",
   "execution_count": 127,
   "metadata": {},
   "outputs": [
    {
     "data": {
      "image/png": "[encoded data removed]",
      "text/plain": [
       "<Figure size 720x360 with 1 Axes>"
      ]
     },
     "metadata": {
      "needs_background": "light"
     },
     "output_type": "display_data"
    }
   ],
   "source": [
    "plt.figure(figsize=(10, 5))\n",
    "plt.title('Диаграмма частот классов в целевом признаке Upsampling', size=14)\n",
    "target_upsampled.value_counts(normalize=True).plot(kind='bar', rot=0)\n",
    "plt.xlabel('Класс', size=12)\n",
    "plt.ylabel('Доля', size=12)\n",
    "plt.show()"
   ]
  },
  {
   "cell_type": "markdown",
   "metadata": {},
   "source": [
    "Видим, что Upsampling прошел успешно, теперь классы сбалансированы."
   ]
  },
  {
   "cell_type": "markdown",
   "metadata": {},
   "source": [
    "#### Дерево решений"
   ]
  },
  {
   "cell_type": "code",
   "execution_count": 128,
   "metadata": {},
   "outputs": [
    {
     "name": "stdout",
     "output_type": "stream",
     "text": [
      "\u001b[4mmax_depth = \u001b[0m 1\n",
      "Accuracy:  0.7405\n",
      "Recall:  0.6292682926829268\n",
      "Precision:  0.4128\n",
      "F1:  0.49855072463768113\n",
      "ROC-AUC:  0.6992253413100169\n",
      "\u001b[4mmax_depth = \u001b[0m 3\n",
      "Accuracy:  0.841\n",
      "Recall:  0.5341463414634147\n",
      "Precision:  0.6329479768786127\n",
      "F1:  0.5793650793650793\n",
      "ROC-AUC:  0.8028271207240375\n",
      "\u001b[4mmax_depth = \u001b[0m 5\n",
      "Accuracy:  0.8005\n",
      "Recall:  0.6902439024390243\n",
      "Precision:  0.5099099099099099\n",
      "F1:  0.5865284974093264\n",
      "ROC-AUC:  0.838525847522626\n",
      "\u001b[4mmax_depth = \u001b[0m 7\n",
      "Accuracy:  0.809\n",
      "Recall:  0.7219512195121951\n",
      "Precision:  0.524822695035461\n",
      "F1:  0.6078028747433266\n",
      "ROC-AUC:  0.8316973462187452\n",
      "\u001b[4mmax_depth = \u001b[0m 9\n",
      "Accuracy:  0.8095\n",
      "Recall:  0.6731707317073171\n",
      "Precision:  0.5277246653919694\n",
      "F1:  0.5916398713826366\n",
      "ROC-AUC:  0.7926974996165057\n",
      "\u001b[4mmax_depth = \u001b[0m 11\n",
      "Accuracy:  0.7925\n",
      "Recall:  0.6317073170731707\n",
      "Precision:  0.49521988527724664\n",
      "F1:  0.5551982851018221\n",
      "ROC-AUC:  0.7451188832643043\n",
      "\u001b[4mmax_depth = \u001b[0m 13\n",
      "Accuracy:  0.7825\n",
      "Recall:  0.5536585365853659\n",
      "Precision:  0.47390396659707723\n",
      "F1:  0.5106861642294713\n",
      "ROC-AUC:  0.6977258782021782\n",
      "\u001b[4mmax_depth = \u001b[0m 15\n",
      "Accuracy:  0.799\n",
      "Recall:  0.526829268292683\n",
      "Precision:  0.5094339622641509\n",
      "F1:  0.5179856115107914\n",
      "ROC-AUC:  0.7010576775579076\n",
      "\u001b[4mmax_depth = \u001b[0m 17\n",
      "Accuracy:  0.7915\n",
      "Recall:  0.5292682926829269\n",
      "Precision:  0.49206349206349204\n",
      "F1:  0.5099882491186838\n",
      "ROC-AUC:  0.6949846602239608\n",
      "\u001b[4mmax_depth = \u001b[0m 19\n",
      "Accuracy:  0.7995\n",
      "Recall:  0.526829268292683\n",
      "Precision:  0.5106382978723404\n",
      "F1:  0.518607442977191\n",
      "ROC-AUC:  0.6983877895382727\n"
     ]
    }
   ],
   "source": [
    "for depth in range(1, 20, 2):\n",
    "    model_dt = DecisionTreeClassifier(random_state=RANDOM_SEED, max_depth = depth) #обучение с заданной глубиной дерева\n",
    "    model_dt.fit(features_upsampled, target_upsampled) #обучение модели\n",
    "    predictions_valid_dt = model_dt.predict(features_valid) #Предсказания\n",
    "    probabilities_valid_dt = model_dt.predict_proba(features_valid)[:,1]\n",
    "    \n",
    "    print(color.UNDERLINE + \"max_depth = \" +  color.END, depth)\n",
    "    print('Accuracy: ', accuracy_score(target_valid, predictions_valid_dt))\n",
    "    print('Recall: ', recall_score(target_valid, predictions_valid_dt))\n",
    "    print('Precision: ', precision_score(target_valid, predictions_valid_dt))\n",
    "    print('F1: ', f1_score(target_valid, predictions_valid_dt))\n",
    "    print('ROC-AUC: ', roc_auc_score(target_valid, probabilities_valid_dt))"
   ]
  },
  {
   "cell_type": "markdown",
   "metadata": {},
   "source": [
    "Лучшая модель дерева решений с гиперпараметром max_depth = 7. В этом случае метрики F1 = 0.61, а ROC-AUC = 0.83. Без учета дисбаланса классов модель дерева решений с max_depth = 5 показала результат F1 =  0.59\n",
    "ROC-AUC =  0.84. В метрике F1 мы слегка улучшились, в метрике ROC-AUC слегка ухудшились."
   ]
  },
  {
   "cell_type": "markdown",
   "metadata": {},
   "source": [
    "#### Случайный лес"
   ]
  },
  {
   "cell_type": "markdown",
   "metadata": {},
   "source": [
    "Начнем с подбора глубины при небольшом числе деревьев. Подберем гиперпараметры."
   ]
  },
  {
   "cell_type": "code",
   "execution_count": 129,
   "metadata": {},
   "outputs": [
    {
     "name": "stdout",
     "output_type": "stream",
     "text": [
      "\u001b[4mmax_depth = \u001b[0m 1\n",
      "Accuracy: 0.81\n",
      "Recall:  0.29024390243902437\n",
      "Precision:  0.5920398009950248\n",
      "F1:  0.3895253682487725\n",
      "ROC-AUC:  0.7779736155852124\n",
      "\u001b[4mmax_depth = \u001b[0m 2\n",
      "Accuracy: 0.79\n",
      "Recall:  0.6146341463414634\n",
      "Precision:  0.49411764705882355\n",
      "F1:  0.5478260869565217\n",
      "ROC-AUC:  0.8059610369688602\n",
      "\u001b[4mmax_depth = \u001b[0m 3\n",
      "Accuracy: 0.82\n",
      "Recall:  0.6219512195121951\n",
      "Precision:  0.5567685589519651\n",
      "F1:  0.5875576036866359\n",
      "ROC-AUC:  0.8340550697959811\n",
      "\u001b[4mmax_depth = \u001b[0m 4\n",
      "Accuracy: 0.83\n",
      "Recall:  0.6634146341463415\n",
      "Precision:  0.5787234042553191\n",
      "F1:  0.618181818181818\n",
      "ROC-AUC:  0.8470064427059365\n",
      "\u001b[4mmax_depth = \u001b[0m 5\n",
      "Accuracy: 0.83\n",
      "Recall:  0.6853658536585366\n",
      "Precision:  0.5699797160243407\n",
      "F1:  0.6223698781838316\n",
      "ROC-AUC:  0.8505783095566805\n",
      "\u001b[4mmax_depth = \u001b[0m 6\n",
      "Accuracy: 0.83\n",
      "Recall:  0.7\n",
      "Precision:  0.5649606299212598\n",
      "F1:  0.6252723311546841\n",
      "ROC-AUC:  0.8552431354502223\n",
      "\u001b[4mmax_depth = \u001b[0m 7\n",
      "Accuracy: 0.84\n",
      "Recall:  0.6902439024390243\n",
      "Precision:  0.5895833333333333\n",
      "F1:  0.6359550561797752\n",
      "ROC-AUC:  0.8633026537812547\n",
      "\u001b[4mmax_depth = \u001b[0m 8\n",
      "Accuracy: 0.83\n",
      "Recall:  0.6780487804878049\n",
      "Precision:  0.5767634854771784\n",
      "F1:  0.6233183856502242\n",
      "ROC-AUC:  0.8655016106764841\n",
      "\u001b[4mmax_depth = \u001b[0m 9\n",
      "Accuracy: 0.84\n",
      "Recall:  0.6926829268292682\n",
      "Precision:  0.5867768595041323\n",
      "F1:  0.6353467561521253\n",
      "ROC-AUC:  0.8712770363552692\n"
     ]
    }
   ],
   "source": [
    "for depth in range(1, 10):\n",
    "    model_rf = RandomForestClassifier(random_state=RANDOM_SEED, n_estimators=20, max_depth=depth)\n",
    "    model_rf.fit(features_upsampled, target_upsampled)\n",
    "    predictions_valid_rf = model_rf.predict(features_valid)\n",
    "    probabilities_valid_rf = model_rf.predict_proba(features_valid)[:, 1]\n",
    "\n",
    "    print(color.UNDERLINE + \"max_depth = \" +  color.END, depth)\n",
    "    print('Accuracy: {:.2f}'.format(accuracy_score(target_valid, predictions_valid_rf)))\n",
    "    print('Recall: ', recall_score(target_valid, predictions_valid_rf))\n",
    "    print('Precision: ', precision_score(target_valid, predictions_valid_rf))\n",
    "    print('F1: ', f1_score(target_valid, predictions_valid_rf))\n",
    "    print('ROC-AUC: ', roc_auc_score(target_valid, probabilities_valid_rf))"
   ]
  },
  {
   "cell_type": "markdown",
   "metadata": {},
   "source": [
    "Лучшие результаты показывает модель случайного леса с глубиной 7 (F1:  0.64, ROC-AUC:  0.86). Теперь определим наиболее подходящий гиперпараметр `n_estimators`"
   ]
  },
  {
   "cell_type": "code",
   "execution_count": 130,
   "metadata": {},
   "outputs": [
    {
     "name": "stdout",
     "output_type": "stream",
     "text": [
      "\u001b[4mn_estimators = \u001b[0m 10\n",
      "Accuracy: 0.83\n",
      "Recall:  0.6902439024390243\n",
      "Precision:  0.5799180327868853\n",
      "F1:  0.6302895322939868\n",
      "ROC-AUC:  0.8595091271667434\n",
      "\u001b[4mn_estimators = \u001b[0m 20\n",
      "Accuracy: 0.84\n",
      "Recall:  0.6902439024390243\n",
      "Precision:  0.5895833333333333\n",
      "F1:  0.6359550561797752\n",
      "ROC-AUC:  0.8633026537812547\n",
      "\u001b[4mn_estimators = \u001b[0m 30\n",
      "Accuracy: 0.84\n",
      "Recall:  0.6902439024390243\n",
      "Precision:  0.5957894736842105\n",
      "F1:  0.63954802259887\n",
      "ROC-AUC:  0.8656036201871452\n",
      "\u001b[4mn_estimators = \u001b[0m 40\n",
      "Accuracy: 0.84\n",
      "Recall:  0.6926829268292682\n",
      "Precision:  0.5916666666666667\n",
      "F1:  0.6382022471910113\n",
      "ROC-AUC:  0.8651265531523239\n",
      "\u001b[4mn_estimators = \u001b[0m 50\n",
      "Accuracy: 0.84\n",
      "Recall:  0.7\n",
      "Precision:  0.5966735966735967\n",
      "F1:  0.6442199775533108\n",
      "ROC-AUC:  0.8690013805798433\n",
      "\u001b[4mn_estimators = \u001b[0m 60\n",
      "Accuracy: 0.84\n",
      "Recall:  0.6951219512195121\n",
      "Precision:  0.5912863070539419\n",
      "F1:  0.6390134529147983\n",
      "ROC-AUC:  0.869728485964105\n",
      "\u001b[4mn_estimators = \u001b[0m 70\n",
      "Accuracy: 0.84\n",
      "Recall:  0.6951219512195121\n",
      "Precision:  0.5864197530864198\n",
      "F1:  0.6361607142857142\n",
      "ROC-AUC:  0.8696410492406811\n",
      "\u001b[4mn_estimators = \u001b[0m 80\n",
      "Accuracy: 0.84\n",
      "Recall:  0.7\n",
      "Precision:  0.5942028985507246\n",
      "F1:  0.6427771556550952\n",
      "ROC-AUC:  0.8699202331645957\n",
      "\u001b[4mn_estimators = \u001b[0m 90\n",
      "Accuracy: 0.84\n",
      "Recall:  0.697560975609756\n",
      "Precision:  0.588477366255144\n",
      "F1:  0.6383928571428571\n",
      "ROC-AUC:  0.8704647952139899\n",
      "\u001b[4mn_estimators = \u001b[0m 100\n",
      "Accuracy: 0.84\n",
      "Recall:  0.6926829268292682\n",
      "Precision:  0.5904365904365905\n",
      "F1:  0.6374859708193041\n",
      "ROC-AUC:  0.8705276882957509\n",
      "\u001b[4mn_estimators = \u001b[0m 110\n",
      "Accuracy: 0.84\n",
      "Recall:  0.6902439024390243\n",
      "Precision:  0.5920502092050209\n",
      "F1:  0.6373873873873873\n",
      "ROC-AUC:  0.8710768522779567\n"
     ]
    }
   ],
   "source": [
    "for est in range(10, 111, 10):\n",
    "    model_rf = RandomForestClassifier(random_state=RANDOM_SEED, n_estimators=est, max_depth=7)\n",
    "    model_rf.fit(features_upsampled, target_upsampled)\n",
    "    predictions_valid_rf = model_rf.predict(features_valid)\n",
    "    probabilities_valid_rf = model_rf.predict_proba(features_valid)[:, 1]\n",
    "    print(color.UNDERLINE + 'n_estimators = ' + color.END, est)\n",
    "    print('Accuracy: {:.2f}'.format(accuracy_score(target_valid, predictions_valid_rf)))\n",
    "    print('Recall: ', recall_score(target_valid, predictions_valid_rf))\n",
    "    print('Precision: ', precision_score(target_valid, predictions_valid_rf))\n",
    "    print('F1: ', f1_score(target_valid, predictions_valid_rf))\n",
    "    print('ROC-AUC: ', roc_auc_score(target_valid, probabilities_valid_rf))"
   ]
  },
  {
   "cell_type": "markdown",
   "metadata": {},
   "source": [
    "Лучшая модель случайного леса с гиперпараметрами  `max_depth` = 7 и `n_estimators` = 80. Метрики  F1:  0.64,  ROC-AUC:  0.87. Не сильно лучше, чем без балансировки классов:  F1:  0.632, ROC-AUC:  0.87, только F1 мера выше.Но нашей целью и является найти модель с предельно большим значением F1-меры."
   ]
  },
  {
   "cell_type": "markdown",
   "metadata": {},
   "source": [
    "#### Логистическая регрессия"
   ]
  },
  {
   "cell_type": "code",
   "execution_count": 183,
   "metadata": {},
   "outputs": [
    {
     "name": "stdout",
     "output_type": "stream",
     "text": [
      "Accuracy: 0.77\n",
      "Recall: 0.6121951219512195\n",
      "Precision: 0.45471014492753625\n",
      "F1 : 0.5218295218295219\n",
      "AUC-ROC : 0.778024236846142\n"
     ]
    }
   ],
   "source": [
    "model_lr = LogisticRegression(random_state=RANDOM_SEED)\n",
    "\n",
    "model_lr.fit(features_upsampled, target_upsampled)\n",
    "predictions_valid_lr = model_lr.predict(features_valid)\n",
    "predictions_test_lr  = model_lr.predict(features_test)\n",
    "probabilities_valid_lr = model_lr.predict_proba(features_valid)[:, 1]\n",
    "\n",
    "print(f'Accuracy: {accuracy_score(target_valid, predictions_valid_lr)}')\n",
    "print(f'Recall: {recall_score(target_valid, predictions_valid_lr)}')\n",
    "print(f'Precision: {precision_score(target_valid, predictions_valid_lr)}')\n",
    "print('F1 :', f1_score(target_valid, predictions_valid_lr))\n",
    "print('AUC-ROC :', roc_auc_score(target_valid, probabilities_valid_lr))"
   ]
  },
  {
   "cell_type": "markdown",
   "metadata": {},
   "source": [
    "Модель логистической регрессии показывает результаты худшие по сравнению с остальными моделями F1 : 0.52, AUC-ROC : 0.78. По сравнению с моделью без учета дисбаланса лучше, для сравнения - F1 : 0.33, AUC-ROC : 0.78."
   ]
  },
  {
   "cell_type": "markdown",
   "metadata": {},
   "source": [
    "### Downsampling"
   ]
  },
  {
   "cell_type": "markdown",
   "metadata": {},
   "source": [
    "Для балансировки классов используем Downsampling - уберем часть объектов меньшего класса. Для этого создадим функцию."
   ]
  },
  {
   "cell_type": "markdown",
   "metadata": {},
   "source": [
    "Выбросим из таблицы случайные элементы, для этого применим функцию `sample()`. На вход пойдет аргумент frac - возвращает случайные элементы в таком количестве, чтобы их доля от исходной таблицы была равна frac."
   ]
  },
  {
   "cell_type": "code",
   "execution_count": 171,
   "metadata": {},
   "outputs": [],
   "source": [
    "def downsample(features, target, fraction):\n",
    "    features_zeros = features[target == 0]\n",
    "    features_ones = features[target == 1]\n",
    "    target_zeros = target[target == 0]\n",
    "    target_ones = target[target == 1]\n",
    "    \n",
    "    features_downsampled = pd.concat([features_zeros.sample(frac=fraction, random_state=RANDOM_SEED)] + [features_ones])\n",
    "    target_downsampled = pd.concat([target_zeros.sample(frac=fraction, random_state=RANDOM_SEED)] + [target_ones])\n",
    "    \n",
    "    features_downsampled, target_downsampled = shuffle(features_downsampled, target_downsampled, random_state=RANDOM_SEED)\n",
    "    \n",
    "    return features_downsampled, target_downsampled"
   ]
  },
  {
   "cell_type": "code",
   "execution_count": 172,
   "metadata": {},
   "outputs": [],
   "source": [
    "features_downsampled, target_downsampled = downsample(features_train, target_train, 0.3)"
   ]
  },
  {
   "cell_type": "markdown",
   "metadata": {},
   "source": [
    "Проверим, что Downsampling проошел успешно."
   ]
  },
  {
   "cell_type": "code",
   "execution_count": 173,
   "metadata": {},
   "outputs": [
    {
     "data": {
      "text/html": [
       "<div>\n",
       "<style scoped>\n",
       "    .dataframe tbody tr th:only-of-type {\n",
       "        vertical-align: middle;\n",
       "    }\n",
       "\n",
       "    .dataframe tbody tr th {\n",
       "        vertical-align: top;\n",
       "    }\n",
       "\n",
       "    .dataframe thead th {\n",
       "        text-align: right;\n",
       "    }\n",
       "</style>\n",
       "<table border=\"1\" class=\"dataframe\">\n",
       "  <thead>\n",
       "    <tr style=\"text-align: right;\">\n",
       "      <th></th>\n",
       "      <th>CreditScore</th>\n",
       "      <th>Age</th>\n",
       "      <th>Tenure</th>\n",
       "      <th>Balance</th>\n",
       "      <th>NumOfProducts</th>\n",
       "      <th>HasCrCard</th>\n",
       "      <th>IsActiveMember</th>\n",
       "      <th>EstimatedSalary</th>\n",
       "      <th>Geography_Germany</th>\n",
       "      <th>Geography_Spain</th>\n",
       "      <th>Gender_Male</th>\n",
       "    </tr>\n",
       "  </thead>\n",
       "  <tbody>\n",
       "    <tr>\n",
       "      <th>0</th>\n",
       "      <td>0.143692</td>\n",
       "      <td>0.496973</td>\n",
       "      <td>0.726519</td>\n",
       "      <td>-1.199501</td>\n",
       "      <td>0.798808</td>\n",
       "      <td>0.642724</td>\n",
       "      <td>0.966881</td>\n",
       "      <td>-0.583247</td>\n",
       "      <td>0</td>\n",
       "      <td>0</td>\n",
       "      <td>0</td>\n",
       "    </tr>\n",
       "    <tr>\n",
       "      <th>1</th>\n",
       "      <td>-1.653210</td>\n",
       "      <td>2.133126</td>\n",
       "      <td>1.088332</td>\n",
       "      <td>-1.199501</td>\n",
       "      <td>0.798808</td>\n",
       "      <td>-1.555877</td>\n",
       "      <td>0.966881</td>\n",
       "      <td>0.687793</td>\n",
       "      <td>0</td>\n",
       "      <td>1</td>\n",
       "      <td>0</td>\n",
       "    </tr>\n",
       "    <tr>\n",
       "      <th>2</th>\n",
       "      <td>-0.444948</td>\n",
       "      <td>1.651904</td>\n",
       "      <td>1.811957</td>\n",
       "      <td>0.859538</td>\n",
       "      <td>0.798808</td>\n",
       "      <td>0.642724</td>\n",
       "      <td>-1.034253</td>\n",
       "      <td>0.733398</td>\n",
       "      <td>0</td>\n",
       "      <td>0</td>\n",
       "      <td>0</td>\n",
       "    </tr>\n",
       "    <tr>\n",
       "      <th>3</th>\n",
       "      <td>-0.248735</td>\n",
       "      <td>0.208241</td>\n",
       "      <td>0.364707</td>\n",
       "      <td>-1.199501</td>\n",
       "      <td>2.534090</td>\n",
       "      <td>0.642724</td>\n",
       "      <td>0.966881</td>\n",
       "      <td>0.667668</td>\n",
       "      <td>0</td>\n",
       "      <td>0</td>\n",
       "      <td>0</td>\n",
       "    </tr>\n",
       "    <tr>\n",
       "      <th>4</th>\n",
       "      <td>0.443175</td>\n",
       "      <td>-0.754202</td>\n",
       "      <td>1.811957</td>\n",
       "      <td>-1.199501</td>\n",
       "      <td>0.798808</td>\n",
       "      <td>0.642724</td>\n",
       "      <td>-1.034253</td>\n",
       "      <td>1.054105</td>\n",
       "      <td>0</td>\n",
       "      <td>0</td>\n",
       "      <td>0</td>\n",
       "    </tr>\n",
       "  </tbody>\n",
       "</table>\n",
       "</div>"
      ],
      "text/plain": [
       "   CreditScore       Age    Tenure   Balance  NumOfProducts  HasCrCard  \\\n",
       "0     0.143692  0.496973  0.726519 -1.199501       0.798808   0.642724   \n",
       "1    -1.653210  2.133126  1.088332 -1.199501       0.798808  -1.555877   \n",
       "2    -0.444948  1.651904  1.811957  0.859538       0.798808   0.642724   \n",
       "3    -0.248735  0.208241  0.364707 -1.199501       2.534090   0.642724   \n",
       "4     0.443175 -0.754202  1.811957 -1.199501       0.798808   0.642724   \n",
       "\n",
       "   IsActiveMember  EstimatedSalary  Geography_Germany  Geography_Spain  \\\n",
       "0        0.966881        -0.583247                  0                0   \n",
       "1        0.966881         0.687793                  0                1   \n",
       "2       -1.034253         0.733398                  0                0   \n",
       "3        0.966881         0.667668                  0                0   \n",
       "4       -1.034253         1.054105                  0                0   \n",
       "\n",
       "   Gender_Male  \n",
       "0            0  \n",
       "1            0  \n",
       "2            0  \n",
       "3            0  \n",
       "4            0  "
      ]
     },
     "metadata": {},
     "output_type": "display_data"
    },
    {
     "data": {
      "text/plain": [
       "(2646, 11)"
      ]
     },
     "execution_count": 173,
     "metadata": {},
     "output_type": "execute_result"
    }
   ],
   "source": [
    "show_sample(features_downsampled)\n",
    "features_downsampled.shape"
   ]
  },
  {
   "cell_type": "code",
   "execution_count": 174,
   "metadata": {},
   "outputs": [
    {
     "data": {
      "text/plain": [
       "0    0\n",
       "1    0\n",
       "2    1\n",
       "3    1\n",
       "4    0\n",
       "Name: Exited, dtype: int8"
      ]
     },
     "metadata": {},
     "output_type": "display_data"
    },
    {
     "data": {
      "text/plain": [
       "(2646,)"
      ]
     },
     "execution_count": 174,
     "metadata": {},
     "output_type": "execute_result"
    }
   ],
   "source": [
    "show_sample(target_downsampled)\n",
    "target_downsampled.shape"
   ]
  },
  {
   "cell_type": "code",
   "execution_count": 175,
   "metadata": {},
   "outputs": [
    {
     "data": {
      "image/png": "[encoded data removed]",
      "text/plain": [
       "<Figure size 720x360 with 1 Axes>"
      ]
     },
     "metadata": {
      "needs_background": "light"
     },
     "output_type": "display_data"
    }
   ],
   "source": [
    "plt.figure(figsize=(10, 5))\n",
    "plt.title('Диаграмма частот классов в целевом признаке Downsampling', size=14)\n",
    "target_downsampled.value_counts(normalize=True).plot(kind='bar', rot=0)\n",
    "plt.xlabel('Класс', size=12)\n",
    "plt.ylabel('Доля', size=12)\n",
    "plt.show()"
   ]
  },
  {
   "cell_type": "markdown",
   "metadata": {},
   "source": [
    "Downsampling прошел успешно, теперь классы стали более сбалансированными."
   ]
  },
  {
   "cell_type": "markdown",
   "metadata": {},
   "source": [
    "#### Дерево решений"
   ]
  },
  {
   "cell_type": "code",
   "execution_count": 176,
   "metadata": {},
   "outputs": [
    {
     "name": "stdout",
     "output_type": "stream",
     "text": [
      "\u001b[4mmax_depth = \u001b[0m 1\n",
      "Accuracy:  0.7405\n",
      "Recall:  0.6292682926829268\n",
      "Precision:  0.4128\n",
      "F1:  0.49855072463768113\n",
      "ROC-AUC:  0.6992253413100169\n",
      "\u001b[4mmax_depth = \u001b[0m 3\n",
      "Accuracy:  0.824\n",
      "Recall:  0.6048780487804878\n",
      "Precision:  0.5662100456621004\n",
      "F1:  0.5849056603773585\n",
      "ROC-AUC:  0.8067203558828041\n",
      "\u001b[4mmax_depth = \u001b[0m 5\n",
      "Accuracy:  0.8265\n",
      "Recall:  0.6609756097560976\n",
      "Precision:  0.5657620041753654\n",
      "F1:  0.609673790776153\n",
      "ROC-AUC:  0.8348765148028838\n",
      "\u001b[4mmax_depth = \u001b[0m 7\n",
      "Accuracy:  0.7945\n",
      "Recall:  0.724390243902439\n",
      "Precision:  0.4991596638655462\n",
      "F1:  0.591044776119403\n",
      "ROC-AUC:  0.8232198189906427\n",
      "\u001b[4mmax_depth = \u001b[0m 9\n",
      "Accuracy:  0.7525\n",
      "Recall:  0.7195121951219512\n",
      "Precision:  0.43703703703703706\n",
      "F1:  0.543778801843318\n",
      "ROC-AUC:  0.7667533364012885\n",
      "\u001b[4mmax_depth = \u001b[0m 11\n",
      "Accuracy:  0.7525\n",
      "Recall:  0.675609756097561\n",
      "Precision:  0.433489827856025\n",
      "F1:  0.5281220209723547\n",
      "ROC-AUC:  0.7298834177021015\n",
      "\u001b[4mmax_depth = \u001b[0m 13\n",
      "Accuracy:  0.738\n",
      "Recall:  0.6951219512195121\n",
      "Precision:  0.4166666666666667\n",
      "F1:  0.5210237659963436\n",
      "ROC-AUC:  0.7154670961803957\n",
      "\u001b[4mmax_depth = \u001b[0m 15\n",
      "Accuracy:  0.7095\n",
      "Recall:  0.6829268292682927\n",
      "Precision:  0.38303693570451436\n",
      "F1:  0.49079754601226994\n",
      "ROC-AUC:  0.7000797668354043\n",
      "\u001b[4mmax_depth = \u001b[0m 17\n",
      "Accuracy:  0.7145\n",
      "Recall:  0.6902439024390243\n",
      "Precision:  0.3892709766162311\n",
      "F1:  0.49780123131046616\n",
      "ROC-AUC:  0.7043818070256175\n",
      "\u001b[4mmax_depth = \u001b[0m 19\n",
      "Accuracy:  0.704\n",
      "Recall:  0.6878048780487804\n",
      "Precision:  0.3780160857908847\n",
      "F1:  0.48788927335640137\n",
      "ROC-AUC:  0.6979904893388557\n"
     ]
    }
   ],
   "source": [
    "for depth in range(1, 20, 2):\n",
    "    model_dt = DecisionTreeClassifier(random_state=RANDOM_SEED, max_depth = depth) #обучение с заданной глубиной дерева\n",
    "    model_dt.fit(features_downsampled, target_downsampled) #обучение модели\n",
    "    predictions_valid_dt = model_dt.predict(features_valid) #Предсказания\n",
    "    probabilities_valid_dt = model_dt.predict_proba(features_valid)[:,1]\n",
    "    \n",
    "    print(color.UNDERLINE + \"max_depth = \" +  color.END, depth)\n",
    "    print('Accuracy: ', accuracy_score(target_valid, predictions_valid_dt))\n",
    "    print('Recall: ', recall_score(target_valid, predictions_valid_dt))\n",
    "    print('Precision: ', precision_score(target_valid, predictions_valid_dt))\n",
    "    print('F1: ', f1_score(target_valid, predictions_valid_dt))\n",
    "    print('ROC-AUC: ', roc_auc_score(target_valid, probabilities_valid_dt))"
   ]
  },
  {
   "cell_type": "markdown",
   "metadata": {},
   "source": [
    "Лучшие результаты показывает модель дерева решений с max_depth = 5. Метрики качества: F1 = 0.61, ROC-AUC:  0.83. Для сравнения метрики качества модели без учета дисбаланса классов: F1:  0.59, ROC-AUC:  0.84. F1-мера улучшилась."
   ]
  },
  {
   "cell_type": "markdown",
   "metadata": {},
   "source": [
    "#### Случайный лес"
   ]
  },
  {
   "cell_type": "markdown",
   "metadata": {},
   "source": [
    "Начнем с подбора глубины при небольшом числе деревьев. Подберем гиперпараметры.\n"
   ]
  },
  {
   "cell_type": "code",
   "execution_count": 167,
   "metadata": {},
   "outputs": [
    {
     "name": "stdout",
     "output_type": "stream",
     "text": [
      "\u001b[4mmax_depth = \u001b[0m 1\n",
      "Accuracy: 0.83\n",
      "Recall:  0.40487804878048783\n",
      "Precision:  0.6194029850746269\n",
      "F1:  0.4896755162241888\n",
      "ROC-AUC:  0.7888441478754409\n",
      "\u001b[4mmax_depth = \u001b[0m 2\n",
      "Accuracy: 0.79\n",
      "Recall:  0.6487804878048781\n",
      "Precision:  0.48451730418943534\n",
      "F1:  0.5547445255474452\n",
      "ROC-AUC:  0.8137360024543641\n",
      "\u001b[4mmax_depth = \u001b[0m 3\n",
      "Accuracy: 0.81\n",
      "Recall:  0.6829268292682927\n",
      "Precision:  0.5293005671077504\n",
      "F1:  0.5963791267305645\n",
      "ROC-AUC:  0.8277166743365547\n",
      "\u001b[4mmax_depth = \u001b[0m 4\n",
      "Accuracy: 0.82\n",
      "Recall:  0.7219512195121951\n",
      "Precision:  0.5372050816696915\n",
      "F1:  0.6160249739854319\n",
      "ROC-AUC:  0.8438748274275196\n",
      "\u001b[4mmax_depth = \u001b[0m 5\n",
      "Accuracy: 0.81\n",
      "Recall:  0.7341463414634146\n",
      "Precision:  0.524390243902439\n",
      "F1:  0.6117886178861789\n",
      "ROC-AUC:  0.8506688142353122\n",
      "\u001b[4mmax_depth = \u001b[0m 6\n",
      "Accuracy: 0.81\n",
      "Recall:  0.7268292682926829\n",
      "Precision:  0.5302491103202847\n",
      "F1:  0.6131687242798354\n",
      "ROC-AUC:  0.8538656235618958\n",
      "\u001b[4mmax_depth = \u001b[0m 7\n",
      "Accuracy: 0.82\n",
      "Recall:  0.7268292682926829\n",
      "Precision:  0.5488029465930019\n",
      "F1:  0.6253934942287513\n",
      "ROC-AUC:  0.8616835404203099\n",
      "\u001b[4mmax_depth = \u001b[0m 8\n",
      "Accuracy: 0.82\n",
      "Recall:  0.7463414634146341\n",
      "Precision:  0.5377855887521968\n",
      "F1:  0.6251276813074566\n",
      "ROC-AUC:  0.8660814542107685\n",
      "\u001b[4mmax_depth = \u001b[0m 9\n",
      "Accuracy: 0.81\n",
      "Recall:  0.751219512195122\n",
      "Precision:  0.532871972318339\n",
      "F1:  0.6234817813765181\n",
      "ROC-AUC:  0.8685319834330417\n"
     ]
    }
   ],
   "source": [
    "for depth in range(1, 10):\n",
    "    model_rf = RandomForestClassifier(random_state=RANDOM_SEED, n_estimators=20, max_depth=depth)\n",
    "    model_rf.fit(features_downsampled, target_downsampled)\n",
    "    predictions_valid_rf = model_rf.predict(features_valid)\n",
    "    probabilities_valid_rf = model_rf.predict_proba(features_valid)[:, 1]\n",
    "\n",
    "    print(color.UNDERLINE + \"max_depth = \" +  color.END, depth)\n",
    "    print('Accuracy: {:.2f}'.format(accuracy_score(target_valid, predictions_valid_rf)))\n",
    "    print('Recall: ', recall_score(target_valid, predictions_valid_rf))\n",
    "    print('Precision: ', precision_score(target_valid, predictions_valid_rf))\n",
    "    print('F1: ', f1_score(target_valid, predictions_valid_rf))\n",
    "    print('ROC-AUC: ', roc_auc_score(target_valid, probabilities_valid_rf))"
   ]
  },
  {
   "cell_type": "markdown",
   "metadata": {},
   "source": [
    "Лучшие результаты показывает модель случайного леса с max_depth =  7. F1=0.63, ROC-AUC = 0.87. Теперь определим наиболее подходящий гиперпараметр `n_estimators`."
   ]
  },
  {
   "cell_type": "code",
   "execution_count": 187,
   "metadata": {},
   "outputs": [
    {
     "name": "stdout",
     "output_type": "stream",
     "text": [
      "\u001b[4mn_estimators = \u001b[0m 10\n",
      "Accuracy: 0.81\n",
      "Recall:  0.7\n",
      "Precision:  0.5227686703096539\n",
      "F1:  0.5985401459854014\n",
      "ROC-AUC:  0.8535166436570026\n",
      "\u001b[4mn_estimators = \u001b[0m 20\n",
      "Accuracy: 0.82\n",
      "Recall:  0.7268292682926829\n",
      "Precision:  0.5488029465930019\n",
      "F1:  0.6253934942287513\n",
      "ROC-AUC:  0.8616835404203099\n",
      "\u001b[4mn_estimators = \u001b[0m 30\n",
      "Accuracy: 0.81\n",
      "Recall:  0.7097560975609756\n",
      "Precision:  0.5349264705882353\n",
      "F1:  0.610062893081761\n",
      "ROC-AUC:  0.861556220279184\n",
      "\u001b[4mn_estimators = \u001b[0m 40\n",
      "Accuracy: 0.82\n",
      "Recall:  0.7170731707317073\n",
      "Precision:  0.5374771480804388\n",
      "F1:  0.6144200626959248\n",
      "ROC-AUC:  0.8637060898910877\n",
      "\u001b[4mn_estimators = \u001b[0m 50\n",
      "Accuracy: 0.82\n",
      "Recall:  0.7195121951219512\n",
      "Precision:  0.5383211678832117\n",
      "F1:  0.615866388308977\n",
      "ROC-AUC:  0.8664779874213836\n",
      "\u001b[4mn_estimators = \u001b[0m 60\n",
      "Accuracy: 0.82\n",
      "Recall:  0.7195121951219512\n",
      "Precision:  0.5402930402930403\n",
      "F1:  0.6171548117154811\n",
      "ROC-AUC:  0.8678447614664826\n",
      "\u001b[4mn_estimators = \u001b[0m 70\n",
      "Accuracy: 0.82\n",
      "Recall:  0.7317073170731707\n",
      "Precision:  0.5504587155963303\n",
      "F1:  0.6282722513089005\n",
      "ROC-AUC:  0.8685473232090811\n",
      "\u001b[4mn_estimators = \u001b[0m 80\n",
      "Accuracy: 0.82\n",
      "Recall:  0.7268292682926829\n",
      "Precision:  0.5457875457875457\n",
      "F1:  0.6234309623430961\n",
      "ROC-AUC:  0.8685350513882496\n",
      "\u001b[4mn_estimators = \u001b[0m 90\n",
      "Accuracy: 0.82\n",
      "Recall:  0.7268292682926829\n",
      "Precision:  0.5408348457350273\n",
      "F1:  0.6201873048907388\n",
      "ROC-AUC:  0.8691164289001382\n",
      "\u001b[4mn_estimators = \u001b[0m 100\n",
      "Accuracy: 0.82\n",
      "Recall:  0.724390243902439\n",
      "Precision:  0.5409836065573771\n",
      "F1:  0.6193952033368091\n",
      "ROC-AUC:  0.8692774965485502\n",
      "\u001b[4mn_estimators = \u001b[0m 110\n",
      "Accuracy: 0.82\n",
      "Recall:  0.7268292682926829\n",
      "Precision:  0.5477941176470589\n",
      "F1:  0.6247379454926625\n",
      "ROC-AUC:  0.8690213222886947\n"
     ]
    }
   ],
   "source": [
    "for est in range(10, 111, 10):\n",
    "    model_rf = RandomForestClassifier(random_state=RANDOM_SEED, n_estimators=est, max_depth=7)\n",
    "    model_rf.fit(features_downsampled, target_downsampled)\n",
    "    predictions_valid_rf = model_rf.predict(features_valid)\n",
    "    probabilities_valid_rf = model_rf.predict_proba(features_valid)[:, 1]\n",
    "    print(color.UNDERLINE + 'n_estimators = ' + color.END, est)\n",
    "    print('Accuracy: {:.2f}'.format(accuracy_score(target_valid, predictions_valid_rf)))\n",
    "    print('Recall: ', recall_score(target_valid, predictions_valid_rf))\n",
    "    print('Precision: ', precision_score(target_valid, predictions_valid_rf))\n",
    "    print('F1: ', f1_score(target_valid, predictions_valid_rf))\n",
    "    print('ROC-AUC: ', roc_auc_score(target_valid, probabilities_valid_rf))"
   ]
  },
  {
   "cell_type": "markdown",
   "metadata": {},
   "source": [
    "Остановимся на гиперпараметрах модели случайного леса `max_depth` = 7 и `n_estimators` =  70. F1 = 0.63, ROC-AUC=0.87.  Не  лучше, чем без балансировки классов: F1: 0.632, ROC-AUC: 0.87."
   ]
  },
  {
   "cell_type": "markdown",
   "metadata": {},
   "source": [
    "#### Логистическая регрессия"
   ]
  },
  {
   "cell_type": "code",
   "execution_count": 189,
   "metadata": {},
   "outputs": [
    {
     "name": "stdout",
     "output_type": "stream",
     "text": [
      "Accuracy: 0.749\n",
      "Recall: 0.6390243902439025\n",
      "Precision: 0.4253246753246753\n",
      "F1 : 0.5107212475633529\n",
      "AUC-ROC : 0.7765224727718975\n"
     ]
    }
   ],
   "source": [
    "model_lr = LogisticRegression(random_state=RANDOM_SEED)\n",
    "\n",
    "model_lr.fit(features_downsampled, target_downsampled)\n",
    "predictions_valid_lr = model_lr.predict(features_valid)\n",
    "predictions_test_lr  = model_lr.predict(features_test)\n",
    "probabilities_valid_lr = model_lr.predict_proba(features_valid)[:, 1]\n",
    "\n",
    "print(f'Accuracy: {accuracy_score(target_valid, predictions_valid_lr)}')\n",
    "print(f'Recall: {recall_score(target_valid, predictions_valid_lr)}')\n",
    "print(f'Precision: {precision_score(target_valid, predictions_valid_lr)}')\n",
    "print('F1 :', f1_score(target_valid, predictions_valid_lr))\n",
    "print('AUC-ROC :', roc_auc_score(target_valid, probabilities_valid_lr))"
   ]
  },
  {
   "cell_type": "markdown",
   "metadata": {},
   "source": [
    "Модель логистической регрессии показывает результаты худшие по сравнению с остальными моделями F1 : 0.51, AUC-ROC : 0.78. По сравнению с моделью без учета дисбаланса лучше, для сравнения - F1 : 0.33, AUC-ROC : 0.78."
   ]
  },
  {
   "cell_type": "markdown",
   "metadata": {},
   "source": [
    "### Выводы"
   ]
  },
  {
   "cell_type": "markdown",
   "metadata": {},
   "source": [
    "***Модели без учета дисбаланса классов***\n",
    "\n",
    "**Дерево решений**"
   ]
  },
  {
   "cell_type": "code",
   "execution_count": 170,
   "metadata": {},
   "outputs": [
    {
     "name": "stdout",
     "output_type": "stream",
     "text": [
      "F1:  0.5935302390998594\n",
      "ROC-AUC:  0.8433578769749962\n"
     ]
    }
   ],
   "source": [
    "model_dt = DecisionTreeClassifier(random_state=RANDOM_SEED, max_depth = 5) #обучение с заданной глубиной дерева\n",
    "model_dt.fit(features_train, target_train) #обучение модели\n",
    "predictions_valid_dt = model_dt.predict(features_valid) #Предсказания\n",
    "probabilities_valid_dt = model_dt.predict_proba(features_valid)[:,1]\n",
    "print('F1: ', f1_score(target_valid, predictions_valid_dt))\n",
    "print('ROC-AUC: ', roc_auc_score(target_valid, probabilities_valid_dt))"
   ]
  },
  {
   "cell_type": "markdown",
   "metadata": {},
   "source": [
    "`max_depth` =  5.  F1: 0.59 и ROC-AUC: 0.84"
   ]
  },
  {
   "cell_type": "markdown",
   "metadata": {},
   "source": [
    "**Случайный лес**"
   ]
  },
  {
   "cell_type": "code",
   "execution_count": 144,
   "metadata": {},
   "outputs": [
    {
     "name": "stdout",
     "output_type": "stream",
     "text": [
      "F1:  0.6323529411764706\n",
      "ROC-AUC:  0.8705790765454824\n"
     ]
    }
   ],
   "source": [
    "model_rf = RandomForestClassifier(random_state=RANDOM_SEED, n_estimators=90, max_depth=20)\n",
    "model_rf.fit(features_train, target_train)\n",
    "predictions_valid_rf = model_rf.predict(features_valid)\n",
    "probabilities_valid_rf = model_rf.predict_proba(features_valid)[:, 1]\n",
    "print('F1: ', f1_score(target_valid, predictions_valid_rf))\n",
    "print('ROC-AUC: ', roc_auc_score(target_valid, probabilities_valid_rf))"
   ]
  },
  {
   "cell_type": "markdown",
   "metadata": {},
   "source": [
    "`max_depth` = 20, `n_estimators` = 90. F1: 0.63 и ROC-AUC: 0.87"
   ]
  },
  {
   "cell_type": "markdown",
   "metadata": {},
   "source": [
    "#### Логистическая регрессия"
   ]
  },
  {
   "cell_type": "code",
   "execution_count": 146,
   "metadata": {},
   "outputs": [
    {
     "name": "stdout",
     "output_type": "stream",
     "text": [
      "F1 : 0.3274021352313168\n",
      "AUC-ROC : 0.775715600552232\n"
     ]
    }
   ],
   "source": [
    "model_lr = LogisticRegression(random_state=RANDOM_SEED)\n",
    "\n",
    "model_lr.fit(features_train, target_train)\n",
    "predictions_valid_lr = model_lr.predict(features_valid)\n",
    "predictions_test_lr  = model_lr.predict(features_test)\n",
    "probabilities_valid_lr = model_lr.predict_proba(features_valid)[:, 1]\n",
    "\n",
    "print('F1 :', f1_score(target_valid, predictions_valid_lr))\n",
    "print('AUC-ROC :', roc_auc_score(target_valid, probabilities_valid_lr))"
   ]
  },
  {
   "cell_type": "markdown",
   "metadata": {},
   "source": [
    "F1: 0.33 и ROC-AUC: 0.78"
   ]
  },
  {
   "cell_type": "markdown",
   "metadata": {},
   "source": [
    "> Случайный лес без учета дисбаланса показывает лучшие результаты: `max_depth` = 20, `n_estimators` = 90. F1: 0.63 и ROC-AUC: 0.87"
   ]
  },
  {
   "cell_type": "markdown",
   "metadata": {},
   "source": [
    "***Взвешивание классов***\n",
    "\n",
    "\n",
    "**Дерево решений**"
   ]
  },
  {
   "cell_type": "code",
   "execution_count": 148,
   "metadata": {},
   "outputs": [
    {
     "name": "stdout",
     "output_type": "stream",
     "text": [
      "F1:  0.569215876089061\n",
      "ROC-AUC:  0.7842238073324129\n"
     ]
    }
   ],
   "source": [
    "model_dt = DecisionTreeClassifier(random_state=RANDOM_SEED, max_depth = 9, class_weight='balanced') #обучение с заданной глубиной дерева\n",
    "model_dt.fit(features_train, target_train) #обучение модели\n",
    "predictions_valid_dt = model_dt.predict(features_valid) #Предсказания\n",
    "probabilities_valid_dt = model_dt.predict_proba(features_valid)[:,1]\n",
    "\n",
    "print('F1: ', f1_score(target_valid, predictions_valid_dt))\n",
    "print('ROC-AUC: ', roc_auc_score(target_valid, probabilities_valid_dt))"
   ]
  },
  {
   "cell_type": "markdown",
   "metadata": {},
   "source": [
    "`max_depth` =  9. F1:  0.57, ROC-AUC:  0.78"
   ]
  },
  {
   "cell_type": "markdown",
   "metadata": {},
   "source": [
    "**Случайный лес**"
   ]
  },
  {
   "cell_type": "code",
   "execution_count": 150,
   "metadata": {},
   "outputs": [
    {
     "name": "stdout",
     "output_type": "stream",
     "text": [
      "F1:  0.6386192017259978\n",
      "ROC-AUC:  0.8684215370455591\n"
     ]
    }
   ],
   "source": [
    "model_rf = RandomForestClassifier(random_state=RANDOM_SEED, n_estimators=30, max_depth=8, class_weight='balanced')\n",
    "model_rf.fit(features_train, target_train)\n",
    "predictions_valid_rf = model_rf.predict(features_valid)\n",
    "probabilities_valid_rf = model_rf.predict_proba(features_valid)[:, 1]\n",
    "print('F1: ', f1_score(target_valid, predictions_valid_rf))\n",
    "print('ROC-AUC: ', roc_auc_score(target_valid, probabilities_valid_rf))"
   ]
  },
  {
   "cell_type": "markdown",
   "metadata": {},
   "source": [
    "`max_depth` = 8, `n_estimators` = 30. F1: 0.64 и ROC-AUC: 0.87"
   ]
  },
  {
   "cell_type": "markdown",
   "metadata": {},
   "source": [
    "#### Логистическая регрессия"
   ]
  },
  {
   "cell_type": "code",
   "execution_count": 151,
   "metadata": {},
   "outputs": [
    {
     "name": "stdout",
     "output_type": "stream",
     "text": [
      "F1 : 0.5052083333333333\n",
      "AUC-ROC : 0.7780825279950913\n"
     ]
    }
   ],
   "source": [
    "model_lr = LogisticRegression(random_state=RANDOM_SEED, class_weight='balanced')\n",
    "\n",
    "model_lr.fit(features_train, target_train)\n",
    "predictions_valid_lr = model_lr.predict(features_valid)\n",
    "predictions_test_lr  = model_lr.predict(features_test)\n",
    "probabilities_valid_lr = model_lr.predict_proba(features_valid)[:, 1]\n",
    "print('F1 :', f1_score(target_valid, predictions_valid_lr))\n",
    "print('AUC-ROC :', roc_auc_score(target_valid, probabilities_valid_lr))"
   ]
  },
  {
   "cell_type": "markdown",
   "metadata": {},
   "source": [
    "F1: 0.50 и ROC-AUC: 0.78"
   ]
  },
  {
   "cell_type": "markdown",
   "metadata": {},
   "source": [
    "> Среди моделей со взвешиванием классов - снова побеждает случайный лес (`max_depth` = 8, `n_estimators` = 30. F1: 0.64 и ROC-AUC: 0.87), что чуть лучше случайного леса без учета дисбаланса(`max_depth` = 20, `n_estimators` = 90. F1: 0.63 и ROC-AUC: 0.87)"
   ]
  },
  {
   "cell_type": "markdown",
   "metadata": {},
   "source": [
    "***Upsampling***\n",
    "\n",
    "**Дерево решений**"
   ]
  },
  {
   "cell_type": "code",
   "execution_count": 178,
   "metadata": {},
   "outputs": [
    {
     "name": "stdout",
     "output_type": "stream",
     "text": [
      "F1:  0.6078028747433266\n",
      "ROC-AUC:  0.8316973462187452\n"
     ]
    }
   ],
   "source": [
    "model_dt = DecisionTreeClassifier(random_state=RANDOM_SEED, max_depth = 7) #обучение с заданной глубиной дерева\n",
    "model_dt.fit(features_upsampled, target_upsampled) #обучение модели\n",
    "predictions_valid_dt = model_dt.predict(features_valid) #Предсказания\n",
    "probabilities_valid_dt = model_dt.predict_proba(features_valid)[:,1]\n",
    "print('F1: ', f1_score(target_valid, predictions_valid_dt))\n",
    "print('ROC-AUC: ', roc_auc_score(target_valid, probabilities_valid_dt))"
   ]
  },
  {
   "cell_type": "markdown",
   "metadata": {},
   "source": [
    "`max_depth` = 7. F1: 0.61 и ROC-AUC: 0.83\n"
   ]
  },
  {
   "cell_type": "markdown",
   "metadata": {},
   "source": [
    "**Случайный лес**"
   ]
  },
  {
   "cell_type": "code",
   "execution_count": 181,
   "metadata": {},
   "outputs": [
    {
     "name": "stdout",
     "output_type": "stream",
     "text": [
      "F1:  0.6427771556550952\n",
      "ROC-AUC:  0.8699202331645957\n"
     ]
    }
   ],
   "source": [
    "model_rf = RandomForestClassifier(random_state=RANDOM_SEED, n_estimators=80, max_depth=7)\n",
    "model_rf.fit(features_upsampled, target_upsampled)\n",
    "predictions_valid_rf = model_rf.predict(features_valid)\n",
    "probabilities_valid_rf = model_rf.predict_proba(features_valid)[:, 1]\n",
    "print('F1: ', f1_score(target_valid, predictions_valid_rf))\n",
    "print('ROC-AUC: ', roc_auc_score(target_valid, probabilities_valid_rf))"
   ]
  },
  {
   "cell_type": "markdown",
   "metadata": {},
   "source": [
    "`n_estimators`=80,`max_depth`=7. F1: 0.64 и ROC-AUC: 0.87"
   ]
  },
  {
   "cell_type": "markdown",
   "metadata": {},
   "source": [
    "#### Логистическая регрессия"
   ]
  },
  {
   "cell_type": "code",
   "execution_count": 184,
   "metadata": {},
   "outputs": [
    {
     "name": "stdout",
     "output_type": "stream",
     "text": [
      "Accuracy: 0.77\n",
      "Recall: 0.6121951219512195\n",
      "Precision: 0.45471014492753625\n",
      "F1 : 0.5218295218295219\n",
      "AUC-ROC : 0.778024236846142\n"
     ]
    }
   ],
   "source": [
    "model_lr = LogisticRegression(random_state=RANDOM_SEED)\n",
    "\n",
    "model_lr.fit(features_upsampled, target_upsampled)\n",
    "predictions_valid_lr = model_lr.predict(features_valid)\n",
    "predictions_test_lr  = model_lr.predict(features_test)\n",
    "probabilities_valid_lr = model_lr.predict_proba(features_valid)[:, 1]\n",
    "\n",
    "print(f'Accuracy: {accuracy_score(target_valid, predictions_valid_lr)}')\n",
    "print(f'Recall: {recall_score(target_valid, predictions_valid_lr)}')\n",
    "print(f'Precision: {precision_score(target_valid, predictions_valid_lr)}')\n",
    "print('F1 :', f1_score(target_valid, predictions_valid_lr))\n",
    "print('AUC-ROC :', roc_auc_score(target_valid, probabilities_valid_lr))"
   ]
  },
  {
   "cell_type": "markdown",
   "metadata": {},
   "source": [
    "F1: 0.52 и ROC-AUC: 0.78"
   ]
  },
  {
   "cell_type": "markdown",
   "metadata": {},
   "source": [
    "> С применением upsamplinga лучшие результаыт показывает случайный лес (`n_estimators`=80,`max_depth`=7. F1: 0.64 и ROC-AUC: 0.87), что чуть лучше случайного леса без учета дисбаланса(`max_depth` = 20, `n_estimators` = 90. F1: 0.63 и ROC-AUC: 0.87)"
   ]
  },
  {
   "cell_type": "markdown",
   "metadata": {},
   "source": [
    "***Downsampling***\n",
    "\n",
    "**Дерево решений**"
   ]
  },
  {
   "cell_type": "code",
   "execution_count": 186,
   "metadata": {},
   "outputs": [
    {
     "name": "stdout",
     "output_type": "stream",
     "text": [
      "F1:  0.609673790776153\n",
      "ROC-AUC:  0.8348765148028838\n"
     ]
    }
   ],
   "source": [
    "model_dt = DecisionTreeClassifier(random_state=RANDOM_SEED, max_depth = 5) #обучение с заданной глубиной дерева\n",
    "model_dt.fit(features_downsampled, target_downsampled) #обучение модели\n",
    "predictions_valid_dt = model_dt.predict(features_valid) #Предсказания\n",
    "probabilities_valid_dt = model_dt.predict_proba(features_valid)[:,1]\n",
    "print('F1: ', f1_score(target_valid, predictions_valid_dt))\n",
    "print('ROC-AUC: ', roc_auc_score(target_valid, probabilities_valid_dt))"
   ]
  },
  {
   "cell_type": "markdown",
   "metadata": {},
   "source": [
    "`max_depth` = 5. F1: 0.61 и ROC-AUC: 0.83\n"
   ]
  },
  {
   "cell_type": "markdown",
   "metadata": {},
   "source": [
    "**Случайный лес**"
   ]
  },
  {
   "cell_type": "code",
   "execution_count": 188,
   "metadata": {},
   "outputs": [
    {
     "name": "stdout",
     "output_type": "stream",
     "text": [
      "F1:  0.6282722513089005\n",
      "ROC-AUC:  0.8685473232090811\n"
     ]
    }
   ],
   "source": [
    "model_rf = RandomForestClassifier(random_state=RANDOM_SEED, n_estimators=70, max_depth=7)\n",
    "model_rf.fit(features_downsampled, target_downsampled)\n",
    "predictions_valid_rf = model_rf.predict(features_valid)\n",
    "probabilities_valid_rf = model_rf.predict_proba(features_valid)[:, 1]\n",
    "print('F1: ', f1_score(target_valid, predictions_valid_rf))\n",
    "print('ROC-AUC: ', roc_auc_score(target_valid, probabilities_valid_rf))"
   ]
  },
  {
   "cell_type": "markdown",
   "metadata": {},
   "source": [
    "`n_estimators`=70,`max_depth`=7. F1: 0.63 и ROC-AUC: 0.87"
   ]
  },
  {
   "cell_type": "markdown",
   "metadata": {},
   "source": [
    "#### Логистическая регрессия"
   ]
  },
  {
   "cell_type": "code",
   "execution_count": 190,
   "metadata": {},
   "outputs": [
    {
     "name": "stdout",
     "output_type": "stream",
     "text": [
      "F1 : 0.5107212475633529\n",
      "AUC-ROC : 0.7765224727718975\n"
     ]
    }
   ],
   "source": [
    "model_lr = LogisticRegression(random_state=RANDOM_SEED)\n",
    "\n",
    "model_lr.fit(features_downsampled, target_downsampled)\n",
    "predictions_valid_lr = model_lr.predict(features_valid)\n",
    "predictions_test_lr  = model_lr.predict(features_test)\n",
    "probabilities_valid_lr = model_lr.predict_proba(features_valid)[:, 1]\n",
    "\n",
    "print('F1 :', f1_score(target_valid, predictions_valid_lr))\n",
    "print('AUC-ROC :', roc_auc_score(target_valid, probabilities_valid_lr))"
   ]
  },
  {
   "cell_type": "markdown",
   "metadata": {},
   "source": [
    "F1: 0.51 и ROC-AUC: 0.78"
   ]
  },
  {
   "cell_type": "markdown",
   "metadata": {},
   "source": [
    "> С применением upsamplinga лучшие результат показывает случайный лес (`n_estimators`=70,`max_depth`=7. F1: 0.63 и ROC-AUC: 0.87), что чуть лучше случайного леса без учета дисбаланса(`max_depth` = 20, `n_estimators` = 90. F1: 0.63 и ROC-AUC: 0.87)"
   ]
  },
  {
   "cell_type": "markdown",
   "metadata": {},
   "source": [
    "## Тестирование модели"
   ]
  },
  {
   "cell_type": "code",
   "execution_count": null,
   "metadata": {},
   "outputs": [],
   "source": []
  },
  {
   "cell_type": "markdown",
   "metadata": {},
   "source": [
    "## Чек-лист готовности проекта"
   ]
  },
  {
   "cell_type": "markdown",
   "metadata": {},
   "source": [
    "Поставьте 'x' в выполненных пунктах. Далее нажмите Shift+Enter."
   ]
  },
  {
   "cell_type": "markdown",
   "metadata": {},
   "source": [
    "- [x]  Jupyter Notebook открыт\n",
    "- [ ]  Весь код выполняется без ошибок\n",
    "- [ ]  Ячейки с кодом расположены в порядке исполнения\n",
    "- [ ]  Выполнен шаг 1: данные подготовлены\n",
    "- [ ]  Выполнен шаг 2: задача исследована\n",
    "    - [ ]  Исследован баланс классов\n",
    "    - [ ]  Изучены модели без учёта дисбаланса\n",
    "    - [ ]  Написаны выводы по результатам исследования\n",
    "- [ ]  Выполнен шаг 3: учтён дисбаланс\n",
    "    - [ ]  Применено несколько способов борьбы с дисбалансом\n",
    "    - [ ]  Написаны выводы по результатам исследования\n",
    "- [ ]  Выполнен шаг 4: проведено тестирование\n",
    "- [ ]  Удалось достичь *F1*-меры не менее 0.59\n",
    "- [ ]  Исследована метрика *AUC-ROC*"
   ]
  },
  {
   "cell_type": "code",
   "execution_count": null,
   "metadata": {},
   "outputs": [],
   "source": []
  },
  {
   "cell_type": "code",
   "execution_count": null,
   "metadata": {},
   "outputs": [],
   "source": []
  },
  {
   "cell_type": "code",
   "execution_count": null,
   "metadata": {},
   "outputs": [],
   "source": []
  }
 ],
 "metadata": {
  "kernelspec": {
   "display_name": "Python 3",
   "language": "python",
   "name": "python3"
  },
  "language_info": {
   "codemirror_mode": {
    "name": "ipython",
    "version": 3
   },
   "file_extension": ".py",
   "mimetype": "text/x-python",
   "name": "python",
   "nbconvert_exporter": "python",
   "pygments_lexer": "ipython3",
   "version": "3.7.10"
  },
  "toc": {
   "base_numbering": 1,
   "nav_menu": {},
   "number_sections": true,
   "sideBar": true,
   "skip_h1_title": true,
   "title_cell": "Содержание",
   "title_sidebar": "Contents",
   "toc_cell": true,
   "toc_position": {},
   "toc_section_display": true,
   "toc_window_display": true
  }
 },
 "nbformat": 4,
 "nbformat_minor": 2
}
