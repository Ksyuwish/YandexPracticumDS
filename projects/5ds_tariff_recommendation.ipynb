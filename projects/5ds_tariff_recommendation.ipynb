{
 "cells": [
  {
   "cell_type": "markdown",
   "metadata": {},
   "source": [
    "# Рекомендация тарифов"
   ]
  },
  {
   "cell_type": "markdown",
   "metadata": {},
   "source": [
    "В вашем распоряжении данные о поведении клиентов, которые уже перешли на эти тарифы (из проекта курса «Статистический анализ данных»). Нужно построить модель для задачи классификации, которая выберет подходящий тариф. Предобработка данных не понадобится — вы её уже сделали.\n",
    "\n",
    "Постройте модель с максимально большим значением *accuracy*. Чтобы сдать проект успешно, нужно довести долю правильных ответов по крайней мере до 0.75. Проверьте *accuracy* на тестовой выборке самостоятельно."
   ]
  },
  {
   "cell_type": "markdown",
   "metadata": {},
   "source": [
    "## Откройте и изучите файл"
   ]
  },
  {
   "cell_type": "code",
   "execution_count": 1,
   "metadata": {},
   "outputs": [
    {
     "data": {
      "text/html": [
       "<style>.container {width:90% !important; }</style>"
      ],
      "text/plain": [
       "<IPython.core.display.HTML object>"
      ]
     },
     "metadata": {},
     "output_type": "display_data"
    }
   ],
   "source": [
    "from IPython.core.display import display, HTML\n",
    "display(HTML(\"<style>.container {width:90% !important; }</style>\"))"
   ]
  },
  {
   "cell_type": "code",
   "execution_count": 2,
   "metadata": {},
   "outputs": [],
   "source": [
    "import pandas as pd\n",
    "import numpy as np\n",
    "\n",
    "import matplotlib.pyplot as plt\n",
    "import seaborn as sns\n",
    "sns.set()\n",
    "\n",
    "from sklearn.model_selection import train_test_split\n",
    "from sklearn.tree import DecisionTreeClassifier\n",
    "from sklearn.metrics import accuracy_score\n",
    "from sklearn.ensemble import RandomForestClassifier\n",
    "from sklearn.linear_model import LogisticRegression"
   ]
  },
  {
   "cell_type": "code",
   "execution_count": 3,
   "metadata": {},
   "outputs": [],
   "source": [
    "# Based on: https://stackoverflow.com/a/17303428 (для красивого оформления результата z-теста)\n",
    "class color:\n",
    "   PURPLE = '\\033[95m'\n",
    "   CYAN = '\\033[96m'\n",
    "   DARKCYAN = '\\033[36m'\n",
    "   BLUE = '\\033[94m'\n",
    "   GREEN = '\\033[92m'\n",
    "   YELLOW = '\\033[93m'\n",
    "   RED = '\\033[91m'\n",
    "   BOLD = '\\033[1m'\n",
    "   UNDERLINE = '\\033[4m'\n",
    "   END = '\\033[0m'"
   ]
  },
  {
   "cell_type": "code",
   "execution_count": 4,
   "metadata": {},
   "outputs": [],
   "source": [
    "RANDOM_SEED = 0"
   ]
  },
  {
   "cell_type": "code",
   "execution_count": 5,
   "metadata": {},
   "outputs": [],
   "source": [
    "df = pd.read_csv('../datasets/tariff_recommendation_5ds.csv')"
   ]
  },
  {
   "cell_type": "code",
   "execution_count": 6,
   "metadata": {},
   "outputs": [
    {
     "data": {
      "text/html": [
       "<div>\n",
       "<style scoped>\n",
       "    .dataframe tbody tr th:only-of-type {\n",
       "        vertical-align: middle;\n",
       "    }\n",
       "\n",
       "    .dataframe tbody tr th {\n",
       "        vertical-align: top;\n",
       "    }\n",
       "\n",
       "    .dataframe thead th {\n",
       "        text-align: right;\n",
       "    }\n",
       "</style>\n",
       "<table border=\"1\" class=\"dataframe\">\n",
       "  <thead>\n",
       "    <tr style=\"text-align: right;\">\n",
       "      <th></th>\n",
       "      <th>count</th>\n",
       "      <th>mean</th>\n",
       "      <th>std</th>\n",
       "      <th>min</th>\n",
       "      <th>25%</th>\n",
       "      <th>50%</th>\n",
       "      <th>75%</th>\n",
       "      <th>max</th>\n",
       "    </tr>\n",
       "  </thead>\n",
       "  <tbody>\n",
       "    <tr>\n",
       "      <th>calls</th>\n",
       "      <td>3214.0</td>\n",
       "      <td>63.038892</td>\n",
       "      <td>33.236368</td>\n",
       "      <td>0.0</td>\n",
       "      <td>40.0000</td>\n",
       "      <td>62.000</td>\n",
       "      <td>82.0000</td>\n",
       "      <td>244.00</td>\n",
       "    </tr>\n",
       "    <tr>\n",
       "      <th>minutes</th>\n",
       "      <td>3214.0</td>\n",
       "      <td>438.208787</td>\n",
       "      <td>234.569872</td>\n",
       "      <td>0.0</td>\n",
       "      <td>274.5750</td>\n",
       "      <td>430.600</td>\n",
       "      <td>571.9275</td>\n",
       "      <td>1632.06</td>\n",
       "    </tr>\n",
       "    <tr>\n",
       "      <th>messages</th>\n",
       "      <td>3214.0</td>\n",
       "      <td>38.281269</td>\n",
       "      <td>36.148326</td>\n",
       "      <td>0.0</td>\n",
       "      <td>9.0000</td>\n",
       "      <td>30.000</td>\n",
       "      <td>57.0000</td>\n",
       "      <td>224.00</td>\n",
       "    </tr>\n",
       "    <tr>\n",
       "      <th>mb_used</th>\n",
       "      <td>3214.0</td>\n",
       "      <td>17207.673836</td>\n",
       "      <td>7570.968246</td>\n",
       "      <td>0.0</td>\n",
       "      <td>12491.9025</td>\n",
       "      <td>16943.235</td>\n",
       "      <td>21424.7000</td>\n",
       "      <td>49745.73</td>\n",
       "    </tr>\n",
       "    <tr>\n",
       "      <th>is_ultra</th>\n",
       "      <td>3214.0</td>\n",
       "      <td>0.306472</td>\n",
       "      <td>0.461100</td>\n",
       "      <td>0.0</td>\n",
       "      <td>0.0000</td>\n",
       "      <td>0.000</td>\n",
       "      <td>1.0000</td>\n",
       "      <td>1.00</td>\n",
       "    </tr>\n",
       "  </tbody>\n",
       "</table>\n",
       "</div>"
      ],
      "text/plain": [
       "           count          mean          std  min         25%        50%  \\\n",
       "calls     3214.0     63.038892    33.236368  0.0     40.0000     62.000   \n",
       "minutes   3214.0    438.208787   234.569872  0.0    274.5750    430.600   \n",
       "messages  3214.0     38.281269    36.148326  0.0      9.0000     30.000   \n",
       "mb_used   3214.0  17207.673836  7570.968246  0.0  12491.9025  16943.235   \n",
       "is_ultra  3214.0      0.306472     0.461100  0.0      0.0000      0.000   \n",
       "\n",
       "                 75%       max  \n",
       "calls        82.0000    244.00  \n",
       "minutes     571.9275   1632.06  \n",
       "messages     57.0000    224.00  \n",
       "mb_used   21424.7000  49745.73  \n",
       "is_ultra      1.0000      1.00  "
      ]
     },
     "execution_count": 6,
     "metadata": {},
     "output_type": "execute_result"
    }
   ],
   "source": [
    "df.describe().T"
   ]
  },
  {
   "cell_type": "code",
   "execution_count": 7,
   "metadata": {},
   "outputs": [
    {
     "name": "stdout",
     "output_type": "stream",
     "text": [
      "<class 'pandas.core.frame.DataFrame'>\n",
      "RangeIndex: 3214 entries, 0 to 3213\n",
      "Data columns (total 5 columns):\n",
      " #   Column    Non-Null Count  Dtype  \n",
      "---  ------    --------------  -----  \n",
      " 0   calls     3214 non-null   float64\n",
      " 1   minutes   3214 non-null   float64\n",
      " 2   messages  3214 non-null   float64\n",
      " 3   mb_used   3214 non-null   float64\n",
      " 4   is_ultra  3214 non-null   int64  \n",
      "dtypes: float64(4), int64(1)\n",
      "memory usage: 125.7 KB\n"
     ]
    }
   ],
   "source": [
    "df.info()"
   ]
  },
  {
   "cell_type": "markdown",
   "metadata": {},
   "source": [
    "Видим, что разрядность слишком высокая, оптимизируем типы данных."
   ]
  },
  {
   "cell_type": "code",
   "execution_count": 8,
   "metadata": {},
   "outputs": [],
   "source": [
    "float_features = df.select_dtypes(include='float64').columns\n",
    "df[float_features] = df[float_features].apply(pd.to_numeric, downcast='float')\n",
    "df['is_ultra'] = pd.to_numeric(df['is_ultra'], downcast='signed')"
   ]
  },
  {
   "cell_type": "code",
   "execution_count": 9,
   "metadata": {},
   "outputs": [
    {
     "name": "stdout",
     "output_type": "stream",
     "text": [
      "<class 'pandas.core.frame.DataFrame'>\n",
      "RangeIndex: 3214 entries, 0 to 3213\n",
      "Data columns (total 5 columns):\n",
      " #   Column    Non-Null Count  Dtype  \n",
      "---  ------    --------------  -----  \n",
      " 0   calls     3214 non-null   float32\n",
      " 1   minutes   3214 non-null   float32\n",
      " 2   messages  3214 non-null   float32\n",
      " 3   mb_used   3214 non-null   float32\n",
      " 4   is_ultra  3214 non-null   int8   \n",
      "dtypes: float32(4), int8(1)\n",
      "memory usage: 53.5 KB\n"
     ]
    }
   ],
   "source": [
    "df.info()"
   ]
  },
  {
   "cell_type": "code",
   "execution_count": 10,
   "metadata": {},
   "outputs": [
    {
     "data": {
      "text/html": [
       "<div>\n",
       "<style scoped>\n",
       "    .dataframe tbody tr th:only-of-type {\n",
       "        vertical-align: middle;\n",
       "    }\n",
       "\n",
       "    .dataframe tbody tr th {\n",
       "        vertical-align: top;\n",
       "    }\n",
       "\n",
       "    .dataframe thead th {\n",
       "        text-align: right;\n",
       "    }\n",
       "</style>\n",
       "<table border=\"1\" class=\"dataframe\">\n",
       "  <thead>\n",
       "    <tr style=\"text-align: right;\">\n",
       "      <th></th>\n",
       "      <th>calls</th>\n",
       "      <th>minutes</th>\n",
       "      <th>messages</th>\n",
       "      <th>mb_used</th>\n",
       "      <th>is_ultra</th>\n",
       "    </tr>\n",
       "  </thead>\n",
       "  <tbody>\n",
       "    <tr>\n",
       "      <th>2568</th>\n",
       "      <td>82.0</td>\n",
       "      <td>580.090027</td>\n",
       "      <td>96.0</td>\n",
       "      <td>21463.800781</td>\n",
       "      <td>0</td>\n",
       "    </tr>\n",
       "    <tr>\n",
       "      <th>2200</th>\n",
       "      <td>29.0</td>\n",
       "      <td>217.149994</td>\n",
       "      <td>46.0</td>\n",
       "      <td>16933.720703</td>\n",
       "      <td>0</td>\n",
       "    </tr>\n",
       "    <tr>\n",
       "      <th>306</th>\n",
       "      <td>36.0</td>\n",
       "      <td>250.880005</td>\n",
       "      <td>49.0</td>\n",
       "      <td>18965.019531</td>\n",
       "      <td>0</td>\n",
       "    </tr>\n",
       "    <tr>\n",
       "      <th>831</th>\n",
       "      <td>133.0</td>\n",
       "      <td>972.700012</td>\n",
       "      <td>83.0</td>\n",
       "      <td>38552.621094</td>\n",
       "      <td>0</td>\n",
       "    </tr>\n",
       "    <tr>\n",
       "      <th>2781</th>\n",
       "      <td>25.0</td>\n",
       "      <td>155.550003</td>\n",
       "      <td>98.0</td>\n",
       "      <td>17856.189453</td>\n",
       "      <td>0</td>\n",
       "    </tr>\n",
       "  </tbody>\n",
       "</table>\n",
       "</div>"
      ],
      "text/plain": [
       "      calls     minutes  messages       mb_used  is_ultra\n",
       "2568   82.0  580.090027      96.0  21463.800781         0\n",
       "2200   29.0  217.149994      46.0  16933.720703         0\n",
       "306    36.0  250.880005      49.0  18965.019531         0\n",
       "831   133.0  972.700012      83.0  38552.621094         0\n",
       "2781   25.0  155.550003      98.0  17856.189453         0"
      ]
     },
     "execution_count": 10,
     "metadata": {},
     "output_type": "execute_result"
    }
   ],
   "source": [
    "df.sample(5, random_state=RANDOM_SEED)"
   ]
  },
  {
   "cell_type": "code",
   "execution_count": 11,
   "metadata": {},
   "outputs": [
    {
     "data": {
      "text/html": [
       "<style type=\"text/css\">\n",
       "#T_5fca1_row0_col0, #T_5fca1_row1_col0, #T_5fca1_row2_col0, #T_5fca1_row3_col0, #T_5fca1_row4_col0 {\n",
       "  background-color: #3b4cc0;\n",
       "  color: #f1f1f1;\n",
       "}\n",
       "</style>\n",
       "<table id=\"T_5fca1_\">\n",
       "  <caption>% пропусков</caption>\n",
       "  <thead>\n",
       "    <tr>\n",
       "      <th class=\"blank level0\" >&nbsp;</th>\n",
       "      <th class=\"col_heading level0 col0\" >0</th>\n",
       "    </tr>\n",
       "  </thead>\n",
       "  <tbody>\n",
       "    <tr>\n",
       "      <th id=\"T_5fca1_level0_row0\" class=\"row_heading level0 row0\" >calls</th>\n",
       "      <td id=\"T_5fca1_row0_col0\" class=\"data row0 col0\" >0.00%</td>\n",
       "    </tr>\n",
       "    <tr>\n",
       "      <th id=\"T_5fca1_level0_row1\" class=\"row_heading level0 row1\" >minutes</th>\n",
       "      <td id=\"T_5fca1_row1_col0\" class=\"data row1 col0\" >0.00%</td>\n",
       "    </tr>\n",
       "    <tr>\n",
       "      <th id=\"T_5fca1_level0_row2\" class=\"row_heading level0 row2\" >messages</th>\n",
       "      <td id=\"T_5fca1_row2_col0\" class=\"data row2 col0\" >0.00%</td>\n",
       "    </tr>\n",
       "    <tr>\n",
       "      <th id=\"T_5fca1_level0_row3\" class=\"row_heading level0 row3\" >mb_used</th>\n",
       "      <td id=\"T_5fca1_row3_col0\" class=\"data row3 col0\" >0.00%</td>\n",
       "    </tr>\n",
       "    <tr>\n",
       "      <th id=\"T_5fca1_level0_row4\" class=\"row_heading level0 row4\" >is_ultra</th>\n",
       "      <td id=\"T_5fca1_row4_col0\" class=\"data row4 col0\" >0.00%</td>\n",
       "    </tr>\n",
       "  </tbody>\n",
       "</table>\n"
      ],
      "text/plain": [
       "<pandas.io.formats.style.Styler at 0x7ffa079bca10>"
      ]
     },
     "execution_count": 11,
     "metadata": {},
     "output_type": "execute_result"
    }
   ],
   "source": [
    "pd.DataFrame(round((df.isna().mean()), 2)).style.background_gradient('coolwarm')\\\n",
    "                                                                .set_caption('% пропусков').format({0:'{:,.2%}'.format})"
   ]
  },
  {
   "cell_type": "markdown",
   "metadata": {},
   "source": [
    "### Выводы"
   ]
  },
  {
   "cell_type": "markdown",
   "metadata": {},
   "source": [
    "- Данные состоят из 3214 строк и 5 столбцов: calls, minutes, messages, mb_used, is_ultra.\n",
    "- Пропусков нет\n",
    "- Данные по тарифам бьются в соотношении 70%/30% - 70% клиентов пользуются тарифом Smart, 30% клиентов тарифом Ultra\n",
    "- Поскольку разрядность в данных высокая, мы оптимизировали типы данных."
   ]
  },
  {
   "cell_type": "markdown",
   "metadata": {},
   "source": [
    "## Разбейте данные на выборки"
   ]
  },
  {
   "cell_type": "markdown",
   "metadata": {},
   "source": [
    "Построим диаграмму частот классов в целевом признаке."
   ]
  },
  {
   "cell_type": "code",
   "execution_count": 12,
   "metadata": {},
   "outputs": [
    {
     "data": {
      "image/png": "[encoded data removed]",
      "text/plain": [
       "<Figure size 720x360 with 1 Axes>"
      ]
     },
     "metadata": {},
     "output_type": "display_data"
    }
   ],
   "source": [
    "class_frequency = df['is_ultra'].value_counts(normalize=True)\n",
    "plt.figure(figsize=(10, 5))\n",
    "plt.title('Диаграмма частот классов в целевом признаке', size=14)\n",
    "class_frequency.plot(kind='bar', rot=0)\n",
    "plt.xlabel('Класс', size=12)\n",
    "plt.ylabel('Доля', size=12)\n",
    "plt.show()"
   ]
  },
  {
   "cell_type": "markdown",
   "metadata": {},
   "source": [
    "В нашем датасете присутствует дисбаланс класов. Мы можем задать пропорцию классов при разделении на обучающий и проверяющий датасеты с помощью параметра `stratify` функции `train_test_split`. Стоит отметить, что мы будем стратифицировать в соответствии распределению по классам в столбце `is_ultra`, чтобы сохранить это соотношение."
   ]
  },
  {
   "cell_type": "markdown",
   "metadata": {},
   "source": [
    "Извлечем признаки и целевой признак."
   ]
  },
  {
   "cell_type": "code",
   "execution_count": 13,
   "metadata": {},
   "outputs": [],
   "source": [
    "features = df.drop(['is_ultra'], axis=1)\n",
    "target = df['is_ultra']"
   ]
  },
  {
   "cell_type": "markdown",
   "metadata": {},
   "source": [
    "Разделим исходные данные на обучающую, валидационную и тестовую выборки в соотношении 3:1:1"
   ]
  },
  {
   "cell_type": "code",
   "execution_count": 14,
   "metadata": {},
   "outputs": [],
   "source": [
    "features_train, features_valid, target_train, target_valid = train_test_split(features, target, test_size=0.4, \n",
    "                                                                              random_state=RANDOM_SEED, stratify = target)\n",
    "features_valid, features_test, target_valid, target_test = train_test_split(features_valid, target_valid, test_size=0.5,\n",
    "                                                                           random_state=RANDOM_SEED, stratify = target_valid)"
   ]
  },
  {
   "cell_type": "markdown",
   "metadata": {},
   "source": [
    "***Проверка того, что выборки сформированы корректно.***"
   ]
  },
  {
   "cell_type": "code",
   "execution_count": 15,
   "metadata": {},
   "outputs": [
    {
     "name": "stdout",
     "output_type": "stream",
     "text": [
      "Train:  (1928, 4) (1928,)\n",
      "----------------\n",
      "Train:  (643, 4) (643,)\n",
      "----------------\n",
      "Train:  (643, 4) (643,)\n"
     ]
    }
   ],
   "source": [
    "print('Train: ', features_train.shape, target_train.shape)\n",
    "print('----------------')\n",
    "print('Train: ', features_valid.shape, target_valid.shape)\n",
    "print('----------------')\n",
    "print('Train: ', features_test.shape, target_test.shape)\n"
   ]
  },
  {
   "cell_type": "markdown",
   "metadata": {},
   "source": [
    "### Выводы"
   ]
  },
  {
   "cell_type": "markdown",
   "metadata": {},
   "source": [
    "- В исходных данных присутствует дисбаланс классов, поэтому мы задали пропорцию классов при разделении на на обучающую, валидационную и тестовую выборки\n",
    "- Проверили, что данные разделены корректно - пропорция 3/1/1\n"
   ]
  },
  {
   "cell_type": "markdown",
   "metadata": {},
   "source": [
    "## Исследуйте модели"
   ]
  },
  {
   "cell_type": "markdown",
   "metadata": {},
   "source": [
    "Обучим модель случайного  леса и выберем лучшую по метрике accuracy."
   ]
  },
  {
   "cell_type": "markdown",
   "metadata": {},
   "source": [
    "Эти 2 цикла работают одинаковым образом - в первом случае мы не делали предсказания, а просто проверили Accuracy на обучающей и валидирующей выборках, во втором случае - мы делали предсказания, а затем рассчитывали Accuracy."
   ]
  },
  {
   "cell_type": "code",
   "execution_count": 16,
   "metadata": {},
   "outputs": [
    {
     "name": "stdout",
     "output_type": "stream",
     "text": [
      "\u001b[4mmax_depth = \u001b[0m 1\n",
      "Accuracy train:  0.7557053941908713\n",
      "Accuracy valid:  0.7418351477449455\n",
      "\u001b[4mmax_depth = \u001b[0m 2\n",
      "Accuracy train:  0.7894190871369294\n",
      "Accuracy valid:  0.7698289269051322\n",
      "\u001b[4mmax_depth = \u001b[0m 3\n",
      "Accuracy train:  0.8003112033195021\n",
      "Accuracy valid:  0.7838258164852255\n",
      "\u001b[4mmax_depth = \u001b[0m 4\n",
      "Accuracy train:  0.8132780082987552\n",
      "Accuracy valid:  0.7822706065318819\n",
      "\u001b[4mmax_depth = \u001b[0m 5\n",
      "Accuracy train:  0.8174273858921162\n",
      "Accuracy valid:  0.7822706065318819\n",
      "\u001b[4mmax_depth = \u001b[0m 6\n",
      "Accuracy train:  0.8324688796680498\n",
      "Accuracy valid:  0.7744945567651633\n",
      "\u001b[4mmax_depth = \u001b[0m 7\n",
      "Accuracy train:  0.8464730290456431\n",
      "Accuracy valid:  0.7776049766718507\n",
      "\u001b[4mmax_depth = \u001b[0m 8\n",
      "Accuracy train:  0.8573651452282157\n",
      "Accuracy valid:  0.7713841368584758\n",
      "\u001b[4mmax_depth = \u001b[0m 9\n",
      "Accuracy train:  0.8692946058091287\n",
      "Accuracy valid:  0.7807153965785381\n",
      "\u001b[4mmax_depth = \u001b[0m 10\n",
      "Accuracy train:  0.8807053941908713\n",
      "Accuracy valid:  0.76049766718507\n"
     ]
    }
   ],
   "source": [
    "for depth in range(1, 11):\n",
    "    model_dt = DecisionTreeClassifier(random_state=RANDOM_SEED, max_depth = depth) #обучение с заданной глубиной дерева\n",
    "    model_dt.fit(features_train, target_train) #обучение модели\n",
    "    result_train_dt = model_dt.score(features_train, target_train)\n",
    "    result_valid_dt = model_dt.score(features_valid, target_valid) #качество модели\n",
    "    print(color.UNDERLINE + \"max_depth = \" +  color.END, depth)\n",
    "    print('Accuracy train: ', result_train_dt)\n",
    "    print('Accuracy valid: ', result_valid_dt)"
   ]
  },
  {
   "cell_type": "code",
   "execution_count": 17,
   "metadata": {},
   "outputs": [
    {
     "name": "stdout",
     "output_type": "stream",
     "text": [
      "\u001b[4mmax_depth = \u001b[0m 1\n",
      "Accuracy train:  0.7557053941908713\n",
      "Accuracy valid:  0.7418351477449455\n",
      "\u001b[4mmax_depth = \u001b[0m 2\n",
      "Accuracy train:  0.7894190871369294\n",
      "Accuracy valid:  0.7698289269051322\n",
      "\u001b[4mmax_depth = \u001b[0m 3\n",
      "Accuracy train:  0.8003112033195021\n",
      "Accuracy valid:  0.7838258164852255\n",
      "\u001b[4mmax_depth = \u001b[0m 4\n",
      "Accuracy train:  0.8132780082987552\n",
      "Accuracy valid:  0.7822706065318819\n",
      "\u001b[4mmax_depth = \u001b[0m 5\n",
      "Accuracy train:  0.8174273858921162\n",
      "Accuracy valid:  0.7822706065318819\n",
      "\u001b[4mmax_depth = \u001b[0m 6\n",
      "Accuracy train:  0.8324688796680498\n",
      "Accuracy valid:  0.7744945567651633\n",
      "\u001b[4mmax_depth = \u001b[0m 7\n",
      "Accuracy train:  0.8464730290456431\n",
      "Accuracy valid:  0.7776049766718507\n",
      "\u001b[4mmax_depth = \u001b[0m 8\n",
      "Accuracy train:  0.8573651452282157\n",
      "Accuracy valid:  0.7713841368584758\n",
      "\u001b[4mmax_depth = \u001b[0m 9\n",
      "Accuracy train:  0.8692946058091287\n",
      "Accuracy valid:  0.7807153965785381\n",
      "\u001b[4mmax_depth = \u001b[0m 10\n",
      "Accuracy train:  0.8807053941908713\n",
      "Accuracy valid:  0.76049766718507\n"
     ]
    }
   ],
   "source": [
    "for depth in range(1, 11):\n",
    "    model_dt = DecisionTreeClassifier(random_state=RANDOM_SEED, max_depth = depth) #обучение с заданной глубиной дерева\n",
    "    model_dt.fit(features_train, target_train) #обучение модели\n",
    "    predictions_train_dt = model_dt.predict(features_train) #Предсказания\n",
    "    predictions_valid_dt = model_dt.predict(features_valid) #Предсказания\n",
    "    result_train_dt = accuracy_score(target_train, predictions_train_dt)\n",
    "    result_valid_dt = accuracy_score(target_valid, predictions_valid_dt) #качество модели\n",
    "    print(color.UNDERLINE + \"max_depth = \" +  color.END, depth)\n",
    "    print('Accuracy train: ', result_train_dt)\n",
    "    print('Accuracy valid: ', result_valid_dt)"
   ]
  },
  {
   "cell_type": "markdown",
   "metadata": {},
   "source": [
    "Нам больше всего подходит гиперпараметр `max_depth` =  5. В этом случае модель меньше всего переобучается Accuracy train =  0.82, Accuracy valid = 0.78"
   ]
  },
  {
   "cell_type": "markdown",
   "metadata": {},
   "source": [
    "Обучим модель случайного леса и выберем наиболее подходящие гиперпараметры для нашей модели исходя из Accuracy. Сначала подберем `max_depth`, а затем `n_estimators`"
   ]
  },
  {
   "cell_type": "code",
   "execution_count": 18,
   "metadata": {},
   "outputs": [
    {
     "name": "stdout",
     "output_type": "stream",
     "text": [
      "\u001b[4mmax_depth = \u001b[0m 1\n",
      "Accuracy train:  0.7494813278008299\n",
      "Accuracy valid:  0.7480559875583204\n",
      "\u001b[4mmax_depth = \u001b[0m 2\n",
      "Accuracy train:  0.7878630705394191\n",
      "Accuracy valid:  0.7729393468118196\n",
      "\u001b[4mmax_depth = \u001b[0m 3\n",
      "Accuracy train:  0.8008298755186722\n",
      "Accuracy valid:  0.7900466562986003\n",
      "\u001b[4mmax_depth = \u001b[0m 4\n",
      "Accuracy train:  0.8117219917012448\n",
      "Accuracy valid:  0.7962674961119751\n",
      "\u001b[4mmax_depth = \u001b[0m 5\n",
      "Accuracy train:  0.8220954356846473\n",
      "Accuracy valid:  0.7884914463452566\n",
      "\u001b[4mmax_depth = \u001b[0m 6\n",
      "Accuracy train:  0.828838174273859\n",
      "Accuracy valid:  0.7931570762052877\n",
      "\u001b[4mmax_depth = \u001b[0m 7\n",
      "Accuracy train:  0.850103734439834\n",
      "Accuracy valid:  0.7931570762052877\n",
      "\u001b[4mmax_depth = \u001b[0m 8\n",
      "Accuracy train:  0.8635892116182573\n",
      "Accuracy valid:  0.7947122861586314\n",
      "\u001b[4mmax_depth = \u001b[0m 9\n",
      "Accuracy train:  0.879149377593361\n",
      "Accuracy valid:  0.8040435458786936\n",
      "\u001b[4mmax_depth = \u001b[0m 10\n",
      "Accuracy train:  0.8853734439834025\n",
      "Accuracy valid:  0.7962674961119751\n",
      "\u001b[4mmax_depth = \u001b[0m 11\n",
      "Accuracy train:  0.8978215767634855\n",
      "Accuracy valid:  0.7900466562986003\n",
      "\u001b[4mmax_depth = \u001b[0m 12\n",
      "Accuracy train:  0.9071576763485477\n",
      "Accuracy valid:  0.7822706065318819\n",
      "\u001b[4mmax_depth = \u001b[0m 13\n",
      "Accuracy train:  0.9237551867219918\n",
      "Accuracy valid:  0.7822706065318819\n",
      "\u001b[4mmax_depth = \u001b[0m 14\n",
      "Accuracy train:  0.9356846473029046\n",
      "Accuracy valid:  0.7807153965785381\n",
      "\u001b[4mmax_depth = \u001b[0m 15\n",
      "Accuracy train:  0.946058091286307\n",
      "Accuracy valid:  0.7947122861586314\n",
      "\u001b[4mmax_depth = \u001b[0m 16\n",
      "Accuracy train:  0.95798755186722\n",
      "Accuracy valid:  0.7807153965785381\n",
      "\u001b[4mmax_depth = \u001b[0m 17\n",
      "Accuracy train:  0.9704356846473029\n",
      "Accuracy valid:  0.7822706065318819\n",
      "\u001b[4mmax_depth = \u001b[0m 18\n",
      "Accuracy train:  0.975103734439834\n",
      "Accuracy valid:  0.7853810264385692\n",
      "\u001b[4mmax_depth = \u001b[0m 19\n",
      "Accuracy train:  0.983402489626556\n",
      "Accuracy valid:  0.776049766718507\n"
     ]
    }
   ],
   "source": [
    "for depth in range(1, 20):\n",
    "    model_rf = RandomForestClassifier(random_state=RANDOM_SEED, max_depth=depth, n_estimators=20)\n",
    "    model_rf.fit(features_train, target_train)\n",
    "    result_train_rf = model_rf.score(features_train, target_train)\n",
    "    result_valid_rf = model_rf.score(features_valid, target_valid)\n",
    "    print(color.UNDERLINE + \"max_depth = \" +  color.END, depth)\n",
    "    print('Accuracy train: ', result_train_rf)\n",
    "    print('Accuracy valid: ', result_valid_rf)"
   ]
  },
  {
   "cell_type": "markdown",
   "metadata": {},
   "source": [
    "Больше всего подходит модель случайного леса с  `max_depth` =  15:\n",
    "\n",
    "    Accuracy train:  0.95\n",
    "    Accuracy valid:  0.79"
   ]
  },
  {
   "cell_type": "code",
   "execution_count": 19,
   "metadata": {},
   "outputs": [
    {
     "name": "stdout",
     "output_type": "stream",
     "text": [
      "\u001b[4mn_estimators = \u001b[0m 10\n",
      "Accuracy train:  0.9387966804979253\n",
      "Accuracy valid:  0.7776049766718507\n",
      "\u001b[4mn_estimators = \u001b[0m 20\n",
      "Accuracy train:  0.946058091286307\n",
      "Accuracy valid:  0.7947122861586314\n",
      "\u001b[4mn_estimators = \u001b[0m 30\n",
      "Accuracy train:  0.9507261410788381\n",
      "Accuracy valid:  0.7869362363919129\n",
      "\u001b[4mn_estimators = \u001b[0m 40\n",
      "Accuracy train:  0.9517634854771784\n",
      "Accuracy valid:  0.7853810264385692\n",
      "\u001b[4mn_estimators = \u001b[0m 50\n",
      "Accuracy train:  0.9507261410788381\n",
      "Accuracy valid:  0.7791601866251944\n",
      "\u001b[4mn_estimators = \u001b[0m 60\n",
      "Accuracy train:  0.9512448132780082\n",
      "Accuracy valid:  0.7822706065318819\n",
      "\u001b[4mn_estimators = \u001b[0m 70\n",
      "Accuracy train:  0.9528008298755186\n",
      "Accuracy valid:  0.7838258164852255\n",
      "\u001b[4mn_estimators = \u001b[0m 80\n",
      "Accuracy train:  0.9522821576763485\n",
      "Accuracy valid:  0.7838258164852255\n",
      "\u001b[4mn_estimators = \u001b[0m 90\n",
      "Accuracy train:  0.9522821576763485\n",
      "Accuracy valid:  0.7853810264385692\n",
      "\u001b[4mn_estimators = \u001b[0m 100\n",
      "Accuracy train:  0.9528008298755186\n",
      "Accuracy valid:  0.7838258164852255\n"
     ]
    }
   ],
   "source": [
    "for est in range(10, 101, 10):\n",
    "    model_rf = RandomForestClassifier(random_state=RANDOM_SEED, n_estimators=est, max_depth = 15)\n",
    "    model_rf.fit(features_train, target_train)\n",
    "    result_rf_train = model_rf.score(features_train, target_train)\n",
    "    result_rf_valid = model_rf.score(features_valid, target_valid)\n",
    "    print(color.UNDERLINE + \"n_estimators = \" +  color.END, est)\n",
    "    print('Accuracy train: ', result_rf_train)\n",
    "    print('Accuracy valid: ', result_rf_valid)"
   ]
  },
  {
   "cell_type": "markdown",
   "metadata": {},
   "source": [
    "Лучше всего по accuracy показала себя модель случайного леса с `n_estimators` = 20  и `max_depth` =  15:\n",
    "\n",
    "    Accuracy train:  0.95\n",
    "    Accuracy valid:  0.79"
   ]
  },
  {
   "cell_type": "markdown",
   "metadata": {},
   "source": [
    "Обучим модель логистической регрессии."
   ]
  },
  {
   "cell_type": "code",
   "execution_count": 20,
   "metadata": {},
   "outputs": [
    {
     "name": "stdout",
     "output_type": "stream",
     "text": [
      "Accuracy train:  0.7479253112033195\n",
      "Accuracy valid:  0.76049766718507\n"
     ]
    }
   ],
   "source": [
    "model_lr = LogisticRegression(random_state=RANDOM_SEED)\n",
    "model_lr.fit(features_train, target_train)\n",
    "result_lr_train = model_lr.score(features_train, target_train)\n",
    "result_lr_target = model_lr.score(features_valid, target_valid)\n",
    "\n",
    "print(\"Accuracy train: \", result_lr_train)\n",
    "print(\"Accuracy valid: \", result_lr_target)"
   ]
  },
  {
   "cell_type": "markdown",
   "metadata": {},
   "source": [
    "Accuracy модели логистической регрессии на валидационной выборке:  0.76, а на тренировочной - 0.74. Она уступает по качеству модели случайного леса и дерева решений, но не переобучается в отличие от остальных."
   ]
  },
  {
   "cell_type": "markdown",
   "metadata": {},
   "source": [
    "### Выводы"
   ]
  },
  {
   "cell_type": "markdown",
   "metadata": {},
   "source": [
    "**Дерево решений**\n",
    "\n",
    "`max_depth` =  5. В этом случае модель меньше всего переобучается Accuracy train =  0.82, Accuracy valid = 0.78\n",
    "\n",
    "**Случайный лес**\n",
    "\n",
    "Лучше всего по accuracy показала себя модель случайного леса с `n_estimators` = 20  и `max_depth` =  15:\n",
    "\n",
    "Accuracy train:  0.95, Accuracy valid:  0.79\n",
    "        \n",
    "**Логистическая регрессия**\n",
    "\n",
    "Accuracy модели логистической регрессии на валидационной выборке: 0.76, а на тренировочной - 0.74. Она уступает по качеству модели случайного леса и дерева решений, но не переобучается в отличие от остальных.\n",
    "    \n",
    "***Лучше всего нам подходит модель случайного леса***\n"
   ]
  },
  {
   "cell_type": "markdown",
   "metadata": {},
   "source": [
    "## Проверьте модель на тестовой выборке"
   ]
  },
  {
   "cell_type": "code",
   "execution_count": 21,
   "metadata": {},
   "outputs": [
    {
     "name": "stdout",
     "output_type": "stream",
     "text": [
      "Accuracy на тестовой выборке: 0.8071539658\n"
     ]
    }
   ],
   "source": [
    "model_rf = RandomForestClassifier(random_state=RANDOM_SEED, max_depth=15, n_estimators=20)\n",
    "model_rf.fit(features_train, target_train)\n",
    "predictions_test_rf = model_rf.predict(features_test) #Предсказания\n",
    "result_rf = accuracy_score(target_test, predictions_test_rf) #качество модели\n",
    "print(\"Accuracy на тестовой выборке: {:.10f}\".format(result_rf))"
   ]
  },
  {
   "cell_type": "markdown",
   "metadata": {},
   "source": [
    "На тестовой выборке модель случайного леса показала себя лучше, чем на валидационной. Accuracy = 0.81"
   ]
  },
  {
   "cell_type": "markdown",
   "metadata": {},
   "source": [
    "### Вывод"
   ]
  },
  {
   "cell_type": "markdown",
   "metadata": {},
   "source": [
    "Результаты модели случайного леса: Accuracy train: 0.95, Accuracy valid: 0.79, Accuracy test: 0.81"
   ]
  },
  {
   "cell_type": "markdown",
   "metadata": {},
   "source": [
    "## (бонус) Проверьте модели на адекватность"
   ]
  },
  {
   "cell_type": "markdown",
   "metadata": {},
   "source": [
    "Сравним получившуюся модель с константной."
   ]
  },
  {
   "cell_type": "code",
   "execution_count": 22,
   "metadata": {},
   "outputs": [
    {
     "data": {
      "text/plain": [
       "0    0.693528\n",
       "1    0.306472\n",
       "Name: is_ultra, dtype: float64"
      ]
     },
     "execution_count": 22,
     "metadata": {},
     "output_type": "execute_result"
    }
   ],
   "source": [
    "df['is_ultra'].value_counts()/df.shape[0]"
   ]
  },
  {
   "cell_type": "markdown",
   "metadata": {},
   "source": [
    "## Вывод"
   ]
  },
  {
   "cell_type": "markdown",
   "metadata": {},
   "source": [
    "У константной модели Accuracy равно примерно 69%. Cоответственно если сравнивать с получившимся результатом логистической регрессии, где Accuracy равно 0.74 , можно сказать , что модель логистической регрессии предсказывает плохо и она нам не подходит. Со случайным лесом все более-менее: Accuracy на тесте = 0.81."
   ]
  },
  {
   "cell_type": "markdown",
   "metadata": {},
   "source": [
    "## Общий вывод"
   ]
  },
  {
   "cell_type": "markdown",
   "metadata": {},
   "source": [
    "- Данные состоят из 3214 строк и 5 столбцов: calls, minutes, messages, mb_used, is_ultra.\n",
    "- Пропусков нет\n",
    "- Данные по тарифам бьются в соотношении 70%/30% - 70% клиентов пользуются тарифом Smart, 30% клиентов тарифом Ultra\n",
    "- Поскольку разрядность в данных высокая, мы оптимизировали типы данных\n",
    "\n",
    "- В исходных данных присутствует дисбаланс классов, поэтому мы задали пропорцию классов при разделении на на обучающую, валидационную и тестовую выборки\n",
    "- Проверили, что данные разделены корректно - пропорция 3/1/1\n",
    "\n",
    "**Дерево решений**\n",
    "\n",
    "`max_depth` =  5. В этом случае модель меньше всего переобучается Accuracy train =  0.82, Accuracy valid = 0.78\n",
    "\n",
    "**Случайный лес**\n",
    "\n",
    "Лучше всего по accuracy показала себя модель случайного леса с `n_estimators` = 20  и `max_depth` =  15:\n",
    "\n",
    "Accuracy train:  0.95, Accuracy valid:  0.79\n",
    "        \n",
    "**Логистическая регрессия**\n",
    "\n",
    "Accuracy модели логистической регрессии на валидационной выборке: 0.76, а на тренировочной - 0.74. Она уступает по качеству модели случайного леса и дерева решений, но не переобучается в отличие от остальных.\n",
    "    \n",
    "***Лучше всего нам подходит модель случайного леса***\n",
    "\n",
    "Результаты модели случайного леса: Accuracy train: 0.95, Accuracy valid: 0.79, Accuracy test: 0.81\n",
    "\n",
    "У константной модели Accuracy равно примерно 69%. Cоответственно если сравнивать с получившимся результатом логистической регрессии, где Accuracy равно 0.74 , можно сказать , что модель логистической регрессии предсказывает плохо и она нам не подходит. Со случайным лесом все более-менее: Accuracy на тесте = 0.81.\n"
   ]
  },
  {
   "cell_type": "code",
   "execution_count": null,
   "metadata": {},
   "outputs": [],
   "source": []
  }
 ],
 "metadata": {
  "kernelspec": {
   "display_name": "Python 3",
   "language": "python",
   "name": "python3"
  },
  "language_info": {
   "codemirror_mode": {
    "name": "ipython",
    "version": 3
   },
   "file_extension": ".py",
   "mimetype": "text/x-python",
   "name": "python",
   "nbconvert_exporter": "python",
   "pygments_lexer": "ipython3",
   "version": "3.7.10"
  },
  "toc": {
   "base_numbering": 1,
   "nav_menu": {},
   "number_sections": true,
   "sideBar": true,
   "skip_h1_title": true,
   "title_cell": "Table of Contents",
   "title_sidebar": "Contents",
   "toc_cell": false,
   "toc_position": {},
   "toc_section_display": true,
   "toc_window_display": false
  }
 },
 "nbformat": 4,
 "nbformat_minor": 2
}
