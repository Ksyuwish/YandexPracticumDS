{
 "cells": [
  {
   "cell_type": "markdown",
   "id": "outside-documentary",
   "metadata": {},
   "source": [
    "# Восстановление золота из руды"
   ]
  },
  {
   "cell_type": "markdown",
   "id": "rising-dynamics",
   "metadata": {},
   "source": [
    "Необходимо подготовить прототип модели машинного обучения для компании «Цифры», которая разрабатывает решения для эффективной работы промышленных предприятий.\n",
    "Модель должна предсказать коэффициент восстановления золота из золотосодержащей руды. У нас есть данные с параметрами добычи и очистки.\n",
    "Модель поможет оптимизировать производство, чтобы не запускать предприятие с убыточными характеристиками.\n",
    "\n",
    "В процессе выполнения проекта необходимо:\n",
    "\n",
    "- Подготовить данные;\n",
    "- Провести исследовательский анализ данных;\n",
    "- Построить и обучить модель."
   ]
  },
  {
   "cell_type": "markdown",
   "id": "conditional-memphis",
   "metadata": {},
   "source": [
    "***Технологический процесс***\n",
    "\n",
    "Когда добытая руда проходит первичную обработку, получается дроблёная смесь. Её отправляют на флотацию (обогащение) и двухэтапную очистку.\n",
    "\n",
    "\n",
    "**Стадии:**\n",
    "\n",
    "1. Флотация\n",
    "\n",
    "Во флотационную установку подаётся смесь золотосодержащей руды. После обогащения получается черновой концентрат и «отвальные хвосты», то есть остатки продукта с низкой концентрацией ценных металлов.\n",
    "На стабильность этого процесса влияет непостоянное и неоптимальное физико-химическое состояние флотационной пульпы (смеси твёрдых частиц и жидкости).\n",
    "\n",
    "2. Очистка\n",
    "\n",
    "Черновой концентрат проходит две очистки. На выходе получается финальный концентрат и новые отвальные хвосты.\n",
    "\n",
    "\n",
    "***Описание данных***\n",
    "\n",
    "**Технологический процесс**\n",
    "\n",
    "* `Rougher feed` — исходное сырье\n",
    "* `Rougher additions` (или `reagent additions`) — флотационные реагенты: Xanthate, Sulphate, Depressant\n",
    "    * `Xanthat **` — ксантогенат (промотер, или активатор флотации);\n",
    "    * `Sulphate` — сульфат (на данном производстве сульфид натрия);\n",
    "    * `Depressant` — депрессант (силикат натрия).\n",
    "* `Rougher process` (англ. «грубый процесс») — флотация\n",
    "* `Rougher tails` — отвальные хвосты\n",
    "* `Float banks` — флотационная установка\n",
    "* `Cleaner process` — очистка\n",
    "* `Rougher Au` — черновой концентрат золота\n",
    "* `Final Au` — финальный концентрат золота\n",
    "\n",
    "**Параметры этапов**\n",
    "\n",
    "* `air amount` — объём воздуха\n",
    "* `fluid levels` — уровень жидкости\n",
    "* `feed size` — размер гранул сырья\n",
    "* `feed rate` — скорость подачи\n",
    "\n",
    "\n",
    "Нужно спрогнозировать сразу две величины:\n",
    "\n",
    "1. эффективность обогащения чернового концентрата `rougher.output.recovery`;\n",
    "2. эффективность обогащения финального концентрата `final.output.recovery`.\n",
    "\n",
    "\n",
    "Данные находятся в трёх файлах:\n",
    "\n",
    "* `gold_recovery_train_new_8ds.csv` — обучающая выборка;\n",
    "* `gold_recovery_test_new_8ds.csv` — тестовая выборка;\n",
    "* `gold_recovery_full_new_8ds.csv` — исходные данные.\n",
    "\n",
    "Данные индексируются датой и временем получения информации (признак `date`). Соседние по времени параметры часто похожи.\n",
    "\n",
    "Некоторые параметры недоступны, потому что замеряются и/или рассчитываются значительно позже. Из-за этого в тестовой выборке отсутствуют некоторые признаки, которые могут быть в обучающей. Также в тестовом наборе нет целевых признаков.\n",
    "\n",
    "Исходный датасет содержит обучающую и тестовую выборки со всеми признаками.\n",
    "\n",
    "Данные сырые. Необхоима их проверка и предобработка."
   ]
  },
  {
   "cell_type": "markdown",
   "id": "1cb83d31",
   "metadata": {},
   "source": [
    "## Загрузка и подготовка данных"
   ]
  },
  {
   "cell_type": "code",
   "execution_count": 8,
   "id": "1356c7b1",
   "metadata": {},
   "outputs": [
    {
     "data": {
      "text/html": [
       "<style>.container {width:90% !important; }</style>"
      ],
      "text/plain": [
       "<IPython.core.display.HTML object>"
      ]
     },
     "metadata": {},
     "output_type": "display_data"
    }
   ],
   "source": [
    "from IPython.core.display import display, HTML\n",
    "display(HTML(\"<style>.container {width:90% !important; }</style>\"))"
   ]
  },
  {
   "cell_type": "markdown",
   "id": "ebea8be0",
   "metadata": {},
   "source": [
    "***Выгрузка библиотек***"
   ]
  },
  {
   "cell_type": "code",
   "execution_count": 3,
   "id": "44fc0436",
   "metadata": {},
   "outputs": [],
   "source": [
    "import pandas as pd"
   ]
  },
  {
   "cell_type": "markdown",
   "id": "d7ee2b90",
   "metadata": {},
   "source": [
    "***Константы***"
   ]
  },
  {
   "cell_type": "code",
   "execution_count": 6,
   "id": "765c3590",
   "metadata": {},
   "outputs": [],
   "source": [
    "RANDOM_SEED = 0"
   ]
  },
  {
   "cell_type": "code",
   "execution_count": 9,
   "id": "a78a310a",
   "metadata": {},
   "outputs": [],
   "source": [
    "# Based on: https://stackoverflow.com/a/17303428 (для красивого оформления текста)\n",
    "class color:\n",
    "   PURPLE = '\\033[95m'\n",
    "   CYAN = '\\033[96m'\n",
    "   DARKCYAN = '\\033[36m'\n",
    "   BLUE = '\\033[94m'\n",
    "   GREEN = '\\033[92m'\n",
    "   YELLOW = '\\033[93m'\n",
    "   RED = '\\033[91m'\n",
    "   BOLD = '\\033[1m'\n",
    "   UNDERLINE = '\\033[4m'\n",
    "   END = '\\033[0m'"
   ]
  },
  {
   "cell_type": "markdown",
   "id": "f1ff7bcc",
   "metadata": {},
   "source": [
    "***Функции***"
   ]
  },
  {
   "cell_type": "code",
   "execution_count": 7,
   "id": "6f3838f1",
   "metadata": {},
   "outputs": [],
   "source": [
    "#Рандоманая выгрузка строк\n",
    "show_sample = lambda x: display(x.sample(5, random_state=RANDOM_SEED).reset_index(drop=True))"
   ]
  },
  {
   "cell_type": "code",
   "execution_count": null,
   "id": "c0ec0193",
   "metadata": {},
   "outputs": [],
   "source": [
    "def com_info(data):\n",
    "    name = [x for x in globals() if globals()[x] is data][0]\n",
    "    print(color.UNDERLINE + 'Общая информация по данным '+ name + color.END)\n",
    "    show_sample(data)"
   ]
  },
  {
   "cell_type": "markdown",
   "id": "ba521f62",
   "metadata": {},
   "source": [
    "***Загрука данных***"
   ]
  },
  {
   "cell_type": "code",
   "execution_count": 5,
   "id": "02af9224",
   "metadata": {},
   "outputs": [],
   "source": [
    "df_train = pd.read_csv('../datasets/gold_recovery_train_new_8ds.csv')\n",
    "df_test = pd.read_csv('../datasets/gold_recovery_test_new_8ds.csv')\n",
    "df_full = pd.read_csv('../datasets/gold_recovery_full_new_8ds.csv')"
   ]
  },
  {
   "cell_type": "markdown",
   "id": "646baa7e",
   "metadata": {},
   "source": [
    "## Изучение общей информации"
   ]
  },
  {
   "cell_type": "markdown",
   "id": "024b00c7",
   "metadata": {},
   "source": [
    "## Предобработка"
   ]
  },
  {
   "cell_type": "code",
   "execution_count": null,
   "id": "6e072d72",
   "metadata": {},
   "outputs": [],
   "source": []
  }
 ],
 "metadata": {
  "kernelspec": {
   "display_name": "Python 3 (ipykernel)",
   "language": "python",
   "name": "python3"
  },
  "language_info": {
   "codemirror_mode": {
    "name": "ipython",
    "version": 3
   },
   "file_extension": ".py",
   "mimetype": "text/x-python",
   "name": "python",
   "nbconvert_exporter": "python",
   "pygments_lexer": "ipython3",
   "version": "3.9.7"
  }
 },
 "nbformat": 4,
 "nbformat_minor": 5
}
